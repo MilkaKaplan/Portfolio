{
 "cells": [
  {
   "cell_type": "markdown",
   "id": "0ce4edbb",
   "metadata": {},
   "source": [
    "# Макет дашборда / Dashboard layout\n",
    "<img src=\"https://i.ibb.co/cYT6W29/Image-1.png\" alt=\"Макет дашборда\"> "
   ]
  },
  {
   "cell_type": "code",
   "execution_count": 1,
   "id": "f848c33b",
   "metadata": {},
   "outputs": [],
   "source": [
    "#импортируем библиотеки\n",
    "#import libraries\n",
    "import pandas as pd\n",
    "from sqlalchemy import create_engine\n",
    "\n",
    "db_config = {'user': 'praktikum_student', # имя пользователя\n",
    "            'pwd': 'Sdf4$2;d-d30pp', # пароль\n",
    "            'host': 'rc1b-wcoijxj3yxfsf3fs.mdb.yandexcloud.net',\n",
    "            'port': 6432, # порт подключения\n",
    "            'db': 'data-analyst-zen-project-db'} # название базы данных\n",
    "\n",
    "connection_string = 'postgresql://{}:{}@{}:{}/{}'.format(db_config['user'],\n",
    "                                                db_config['pwd'],\n",
    "                                                db_config['host'],\n",
    "                                                db_config['port'],\n",
    "                                                db_config['db'])\n",
    "\n",
    "#подключаемся к БД\n",
    "#connect to the database\n",
    "engine = create_engine(connection_string)"
   ]
  },
  {
   "cell_type": "code",
   "execution_count": 2,
   "id": "a0358f9c",
   "metadata": {},
   "outputs": [],
   "source": [
    "#получаем сырые данные\n",
    "#выполнить sql-запрос\n",
    "\n",
    "#get raw data\n",
    "#execute sql query\n",
    "query = '''\n",
    "            SELECT *\n",
    "            FROM dash_visits\n",
    "        '''\n",
    "dash_visits = pd.io.sql.read_sql(query, con = engine)\n"
   ]
  },
  {
   "cell_type": "code",
   "execution_count": 3,
   "id": "7cf1a27b",
   "metadata": {},
   "outputs": [
    {
     "data": {
      "text/html": [
       "<div>\n",
       "<style scoped>\n",
       "    .dataframe tbody tr th:only-of-type {\n",
       "        vertical-align: middle;\n",
       "    }\n",
       "\n",
       "    .dataframe tbody tr th {\n",
       "        vertical-align: top;\n",
       "    }\n",
       "\n",
       "    .dataframe thead th {\n",
       "        text-align: right;\n",
       "    }\n",
       "</style>\n",
       "<table border=\"1\" class=\"dataframe\">\n",
       "  <thead>\n",
       "    <tr style=\"text-align: right;\">\n",
       "      <th></th>\n",
       "      <th>record_id</th>\n",
       "      <th>item_topic</th>\n",
       "      <th>source_topic</th>\n",
       "      <th>age_segment</th>\n",
       "      <th>dt</th>\n",
       "      <th>visits</th>\n",
       "    </tr>\n",
       "  </thead>\n",
       "  <tbody>\n",
       "    <tr>\n",
       "      <th>0</th>\n",
       "      <td>1040597</td>\n",
       "      <td>Деньги</td>\n",
       "      <td>Авто</td>\n",
       "      <td>18-25</td>\n",
       "      <td>2019-09-24 18:32:00</td>\n",
       "      <td>3</td>\n",
       "    </tr>\n",
       "    <tr>\n",
       "      <th>1</th>\n",
       "      <td>1040598</td>\n",
       "      <td>Деньги</td>\n",
       "      <td>Авто</td>\n",
       "      <td>18-25</td>\n",
       "      <td>2019-09-24 18:35:00</td>\n",
       "      <td>1</td>\n",
       "    </tr>\n",
       "    <tr>\n",
       "      <th>2</th>\n",
       "      <td>1040599</td>\n",
       "      <td>Деньги</td>\n",
       "      <td>Авто</td>\n",
       "      <td>18-25</td>\n",
       "      <td>2019-09-24 18:54:00</td>\n",
       "      <td>4</td>\n",
       "    </tr>\n",
       "    <tr>\n",
       "      <th>3</th>\n",
       "      <td>1040600</td>\n",
       "      <td>Деньги</td>\n",
       "      <td>Авто</td>\n",
       "      <td>18-25</td>\n",
       "      <td>2019-09-24 18:55:00</td>\n",
       "      <td>17</td>\n",
       "    </tr>\n",
       "    <tr>\n",
       "      <th>4</th>\n",
       "      <td>1040601</td>\n",
       "      <td>Деньги</td>\n",
       "      <td>Авто</td>\n",
       "      <td>18-25</td>\n",
       "      <td>2019-09-24 18:56:00</td>\n",
       "      <td>27</td>\n",
       "    </tr>\n",
       "  </tbody>\n",
       "</table>\n",
       "</div>"
      ],
      "text/plain": [
       "   record_id item_topic source_topic age_segment                  dt  visits\n",
       "0    1040597     Деньги         Авто       18-25 2019-09-24 18:32:00       3\n",
       "1    1040598     Деньги         Авто       18-25 2019-09-24 18:35:00       1\n",
       "2    1040599     Деньги         Авто       18-25 2019-09-24 18:54:00       4\n",
       "3    1040600     Деньги         Авто       18-25 2019-09-24 18:55:00      17\n",
       "4    1040601     Деньги         Авто       18-25 2019-09-24 18:56:00      27"
      ]
     },
     "execution_count": 3,
     "metadata": {},
     "output_type": "execute_result"
    }
   ],
   "source": [
    "dash_visits.to_csv('dash_visits.csv', index = False)\n",
    "\n",
    "dash_visits.head() "
   ]
  },
  {
   "cell_type": "code",
   "execution_count": 4,
   "id": "fa29e6d5",
   "metadata": {},
   "outputs": [
    {
     "name": "stdout",
     "output_type": "stream",
     "text": [
      "<class 'pandas.core.frame.DataFrame'>\n",
      "RangeIndex: 30745 entries, 0 to 30744\n",
      "Data columns (total 6 columns):\n",
      " #   Column        Non-Null Count  Dtype         \n",
      "---  ------        --------------  -----         \n",
      " 0   record_id     30745 non-null  int64         \n",
      " 1   item_topic    30745 non-null  object        \n",
      " 2   source_topic  30745 non-null  object        \n",
      " 3   age_segment   30745 non-null  object        \n",
      " 4   dt            30745 non-null  datetime64[ns]\n",
      " 5   visits        30745 non-null  int64         \n",
      "dtypes: datetime64[ns](1), int64(2), object(3)\n",
      "memory usage: 1.4+ MB\n"
     ]
    }
   ],
   "source": [
    "#общая информация\n",
    "#general info\n",
    "dash_visits.info()"
   ]
  },
  {
   "cell_type": "code",
   "execution_count": 5,
   "id": "3910d8d0",
   "metadata": {},
   "outputs": [
    {
     "data": {
      "text/plain": [
       "0        False\n",
       "1        False\n",
       "2        False\n",
       "3        False\n",
       "4        False\n",
       "         ...  \n",
       "30740    False\n",
       "30741    False\n",
       "30742    False\n",
       "30743    False\n",
       "30744    False\n",
       "Length: 30745, dtype: bool"
      ]
     },
     "execution_count": 5,
     "metadata": {},
     "output_type": "execute_result"
    }
   ],
   "source": [
    "#проверяем наличие дубликатов\n",
    "#check dublicates\n",
    "dash_visits.duplicated(subset=['record_id'])"
   ]
  },
  {
   "cell_type": "code",
   "execution_count": 6,
   "id": "051a0b56",
   "metadata": {},
   "outputs": [
    {
     "data": {
      "text/html": [
       "<div>\n",
       "<style scoped>\n",
       "    .dataframe tbody tr th:only-of-type {\n",
       "        vertical-align: middle;\n",
       "    }\n",
       "\n",
       "    .dataframe tbody tr th {\n",
       "        vertical-align: top;\n",
       "    }\n",
       "\n",
       "    .dataframe thead th {\n",
       "        text-align: right;\n",
       "    }\n",
       "</style>\n",
       "<table border=\"1\" class=\"dataframe\">\n",
       "  <thead>\n",
       "    <tr style=\"text-align: right;\">\n",
       "      <th></th>\n",
       "      <th>record_id</th>\n",
       "      <th>item_topic</th>\n",
       "      <th>source_topic</th>\n",
       "      <th>age_segment</th>\n",
       "      <th>dt</th>\n",
       "      <th>visits</th>\n",
       "    </tr>\n",
       "  </thead>\n",
       "  <tbody>\n",
       "    <tr>\n",
       "      <th>0</th>\n",
       "      <td>1040597</td>\n",
       "      <td>Деньги</td>\n",
       "      <td>Авто</td>\n",
       "      <td>18-25</td>\n",
       "      <td>2019-09-24 18:32:00</td>\n",
       "      <td>3</td>\n",
       "    </tr>\n",
       "    <tr>\n",
       "      <th>1</th>\n",
       "      <td>1040598</td>\n",
       "      <td>Деньги</td>\n",
       "      <td>Авто</td>\n",
       "      <td>18-25</td>\n",
       "      <td>2019-09-24 18:35:00</td>\n",
       "      <td>1</td>\n",
       "    </tr>\n",
       "    <tr>\n",
       "      <th>2</th>\n",
       "      <td>1040599</td>\n",
       "      <td>Деньги</td>\n",
       "      <td>Авто</td>\n",
       "      <td>18-25</td>\n",
       "      <td>2019-09-24 18:54:00</td>\n",
       "      <td>4</td>\n",
       "    </tr>\n",
       "    <tr>\n",
       "      <th>3</th>\n",
       "      <td>1040600</td>\n",
       "      <td>Деньги</td>\n",
       "      <td>Авто</td>\n",
       "      <td>18-25</td>\n",
       "      <td>2019-09-24 18:55:00</td>\n",
       "      <td>17</td>\n",
       "    </tr>\n",
       "    <tr>\n",
       "      <th>4</th>\n",
       "      <td>1040601</td>\n",
       "      <td>Деньги</td>\n",
       "      <td>Авто</td>\n",
       "      <td>18-25</td>\n",
       "      <td>2019-09-24 18:56:00</td>\n",
       "      <td>27</td>\n",
       "    </tr>\n",
       "    <tr>\n",
       "      <th>...</th>\n",
       "      <td>...</td>\n",
       "      <td>...</td>\n",
       "      <td>...</td>\n",
       "      <td>...</td>\n",
       "      <td>...</td>\n",
       "      <td>...</td>\n",
       "    </tr>\n",
       "    <tr>\n",
       "      <th>30740</th>\n",
       "      <td>1071337</td>\n",
       "      <td>Юмор</td>\n",
       "      <td>Финансы</td>\n",
       "      <td>36-40</td>\n",
       "      <td>2019-09-24 18:57:00</td>\n",
       "      <td>2</td>\n",
       "    </tr>\n",
       "    <tr>\n",
       "      <th>30741</th>\n",
       "      <td>1071338</td>\n",
       "      <td>Юмор</td>\n",
       "      <td>Финансы</td>\n",
       "      <td>36-40</td>\n",
       "      <td>2019-09-24 19:00:00</td>\n",
       "      <td>1</td>\n",
       "    </tr>\n",
       "    <tr>\n",
       "      <th>30742</th>\n",
       "      <td>1071339</td>\n",
       "      <td>Юмор</td>\n",
       "      <td>Финансы</td>\n",
       "      <td>41-45</td>\n",
       "      <td>2019-09-24 18:54:00</td>\n",
       "      <td>1</td>\n",
       "    </tr>\n",
       "    <tr>\n",
       "      <th>30743</th>\n",
       "      <td>1071340</td>\n",
       "      <td>Юмор</td>\n",
       "      <td>Финансы</td>\n",
       "      <td>41-45</td>\n",
       "      <td>2019-09-24 18:56:00</td>\n",
       "      <td>1</td>\n",
       "    </tr>\n",
       "    <tr>\n",
       "      <th>30744</th>\n",
       "      <td>1071341</td>\n",
       "      <td>Юмор</td>\n",
       "      <td>Финансы</td>\n",
       "      <td>41-45</td>\n",
       "      <td>2019-09-24 19:00:00</td>\n",
       "      <td>1</td>\n",
       "    </tr>\n",
       "  </tbody>\n",
       "</table>\n",
       "<p>30745 rows × 6 columns</p>\n",
       "</div>"
      ],
      "text/plain": [
       "       record_id item_topic source_topic age_segment                  dt  \\\n",
       "0        1040597     Деньги         Авто       18-25 2019-09-24 18:32:00   \n",
       "1        1040598     Деньги         Авто       18-25 2019-09-24 18:35:00   \n",
       "2        1040599     Деньги         Авто       18-25 2019-09-24 18:54:00   \n",
       "3        1040600     Деньги         Авто       18-25 2019-09-24 18:55:00   \n",
       "4        1040601     Деньги         Авто       18-25 2019-09-24 18:56:00   \n",
       "...          ...        ...          ...         ...                 ...   \n",
       "30740    1071337       Юмор      Финансы       36-40 2019-09-24 18:57:00   \n",
       "30741    1071338       Юмор      Финансы       36-40 2019-09-24 19:00:00   \n",
       "30742    1071339       Юмор      Финансы       41-45 2019-09-24 18:54:00   \n",
       "30743    1071340       Юмор      Финансы       41-45 2019-09-24 18:56:00   \n",
       "30744    1071341       Юмор      Финансы       41-45 2019-09-24 19:00:00   \n",
       "\n",
       "       visits  \n",
       "0           3  \n",
       "1           1  \n",
       "2           4  \n",
       "3          17  \n",
       "4          27  \n",
       "...       ...  \n",
       "30740       2  \n",
       "30741       1  \n",
       "30742       1  \n",
       "30743       1  \n",
       "30744       1  \n",
       "\n",
       "[30745 rows x 6 columns]"
      ]
     },
     "execution_count": 6,
     "metadata": {},
     "output_type": "execute_result"
    }
   ],
   "source": [
    "dash_visits[~dash_visits.duplicated(subset=['record_id'])]"
   ]
  },
  {
   "cell_type": "markdown",
   "id": "582821a8",
   "metadata": {},
   "source": [
    "**Ссылка на дашборд / Link to dashboard**: https://public.tableau.com/views/eventsbytopics/Dash_Dzen?:language=en-GB&publish=yes&:display_count=n&:origin=viz_share_link"
   ]
  },
  {
   "cell_type": "markdown",
   "id": "30c9ee81",
   "metadata": {},
   "source": [
    "**Ссылка на презентацию в pdf / Link to presentation in pdf**: https://drive.google.com/file/d/1SMSggqLoRkOvQyZ5-sDeAWkIN4oWqyln/view?usp=sharing"
   ]
  },
  {
   "cell_type": "code",
   "execution_count": null,
   "id": "a42c826d",
   "metadata": {},
   "outputs": [],
   "source": []
  }
 ],
 "metadata": {
  "ExecuteTimeLog": [
   {
    "duration": 5,
    "start_time": "2023-02-28T03:29:33.598Z"
   },
   {
    "duration": 7,
    "start_time": "2023-02-28T04:03:35.013Z"
   },
   {
    "duration": 109,
    "start_time": "2023-02-28T04:03:36.397Z"
   },
   {
    "duration": 469,
    "start_time": "2023-02-28T04:03:58.246Z"
   },
   {
    "duration": 9,
    "start_time": "2023-02-28T04:05:03.006Z"
   },
   {
    "duration": 350,
    "start_time": "2023-02-28T04:05:36.485Z"
   },
   {
    "duration": 350,
    "start_time": "2023-02-28T04:05:45.837Z"
   },
   {
    "duration": 6074,
    "start_time": "2023-02-28T04:15:12.324Z"
   },
   {
    "duration": 467,
    "start_time": "2023-02-28T04:15:18.400Z"
   },
   {
    "duration": 301,
    "start_time": "2023-02-28T04:15:18.869Z"
   },
   {
    "duration": 85,
    "start_time": "2023-02-28T04:15:19.191Z"
   },
   {
    "duration": 0,
    "start_time": "2023-02-28T04:15:19.278Z"
   },
   {
    "duration": 0,
    "start_time": "2023-02-28T04:15:19.279Z"
   },
   {
    "duration": 0,
    "start_time": "2023-02-28T04:15:19.297Z"
   },
   {
    "duration": 0,
    "start_time": "2023-02-28T04:15:19.297Z"
   },
   {
    "duration": 292,
    "start_time": "2023-02-28T04:15:20.806Z"
   },
   {
    "duration": 21,
    "start_time": "2023-02-28T04:15:21.619Z"
   },
   {
    "duration": 13,
    "start_time": "2023-02-28T04:16:16.415Z"
   },
   {
    "duration": 9,
    "start_time": "2023-02-28T04:38:13.322Z"
   },
   {
    "duration": 10,
    "start_time": "2023-02-28T04:38:48.413Z"
   },
   {
    "duration": 7,
    "start_time": "2023-02-28T04:38:58.439Z"
   },
   {
    "duration": 9,
    "start_time": "2023-02-28T04:40:20.622Z"
   },
   {
    "duration": 9,
    "start_time": "2023-02-28T04:40:26.177Z"
   },
   {
    "duration": 69,
    "start_time": "2023-02-28T04:40:44.676Z"
   },
   {
    "duration": 13,
    "start_time": "2023-02-28T04:40:51.341Z"
   },
   {
    "duration": 10,
    "start_time": "2023-02-28T04:41:02.534Z"
   },
   {
    "duration": 12,
    "start_time": "2023-02-28T04:41:15.520Z"
   },
   {
    "duration": 36,
    "start_time": "2023-02-28T04:42:03.046Z"
   },
   {
    "duration": 28,
    "start_time": "2023-02-28T04:42:22.736Z"
   },
   {
    "duration": 22,
    "start_time": "2023-02-28T04:44:28.584Z"
   },
   {
    "duration": 25,
    "start_time": "2023-02-28T04:45:32.929Z"
   },
   {
    "duration": 5,
    "start_time": "2023-02-28T09:18:26.291Z"
   },
   {
    "duration": 236,
    "start_time": "2023-02-28T09:18:26.299Z"
   },
   {
    "duration": 295,
    "start_time": "2023-02-28T09:18:26.538Z"
   },
   {
    "duration": 15,
    "start_time": "2023-02-28T09:18:26.835Z"
   },
   {
    "duration": 36,
    "start_time": "2023-02-28T09:18:26.852Z"
   },
   {
    "duration": 24,
    "start_time": "2023-02-28T09:18:26.890Z"
   },
   {
    "duration": 161,
    "start_time": "2023-02-28T09:18:26.985Z"
   },
   {
    "duration": 270,
    "start_time": "2023-02-28T09:18:28.496Z"
   },
   {
    "duration": 17,
    "start_time": "2023-02-28T09:18:29.751Z"
   },
   {
    "duration": 10,
    "start_time": "2023-02-28T09:18:30.605Z"
   },
   {
    "duration": 73,
    "start_time": "2023-04-19T00:34:34.627Z"
   },
   {
    "duration": 8,
    "start_time": "2023-04-19T00:34:52.628Z"
   },
   {
    "duration": 4,
    "start_time": "2023-04-19T00:35:27.720Z"
   },
   {
    "duration": 616,
    "start_time": "2023-04-19T00:35:27.727Z"
   },
   {
    "duration": 345,
    "start_time": "2023-04-19T00:35:28.345Z"
   },
   {
    "duration": 14,
    "start_time": "2023-04-19T00:35:28.692Z"
   },
   {
    "duration": 7,
    "start_time": "2023-04-19T00:35:28.707Z"
   },
   {
    "duration": 32,
    "start_time": "2023-04-19T00:35:28.715Z"
   },
   {
    "duration": 590,
    "start_time": "2023-04-19T00:52:52.878Z"
   },
   {
    "duration": 8109,
    "start_time": "2023-04-19T01:06:45.811Z"
   },
   {
    "duration": 573,
    "start_time": "2023-04-19T01:06:53.921Z"
   },
   {
    "duration": 326,
    "start_time": "2023-04-19T01:06:54.496Z"
   },
   {
    "duration": 24,
    "start_time": "2023-04-19T01:06:54.824Z"
   },
   {
    "duration": 35,
    "start_time": "2023-04-19T01:06:54.851Z"
   },
   {
    "duration": 16,
    "start_time": "2023-04-19T01:06:54.888Z"
   }
  ],
  "kernelspec": {
   "display_name": "Python 3 (ipykernel)",
   "language": "python",
   "name": "python3"
  },
  "language_info": {
   "codemirror_mode": {
    "name": "ipython",
    "version": 3
   },
   "file_extension": ".py",
   "mimetype": "text/x-python",
   "name": "python",
   "nbconvert_exporter": "python",
   "pygments_lexer": "ipython3",
   "version": "3.9.5"
  },
  "toc": {
   "base_numbering": 1,
   "nav_menu": {},
   "number_sections": true,
   "sideBar": true,
   "skip_h1_title": true,
   "title_cell": "Table of Contents",
   "title_sidebar": "Contents",
   "toc_cell": false,
   "toc_position": {},
   "toc_section_display": true,
   "toc_window_display": false
  }
 },
 "nbformat": 4,
 "nbformat_minor": 5
}
