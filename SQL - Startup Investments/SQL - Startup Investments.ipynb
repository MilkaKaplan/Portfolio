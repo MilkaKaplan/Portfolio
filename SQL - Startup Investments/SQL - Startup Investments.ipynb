{
 "cells": [
  {
   "cell_type": "markdown",
   "id": "d11d1745",
   "metadata": {},
   "source": [
    "# Введение\n",
    "На основе базы данных - Startup Investments, опубликованной на популярной платформе для соревнований по исследованию данных Kaggle и храниящей информацию о венчурных фондах и инвестициях в компании-стартапы - произвести различные загрузки данных венчурных фондов с использованием SQL\n",
    "___\n",
    "**introduction**\n",
    "\n",
    "Based on data - Startup Investments, published on the data mining platform Kaggle and storing information about venture capital funds and investments in start-up companies - quantitative data on venture investments using SQL"
   ]
  },
  {
   "cell_type": "code",
   "execution_count": 1,
   "id": "190249ec",
   "metadata": {},
   "outputs": [],
   "source": [
    "# импортируем библиотеки\n",
    "import pandas as pd\n",
    "from sqlalchemy import create_engine\n",
    "import warnings; warnings.filterwarnings(action='once')\n"
   ]
  },
  {
   "cell_type": "markdown",
   "id": "c7ff2a72",
   "metadata": {},
   "source": [
    "**1 Cчитаем сколько компаний закрылось**\n",
    "___\n",
    "1 Count how many companies closed"
   ]
  },
  {
   "cell_type": "code",
   "execution_count": null,
   "id": "7011c7e7",
   "metadata": {},
   "outputs": [],
   "source": [
    "#считаем сколько компаний закрылось\n",
    "# counting how many companies closed\n",
    "SELECT COUNT(status)\n",
    "FROM company\n",
    "WHERE status = 'closed';"
   ]
  },
  {
   "cell_type": "markdown",
   "id": "6dc3f2fd",
   "metadata": {},
   "source": [
    "**2 Отобразим количество привлечённых средств для новостных компаний США из таблицы company.** \n",
    "Отсортируем таблицу по убыванию значений в поле funding_total.\n",
    "___\n",
    "Let's display the amount of funds raised for US news companies from the company table. Sort the table in descending order of values in the funding_total field."
   ]
  },
  {
   "cell_type": "code",
   "execution_count": null,
   "id": "83df268e",
   "metadata": {},
   "outputs": [],
   "source": [
    "SELECT funding_total\n",
    "FROM company\n",
    "WHERE category_code = 'news' AND country_code = 'USA'\n",
    "ORDER BY funding_total DESC ;"
   ]
  },
  {
   "cell_type": "markdown",
   "id": "977603e9",
   "metadata": {},
   "source": [
    "**3 Найдем общую сумму сделок по покупке одних компаний другими в долларах.** \n",
    "\n",
    "Отберем сделки, которые осуществлялись только за наличные с 2011 по 2013 год включительно.\n",
    "___\n",
    "Find the total amount of transactions for the purchase of some companies by others in dollars.\n",
    "\n",
    "We will select transactions that were carried out only for cash from 2011 to 2013 inclusive."
   ]
  },
  {
   "cell_type": "code",
   "execution_count": null,
   "id": "e73a8682",
   "metadata": {},
   "outputs": [],
   "source": [
    "SELECT SUM(price_amount)\n",
    "FROM acquisition\n",
    "WHERE term_code = 'cash' AND \n",
    "EXTRACT(YEAR FROM CAST(acquired_at AS date)) BETWEEN '2011' AND '2013' ;"
   ]
  },
  {
   "cell_type": "markdown",
   "id": "df79010b",
   "metadata": {},
   "source": [
    "**4 Отобразим имя, фамилию и названия аккаунтов людей в твиттере, у которых названия аккаунтов начинаются на 'Silver'.**\n",
    "___\n",
    "Let's display the first name, last name, and account names of people on Twitter whose account names begin with 'Silver'."
   ]
  },
  {
   "cell_type": "code",
   "execution_count": null,
   "id": "caac0f9f",
   "metadata": {},
   "outputs": [],
   "source": [
    "SELECT first_name,\n",
    "       last_name,\n",
    "       twitter_username\n",
    "FROM people\n",
    "WHERE twitter_username LIKE 'Silver%' ;"
   ]
  },
  {
   "cell_type": "markdown",
   "id": "4ab688d4",
   "metadata": {},
   "source": [
    "**5 Выведим на экран всю информацию о людях, у которых названия аккаунтов в твиттере содержат подстроку 'money', а фамилия начинается на 'K'.**\n",
    "___\n",
    "Let's display all the information about people whose twitter account names contain the substring 'money' and whose last name starts with 'K'."
   ]
  },
  {
   "cell_type": "code",
   "execution_count": null,
   "id": "f7caa930",
   "metadata": {},
   "outputs": [],
   "source": [
    "SELECT *\n",
    "FROM people\n",
    "WHERE twitter_username LIKE '%money%' AND last_name LIKE 'K%' ;"
   ]
  },
  {
   "cell_type": "markdown",
   "id": "76a76a41",
   "metadata": {},
   "source": [
    "**6 Для каждой страны отобразим общую сумму привлечённых инвестиций, которые получили компании, зарегистрированные в этой стране.**\n",
    "\n",
    "Страну, в которой зарегистрирована компания, можно определить по коду страны. Отсортируем данные по убыванию суммы.\n",
    "___\n",
    "For each country, we will display the total amount of attracted investments received by companies registered in this country.\n",
    "\n",
    "The country in which the company is registered can be identified by the country code. Sort the data in descending order."
   ]
  },
  {
   "cell_type": "code",
   "execution_count": null,
   "id": "0244840c",
   "metadata": {},
   "outputs": [],
   "source": [
    "SELECT SUM(funding_total) AS total_sum,\n",
    "       country_code\n",
    "FROM company\n",
    "GROUP BY country_code\n",
    "ORDER BY total_sum DESC ;"
   ]
  },
  {
   "cell_type": "markdown",
   "id": "6f877621",
   "metadata": {},
   "source": [
    "**7 Составим таблицу, в которую войдёт дата проведения раунда, а также минимальное и максимальное значения суммы инвестиций, привлечённых в эту дату.**\n",
    "\n",
    "Оставим в итоговой таблице только те записи, в которых минимальное значение суммы инвестиций не равно нулю и не равно максимальному значению.\n",
    "___\n",
    "Let's make a table that will include the date of the round, as well as the minimum and maximum values of the amount of investments attracted on this date.\n",
    "\n",
    "Let's leave in the final table only those records in which the minimum value of the investment amount is not equal to zero and is not equal to the maximum value."
   ]
  },
  {
   "cell_type": "code",
   "execution_count": null,
   "id": "f5383121",
   "metadata": {},
   "outputs": [],
   "source": [
    "SELECT funded_at,\n",
    "       MIN(raised_amount),\n",
    "       MAX(raised_amount)\n",
    "FROM funding_round\n",
    "GROUP BY funded_at\n",
    "HAVING MIN(raised_amount) != 0 AND MIN(raised_amount) <> MAX(raised_amount)  ;"
   ]
  },
  {
   "cell_type": "markdown",
   "id": "249b61f7",
   "metadata": {},
   "source": [
    "**8 Создадим поле с категориями:**\n",
    "\n",
    "Для фондов, которые инвестируют в 100 и более компаний - high_activity.\n",
    "\n",
    "Для фондов, которые инвестируют в 20 и более компаний до 100 - middle_activity.\n",
    "\n",
    "Если количество инвестируемых компаний фонда не достигает 20 - low_activity.\n",
    "___\n",
    "\n",
    "Let's create a field with categories:\n",
    "\n",
    "For funds that invest in 100 or more companies - high_activity.\n",
    "\n",
    "For funds that invest in 20 or more companies up to 100 - middle_activity.\n",
    "\n",
    "If the number of invested fund companies does not reach 20 - low_activity."
   ]
  },
  {
   "cell_type": "code",
   "execution_count": null,
   "id": "07c23c29",
   "metadata": {},
   "outputs": [],
   "source": [
    "SELECT *,\n",
    "       CASE\n",
    "           WHEN invested_companies >= 100 THEN 'high_activity' \n",
    "           WHEN invested_companies < 20 THEN 'low_activity'\n",
    "           ELSE 'middle_activity'\n",
    "       END\n",
    "FROM fund ;"
   ]
  },
  {
   "cell_type": "markdown",
   "id": "c7c395f8",
   "metadata": {},
   "source": [
    "**9 Для каждой из категорий, посчитаем округлённое до ближайшего целого числа среднее количество инвестиционных раундов, в которых фонд принимал участие**\n",
    "___\n",
    "For each of the categories, we will calculate the average number of investment rounds, rounded to the nearest whole number, in which the fund has participated"
   ]
  },
  {
   "cell_type": "code",
   "execution_count": null,
   "id": "155d193d",
   "metadata": {},
   "outputs": [],
   "source": [
    "SELECT CASE\n",
    "           WHEN invested_companies>=100 THEN 'high_activity'\n",
    "           WHEN invested_companies>=20 THEN 'middle_activity'\n",
    "           ELSE 'low_activity'\n",
    "       END AS activity,\n",
    "       ROUND(AVG(investment_rounds)) AS avg_investment_rounds\n",
    "FROM fund\n",
    "GROUP BY activity\n",
    "ORDER BY avg_investment_rounds\n",
    ";"
   ]
  },
  {
   "cell_type": "markdown",
   "id": "91175a33",
   "metadata": {},
   "source": [
    "**10 Проанализируем, в каких странах находятся фонды, которые чаще всего инвестируют в стартапы.** \n",
    "___\n",
    "Let's analyze in which countries there are funds that most often invest in startups"
   ]
  },
  {
   "cell_type": "code",
   "execution_count": null,
   "id": "c664777c",
   "metadata": {},
   "outputs": [],
   "source": [
    "SELECT country_code,\n",
    "       MIN(invested_companies),\n",
    "       MAX(invested_companies),\n",
    "       AVG(invested_companies) AS avg_ic\n",
    "FROM fund\n",
    "WHERE EXTRACT(YEAR FROM CAST(founded_at AS date)) BETWEEN 2010 AND 2012\n",
    "GROUP BY country_code\n",
    "HAVING MIN(invested_companies) != 0\n",
    "ORDER BY avg_ic DESC, country_code\n",
    "LIMIT 10"
   ]
  },
  {
   "cell_type": "markdown",
   "id": "85108df5",
   "metadata": {},
   "source": [
    "**11 Отобразим имя и фамилию всех сотрудников стартапов и поле с названием учебного заведения, которое окончил сотрудник, если эта информация известна.**\n",
    "___\n",
    "Display the first and last names of all startup employees and the field with the name of the educational institution that the employee graduated from, if this information is known"
   ]
  },
  {
   "cell_type": "code",
   "execution_count": null,
   "id": "1e0a14fe",
   "metadata": {},
   "outputs": [],
   "source": [
    "SELECT p.first_name,\n",
    "       p.last_name,\n",
    "       e.instituition\n",
    "FROM people AS p\n",
    "LEFT JOIN education AS e ON e.person_id=p.id  ;"
   ]
  },
  {
   "cell_type": "markdown",
   "id": "b09622cf",
   "metadata": {},
   "source": [
    "**12 Для каждой компании найдем количество учебных заведений, которые окончили её сотрудники**\n",
    "___\n",
    "For each company, find the number of educational institutions that its employees graduated from**"
   ]
  },
  {
   "cell_type": "code",
   "execution_count": null,
   "id": "ee04681f",
   "metadata": {},
   "outputs": [],
   "source": [
    "SELECT c.name,\n",
    "       COUNT(DISTINCT e.instituition) as count_instituition\n",
    "FROM company AS c\n",
    "JOIN people AS p ON c.id=p.company_id\n",
    "JOIN education AS e ON e.person_id=p.id\n",
    "GROUP BY c.name \n",
    "ORDER BY count_instituition DESC \n",
    "LIMIT 5;"
   ]
  },
  {
   "cell_type": "markdown",
   "id": "1ef44d2c",
   "metadata": {},
   "source": [
    "**13 Составим список с уникальными названиями закрытых компаний, для которых первый раунд финансирования оказался последним.**\n",
    "___\n",
    "Let's make a list with unique names of closed companies for which the first funding round turned out to be the last"
   ]
  },
  {
   "cell_type": "code",
   "execution_count": null,
   "id": "392f095b",
   "metadata": {},
   "outputs": [],
   "source": [
    "SELECT DISTINCT name\n",
    "FROM company AS c\n",
    "\n",
    "INNER JOIN funding_round AS rf ON rf.company_id=c.id\n",
    "WHERE c.status = 'closed' \n",
    "AND is_first_round = 1 \n",
    "AND is_last_round = 1\n",
    "\n",
    "GROUP BY name;"
   ]
  },
  {
   "cell_type": "markdown",
   "id": "4bf83d78",
   "metadata": {},
   "source": [
    "**14 Составим список уникальных номеров сотрудников, которые работают в компаниях, отобранных в предыдущем задании.**\n",
    "___\n",
    "Let's make a list of unique numbers of employees who work in the companies selected in the previous task"
   ]
  },
  {
   "cell_type": "code",
   "execution_count": null,
   "id": "d4c828c9",
   "metadata": {},
   "outputs": [],
   "source": [
    "SELECT p.id\n",
    "FROM people AS p\n",
    "WHERE p.company_id IN (SELECT c.id\n",
    "FROM company AS c\n",
    "INNER JOIN funding_round AS rf ON rf.company_id=c.id\n",
    "WHERE c.status = 'closed' \n",
    "AND is_first_round = 1 \n",
    "AND is_last_round = 1\n",
    "GROUP BY c.id) ;"
   ]
  },
  {
   "cell_type": "markdown",
   "id": "ecb2d705",
   "metadata": {},
   "source": [
    "**15 Составим таблицу, куда войдут уникальные пары с номерами сотрудников из предыдущей задачи и учебным заведением, которое окончил сотрудник.**\n",
    "___\n",
    "Let's make a table that will include unique pairs with employee numbers from the previous task and the educational institution that the employee graduated from"
   ]
  },
  {
   "cell_type": "code",
   "execution_count": null,
   "id": "991183a4",
   "metadata": {},
   "outputs": [],
   "source": [
    "SELECT DISTINCT p.id,\n",
    "       e.instituition\n",
    "       \n",
    "FROM people AS p\n",
    "INNER JOIN company AS c ON p.company_id = c.id\n",
    "INNER JOIN education AS e ON p.id = e.person_id\n",
    "WHERE c.name IN (SELECT c.name\n",
    "FROM company AS c\n",
    "INNER JOIN funding_round AS rf ON rf.company_id=c.id\n",
    "WHERE c.status = 'closed' \n",
    "AND is_first_round = 1 \n",
    "AND is_last_round = 1\n",
    "GROUP BY c.name) ;"
   ]
  },
  {
   "cell_type": "markdown",
   "id": "2d10c656",
   "metadata": {},
   "source": [
    "**16 Посчитаем количество учебных заведений для каждого сотрудника из предыдущего задания. Учтем, что некоторые сотрудники могли окончить одно и то же заведение дважды.**\n",
    "___\n",
    "Let's count the number of educational institutions for each employee from the previous task. We take into account that some employees could graduate from the same institution twice"
   ]
  },
  {
   "cell_type": "code",
   "execution_count": null,
   "id": "5c44a4b0",
   "metadata": {},
   "outputs": [],
   "source": [
    "SELECT p.id,\n",
    "       COUNT(e.instituition)\n",
    "       \n",
    "FROM people AS p\n",
    "JOIN company AS c ON p.company_id = c.id\n",
    "JOIN education AS e ON p.id = e.person_id\n",
    "WHERE p.company_id IN (SELECT c.id\n",
    "FROM company AS c\n",
    "INNER JOIN funding_round AS fr ON fr.company_id=c.id\n",
    "WHERE c.status = 'closed' \n",
    "AND is_first_round = 1 \n",
    "AND is_last_round = 1\n",
    "GROUP BY c.id) \n",
    "GROUP BY p.id ;"
   ]
  },
  {
   "cell_type": "markdown",
   "id": "c8949c9f",
   "metadata": {},
   "source": [
    "**17 Дополним предыдущий запрос - выведем среднее число учебных заведений (всех, не только уникальных), которые окончили сотрудники разных компаний.**\n",
    "___\n",
    "Let's supplement the previous query - we will display the average number of educational institutions (all, not only unique ones) that employees of different companies graduated from.**"
   ]
  },
  {
   "cell_type": "code",
   "execution_count": null,
   "id": "0d2b6209",
   "metadata": {},
   "outputs": [],
   "source": [
    "WITH\n",
    "count_i AS (SELECT p.id,\n",
    "       COUNT(e.instituition) AS count_inst\n",
    "FROM people AS p\n",
    "JOIN company AS c ON p.company_id = c.id\n",
    "JOIN education AS e ON p.id = e.person_id\n",
    "WHERE p.company_id IN (SELECT c.id\n",
    "FROM company AS c\n",
    "INNER JOIN funding_round AS fr ON fr.company_id=c.id\n",
    "WHERE c.status = 'closed' \n",
    "AND is_first_round = 1 \n",
    "AND is_last_round = 1\n",
    "GROUP BY c.id) \n",
    "GROUP BY p.id)\n",
    "                      \n",
    "SELECT AVG(count_inst)\n",
    "FROM count_i ;"
   ]
  },
  {
   "cell_type": "markdown",
   "id": "66e490d9",
   "metadata": {},
   "source": [
    "**18 Выведем среднее число учебных заведений (всех, не только уникальных), которые окончили сотрудники Facebook.**\n",
    "___\n",
    "Let's display the average number of educational institutions (all, not just unique ones) that Facebook employees graduated from"
   ]
  },
  {
   "cell_type": "code",
   "execution_count": null,
   "id": "f34d411f",
   "metadata": {},
   "outputs": [],
   "source": [
    "WITH\n",
    "count_i AS (SELECT p.id,\n",
    "       COUNT(e.instituition) AS count_inst\n",
    "FROM people AS p\n",
    "JOIN company AS c ON p.company_id = c.id\n",
    "JOIN education AS e ON p.id = e.person_id\n",
    "WHERE p.company_id IN (SELECT c.id\n",
    "FROM company AS c\n",
    "INNER JOIN funding_round AS fr ON fr.company_id=c.id\n",
    "WHERE c.name LIKE '%Facebook%' \n",
    "GROUP BY c.id) \n",
    "GROUP BY p.id)\n",
    "                      \n",
    "SELECT AVG(count_inst)\n",
    "FROM count_i ;"
   ]
  },
  {
   "cell_type": "markdown",
   "id": "d29da019",
   "metadata": {},
   "source": [
    "**19 Составим таблицу из полей:\n",
    "name_of_fund — название фонда;\n",
    "name_of_company — название компании;\n",
    "amount — сумма инвестиций, которую привлекла компания в раунде.** \n",
    "\n",
    "В таблицу войдут данные о компаниях, в истории которых было больше шести важных этапов, а раунды финансирования проходили с 2012 по 2013 год включительно.\n",
    "___\n",
    "Let's create a table from the fields:\n",
    "name_of_fund - name of the fund;\n",
    "name_of_company - company name;\n",
    "amount — the amount of investments that the company raised in the round.**\n",
    "\n",
    "The table will include data on companies whose history had more than six important milestones, and funding rounds took place from 2012 to 2013 inclusive"
   ]
  },
  {
   "cell_type": "code",
   "execution_count": null,
   "id": "f249b51d",
   "metadata": {},
   "outputs": [],
   "source": [
    "SELECT f.name AS name_of_fund,\n",
    "       c.name AS name_of_company,\n",
    "       fr.raised_amount AS amount \n",
    "FROM investment AS i\n",
    "         JOIN company AS c ON i.company_id=c.id\n",
    "         JOIN fund AS f ON f.id=i.fund_id \n",
    "         JOIN funding_round AS fr ON fr.id = i.funding_round_id\n",
    "         WHERE c.milestones > 6\n",
    "         AND \n",
    "         EXTRACT(YEAR FROM CAST(funded_at AS date)) \n",
    "         BETWEEN 2012 AND 2013 ;"
   ]
  },
  {
   "cell_type": "markdown",
   "id": "6ed10d58",
   "metadata": {},
   "source": [
    "**20 Выгрузим таблицу, в которой будут такие поля:**\n",
    "- название компании-покупателя;\n",
    "- сумма сделки;\n",
    "- название компании, которую купили;\n",
    "- сумма инвестиций, вложенных в купленную компанию;\n",
    "- доля, которая отображает, во сколько раз сумма покупки превысила сумму вложенных в компанию инвестиций, округлённая до ближайшего целого числа.\n",
    "\n",
    "Не будем учитывать те сделки, в которых сумма покупки равна нулю.\n",
    "___\n",
    "Let's upload a table with the following fields:\n",
    "- name of the company-buyer;\n",
    "- transaction amount;\n",
    "- the name of the company that was bought;\n",
    "- the amount of investments invested in the acquired company;\n",
    "- share, which shows how many times the purchase amount exceeded the amount invested in the company, rounded to the nearest whole number.\n",
    "\n",
    "We will not take into account those transactions in which the purchase amount is equal to zero."
   ]
  },
  {
   "cell_type": "code",
   "execution_count": null,
   "id": "08492be8",
   "metadata": {},
   "outputs": [],
   "source": [
    "SELECT c1.name,\n",
    "       a.price_amount,\n",
    "       c2.name,\n",
    "       c2.funding_total,\n",
    "       ROUND(a.price_amount / c2.funding_total)\n",
    "FROM acquisition AS a\n",
    "JOIN company AS c1 ON a.acquiring_company_id=c1.id \n",
    "JOIN company AS c2 ON a.acquired_company_id=c2.id\n",
    "WHERE a.price_amount > 0 \n",
    "AND c2.funding_total > 0\n",
    "ORDER BY a.price_amount DESC, c2.name\n",
    "LIMIT 10 ;"
   ]
  },
  {
   "cell_type": "markdown",
   "id": "23aeaa52",
   "metadata": {},
   "source": [
    "**21 Выгрузим таблицу, в которую войдут названия компаний из категории social, получившие финансирование с 2010 по 2013 год включительно.** \n",
    "\n",
    "Выведем также номер месяца, в котором проходил раунд финансирования.\n",
    "___\n",
    "Download a table that will include the names of companies from the social category that received funding from 2010 to 2013 inclusive.\n",
    "\n",
    "We will also display the number of the month in which the funding round took place."
   ]
  },
  {
   "cell_type": "code",
   "execution_count": null,
   "id": "91040ba4",
   "metadata": {},
   "outputs": [],
   "source": [
    "SELECT c.name,\n",
    "       EXTRACT(MONTH FROM fr.funded_at) AS month\n",
    "FROM company AS c\n",
    "JOIN funding_round AS fr ON fr.company_id=c.id\n",
    "WHERE c.category_code = 'social' \n",
    "AND EXTRACT(YEAR FROM fr.funded_at) BETWEEN 2010 AND 2013\n",
    "AND fr.raised_amount != 0 ;"
   ]
  },
  {
   "cell_type": "markdown",
   "id": "25174329",
   "metadata": {},
   "source": [
    "**22 Отберем данные по месяцам с 2010 по 2013 год, когда проходили инвестиционные раунды.**\n",
    "\n",
    "Предусмотрим поля:\n",
    "- номер месяца, в котором проходили раунды;\n",
    "- количество уникальных названий фондов из США, которые инвестировали в этом месяце;\n",
    "- количество компаний, купленных за этот месяц;\n",
    "- общая сумма сделок по покупкам в этом месяце.\n",
    "___\n",
    "Let's select data by months from 2010 to 2013, when investment rounds were held.\n",
    "\n",
    "Consider the fields:\n",
    "- the number of the month in which the rounds took place;\n",
    "- the number of unique fund names from the US that have invested this month;\n",
    "- the number of companies purchased this month;\n",
    "- the total amount of purchase transactions in this month."
   ]
  },
  {
   "cell_type": "code",
   "execution_count": null,
   "id": "b057d185",
   "metadata": {},
   "outputs": [],
   "source": [
    "WITH\n",
    "t_1 AS (SELECT EXTRACT(MONTH FROM CAST(fr.funded_at AS date)) AS number_of_month,\n",
    "               COUNT(DISTINCT(f.name)) AS count_unique_fund\n",
    "        FROM funding_round AS fr\n",
    "        JOIN investment AS i ON fr.id = i.funding_round_id\n",
    "        JOIN fund AS f ON i.fund_id = f.id\n",
    "        WHERE EXTRACT(YEAR FROM CAST(fr.funded_at AS date)) BETWEEN 2010 AND 2013\n",
    "        AND f.country_code LIKE '%USA%'\n",
    "        GROUP BY number_of_month),\n",
    "        \n",
    "t_2 AS (SELECT COUNT(a.id) AS count_buying_company,\n",
    "               SUM(a.price_amount) AS sum_byuing,\n",
    "               EXTRACT(MONTH FROM CAST(a.acquired_at AS date)) AS number_of_month\n",
    "        FROM acquisition AS a\n",
    "        WHERE EXTRACT(YEAR FROM CAST(a.acquired_at AS date)) BETWEEN 2010 AND 2013\n",
    "        GROUP BY number_of_month)\n",
    "SELECT t_1.number_of_month,\n",
    "       t_1.count_unique_fund,\n",
    "       t_2.count_buying_company,\n",
    "       t_2.sum_byuing\n",
    "FROM t_1 JOIN t_2 ON t_1.number_of_month = t_2.number_of_month ;\n"
   ]
  },
  {
   "cell_type": "markdown",
   "id": "ac0a1aac",
   "metadata": {},
   "source": [
    "**23 Составим сводную таблицу и выведем среднюю сумму инвестиций для стран, в которых есть стартапы, зарегистрированные в 2011, 2012 и 2013 годах.**\n",
    "___\n",
    "Let's compile a pivot table and display the average amount of investments for countries that have startups registered in 2011, 2012 and 2013."
   ]
  },
  {
   "cell_type": "code",
   "execution_count": null,
   "id": "91743f8d",
   "metadata": {},
   "outputs": [],
   "source": [
    "WITH\n",
    "a_2011 AS (SELECT country_code AS country,\n",
    "                  AVG(funding_total) AS total_avg_2011  \n",
    "          FROM company \n",
    "          WHERE EXTRACT(YEAR FROM CAST(founded_at AS date)) = 2011\n",
    "          GROUP BY country),\n",
    "                  \n",
    "b_2012 AS (SELECT country_code AS country,\n",
    "                  AVG(funding_total) AS total_avg_2012\n",
    "          FROM company \n",
    "          WHERE EXTRACT(YEAR FROM CAST(founded_at AS date)) = 2012\n",
    "          GROUP BY country),        \n",
    "           \n",
    "c_2013 AS (SELECT country_code AS country,\n",
    "                  AVG(funding_total) AS total_avg_2013\n",
    "          FROM company \n",
    "          WHERE EXTRACT(YEAR FROM CAST(founded_at AS date)) = 2013\n",
    "          GROUP BY country)\n",
    "   \n",
    "SELECT a_2011.country,  \n",
    "       total_avg_2011,\n",
    "       total_avg_2012,\n",
    "       total_avg_2013\n",
    "FROM a_2011\n",
    "INNER JOIN b_2012 ON a_2011.country = b_2012.country\n",
    "INNER JOIN c_2013 ON b_2012.country = c_2013.country\n",
    "ORDER BY total_avg_2011 DESC; "
   ]
  }
 ],
 "metadata": {
  "ExecuteTimeLog": [
   {
    "duration": 65,
    "start_time": "2023-04-15T02:55:22.832Z"
   },
   {
    "duration": 553,
    "start_time": "2023-04-15T02:55:49.712Z"
   },
   {
    "duration": 6816,
    "start_time": "2023-04-15T02:56:18.312Z"
   },
   {
    "duration": 68,
    "start_time": "2023-04-15T02:56:25.129Z"
   },
   {
    "duration": 550,
    "start_time": "2023-04-16T17:00:24.001Z"
   },
   {
    "duration": 88,
    "start_time": "2023-04-16T17:00:24.553Z"
   },
   {
    "duration": 0,
    "start_time": "2023-04-16T17:00:24.643Z"
   },
   {
    "duration": 80,
    "start_time": "2023-04-16T17:01:38.177Z"
   }
  ],
  "kernelspec": {
   "display_name": "Python 3 (ipykernel)",
   "language": "python",
   "name": "python3"
  },
  "language_info": {
   "codemirror_mode": {
    "name": "ipython",
    "version": 3
   },
   "file_extension": ".py",
   "mimetype": "text/x-python",
   "name": "python",
   "nbconvert_exporter": "python",
   "pygments_lexer": "ipython3",
   "version": "3.9.5"
  },
  "toc": {
   "base_numbering": 1,
   "nav_menu": {},
   "number_sections": true,
   "sideBar": true,
   "skip_h1_title": true,
   "title_cell": "Table of Contents",
   "title_sidebar": "Contents",
   "toc_cell": false,
   "toc_position": {},
   "toc_section_display": true,
   "toc_window_display": false
  }
 },
 "nbformat": 4,
 "nbformat_minor": 5
}
