{
 "cells": [
  {
   "cell_type": "markdown",
   "metadata": {
    "id": "E0vqbgi9ay0H"
   },
   "source": [
    "# Yandex.Music"
   ]
  },
  {
   "cell_type": "markdown",
   "metadata": {
    "id": "VUC88oWjTJw2"
   },
   "source": [
    "Using Yandex.Music data to compare the behavior of users of the two capitals.\n",
    "\n",
    "**Research objective** — test three hypotheses:\n",
    "1. User activity depends on the day of the week. Moreover, in Moscow and St. Petersburg, this manifests itself in different ways.\n",
    "2. On Monday morning, some genres prevail in Moscow, and others in St. Petersburg. Similarly, on Friday evening, different genres prevail — depending on the city. \n",
    "3. Moscow and St. Petersburg prefer different genres of music. In Moscow, pop music is more often listened to, in St. Petersburg - Russian rap.\n",
    "\n",
    "**Progress of the study**\n",
    "\n",
    "User behavior data is `yandex_music_project.csv'. Nothing is known about the quality of the data. Therefore, a review of the data will be needed before testing hypotheses. \n",
    "\n",
    "Check the data for errors and evaluate their impact on the study. Find an opportunity to correct the most critical data errors.\n",
    " \n",
    "Thus, the study will take place in three stages:\n",
    " 1. Data overview.\n",
    " 2. Data preprocessing.\n",
    " 3. Hypothesis testing."
   ]
  },
  {
   "cell_type": "markdown",
   "metadata": {
    "id": "Ml1hmfXC_Zcs"
   },
   "source": [
    "## Data overview\n",
    "\n",
    "I am making up the first idea about the Yandex.Music data."
   ]
  },
  {
   "cell_type": "code",
   "execution_count": 1,
   "metadata": {
    "id": "AXN7PHPN_Zcs"
   },
   "outputs": [],
   "source": [
    "import pandas as pd #importing the pandas library"
   ]
  },
  {
   "cell_type": "code",
   "execution_count": 2,
   "metadata": {
    "id": "fFVu7vqh_Zct"
   },
   "outputs": [],
   "source": [
    "df=pd.read_csv('/datasets/yandex_music_project.csv') # reading a data file and saving it to df"
   ]
  },
  {
   "cell_type": "code",
   "execution_count": 3,
   "metadata": {
    "id": "oWTVX3gW_Zct",
    "scrolled": true
   },
   "outputs": [
    {
     "data": {
      "text/html": [
       "<div>\n",
       "<style scoped>\n",
       "    .dataframe tbody tr th:only-of-type {\n",
       "        vertical-align: middle;\n",
       "    }\n",
       "\n",
       "    .dataframe tbody tr th {\n",
       "        vertical-align: top;\n",
       "    }\n",
       "\n",
       "    .dataframe thead th {\n",
       "        text-align: right;\n",
       "    }\n",
       "</style>\n",
       "<table border=\"1\" class=\"dataframe\">\n",
       "  <thead>\n",
       "    <tr style=\"text-align: right;\">\n",
       "      <th></th>\n",
       "      <th>userID</th>\n",
       "      <th>Track</th>\n",
       "      <th>artist</th>\n",
       "      <th>genre</th>\n",
       "      <th>City</th>\n",
       "      <th>time</th>\n",
       "      <th>Day</th>\n",
       "    </tr>\n",
       "  </thead>\n",
       "  <tbody>\n",
       "    <tr>\n",
       "      <th>0</th>\n",
       "      <td>FFB692EC</td>\n",
       "      <td>Kamigata To Boots</td>\n",
       "      <td>The Mass Missile</td>\n",
       "      <td>rock</td>\n",
       "      <td>Saint-Petersburg</td>\n",
       "      <td>20:28:33</td>\n",
       "      <td>Wednesday</td>\n",
       "    </tr>\n",
       "    <tr>\n",
       "      <th>1</th>\n",
       "      <td>55204538</td>\n",
       "      <td>Delayed Because of Accident</td>\n",
       "      <td>Andreas Rönnberg</td>\n",
       "      <td>rock</td>\n",
       "      <td>Moscow</td>\n",
       "      <td>14:07:09</td>\n",
       "      <td>Friday</td>\n",
       "    </tr>\n",
       "    <tr>\n",
       "      <th>2</th>\n",
       "      <td>20EC38</td>\n",
       "      <td>Funiculì funiculà</td>\n",
       "      <td>Mario Lanza</td>\n",
       "      <td>pop</td>\n",
       "      <td>Saint-Petersburg</td>\n",
       "      <td>20:58:07</td>\n",
       "      <td>Wednesday</td>\n",
       "    </tr>\n",
       "    <tr>\n",
       "      <th>3</th>\n",
       "      <td>A3DD03C9</td>\n",
       "      <td>Dragons in the Sunset</td>\n",
       "      <td>Fire + Ice</td>\n",
       "      <td>folk</td>\n",
       "      <td>Saint-Petersburg</td>\n",
       "      <td>08:37:09</td>\n",
       "      <td>Monday</td>\n",
       "    </tr>\n",
       "    <tr>\n",
       "      <th>4</th>\n",
       "      <td>E2DC1FAE</td>\n",
       "      <td>Soul People</td>\n",
       "      <td>Space Echo</td>\n",
       "      <td>dance</td>\n",
       "      <td>Moscow</td>\n",
       "      <td>08:34:34</td>\n",
       "      <td>Monday</td>\n",
       "    </tr>\n",
       "    <tr>\n",
       "      <th>5</th>\n",
       "      <td>842029A1</td>\n",
       "      <td>Преданная</td>\n",
       "      <td>IMPERVTOR</td>\n",
       "      <td>rusrap</td>\n",
       "      <td>Saint-Petersburg</td>\n",
       "      <td>13:09:41</td>\n",
       "      <td>Friday</td>\n",
       "    </tr>\n",
       "    <tr>\n",
       "      <th>6</th>\n",
       "      <td>4CB90AA5</td>\n",
       "      <td>True</td>\n",
       "      <td>Roman Messer</td>\n",
       "      <td>dance</td>\n",
       "      <td>Moscow</td>\n",
       "      <td>13:00:07</td>\n",
       "      <td>Wednesday</td>\n",
       "    </tr>\n",
       "    <tr>\n",
       "      <th>7</th>\n",
       "      <td>F03E1C1F</td>\n",
       "      <td>Feeling This Way</td>\n",
       "      <td>Polina Griffith</td>\n",
       "      <td>dance</td>\n",
       "      <td>Moscow</td>\n",
       "      <td>20:47:49</td>\n",
       "      <td>Wednesday</td>\n",
       "    </tr>\n",
       "    <tr>\n",
       "      <th>8</th>\n",
       "      <td>8FA1D3BE</td>\n",
       "      <td>И вновь продолжается бой</td>\n",
       "      <td>NaN</td>\n",
       "      <td>ruspop</td>\n",
       "      <td>Moscow</td>\n",
       "      <td>09:17:40</td>\n",
       "      <td>Friday</td>\n",
       "    </tr>\n",
       "    <tr>\n",
       "      <th>9</th>\n",
       "      <td>E772D5C0</td>\n",
       "      <td>Pessimist</td>\n",
       "      <td>NaN</td>\n",
       "      <td>dance</td>\n",
       "      <td>Saint-Petersburg</td>\n",
       "      <td>21:20:49</td>\n",
       "      <td>Wednesday</td>\n",
       "    </tr>\n",
       "  </tbody>\n",
       "</table>\n",
       "</div>"
      ],
      "text/plain": [
       "     userID                        Track            artist   genre  \\\n",
       "0  FFB692EC            Kamigata To Boots  The Mass Missile    rock   \n",
       "1  55204538  Delayed Because of Accident  Andreas Rönnberg    rock   \n",
       "2    20EC38            Funiculì funiculà       Mario Lanza     pop   \n",
       "3  A3DD03C9        Dragons in the Sunset        Fire + Ice    folk   \n",
       "4  E2DC1FAE                  Soul People        Space Echo   dance   \n",
       "5  842029A1                    Преданная         IMPERVTOR  rusrap   \n",
       "6  4CB90AA5                         True      Roman Messer   dance   \n",
       "7  F03E1C1F             Feeling This Way   Polina Griffith   dance   \n",
       "8  8FA1D3BE     И вновь продолжается бой               NaN  ruspop   \n",
       "9  E772D5C0                    Pessimist               NaN   dance   \n",
       "\n",
       "             City        time        Day  \n",
       "0  Saint-Petersburg  20:28:33  Wednesday  \n",
       "1            Moscow  14:07:09     Friday  \n",
       "2  Saint-Petersburg  20:58:07  Wednesday  \n",
       "3  Saint-Petersburg  08:37:09     Monday  \n",
       "4            Moscow  08:34:34     Monday  \n",
       "5  Saint-Petersburg  13:09:41     Friday  \n",
       "6            Moscow  13:00:07  Wednesday  \n",
       "7            Moscow  20:47:49  Wednesday  \n",
       "8            Moscow  09:17:40     Friday  \n",
       "9  Saint-Petersburg  21:20:49  Wednesday  "
      ]
     },
     "execution_count": 3,
     "metadata": {},
     "output_type": "execute_result"
    }
   ],
   "source": [
    "df.head(10)#getting the first 10 rows of the df table"
   ]
  },
  {
   "cell_type": "code",
   "execution_count": 4,
   "metadata": {},
   "outputs": [
    {
     "data": {
      "text/html": [
       "<div>\n",
       "<style scoped>\n",
       "    .dataframe tbody tr th:only-of-type {\n",
       "        vertical-align: middle;\n",
       "    }\n",
       "\n",
       "    .dataframe tbody tr th {\n",
       "        vertical-align: top;\n",
       "    }\n",
       "\n",
       "    .dataframe thead th {\n",
       "        text-align: right;\n",
       "    }\n",
       "</style>\n",
       "<table border=\"1\" class=\"dataframe\">\n",
       "  <thead>\n",
       "    <tr style=\"text-align: right;\">\n",
       "      <th></th>\n",
       "      <th>userID</th>\n",
       "      <th>Track</th>\n",
       "      <th>artist</th>\n",
       "      <th>genre</th>\n",
       "      <th>City</th>\n",
       "      <th>time</th>\n",
       "      <th>Day</th>\n",
       "    </tr>\n",
       "  </thead>\n",
       "  <tbody>\n",
       "    <tr>\n",
       "      <th>65069</th>\n",
       "      <td>BE1AAD74</td>\n",
       "      <td>Waterwalk</td>\n",
       "      <td>Eduardo Gonzales</td>\n",
       "      <td>electronic</td>\n",
       "      <td>Moscow</td>\n",
       "      <td>20:38:59</td>\n",
       "      <td>Monday</td>\n",
       "    </tr>\n",
       "    <tr>\n",
       "      <th>65070</th>\n",
       "      <td>49F35D53</td>\n",
       "      <td>Ass Up</td>\n",
       "      <td>Rameez</td>\n",
       "      <td>dance</td>\n",
       "      <td>Moscow</td>\n",
       "      <td>14:08:58</td>\n",
       "      <td>Friday</td>\n",
       "    </tr>\n",
       "    <tr>\n",
       "      <th>65071</th>\n",
       "      <td>92378E24</td>\n",
       "      <td>Swing it Like You Mean it</td>\n",
       "      <td>OJOJOJ</td>\n",
       "      <td>techno</td>\n",
       "      <td>Moscow</td>\n",
       "      <td>21:12:56</td>\n",
       "      <td>Friday</td>\n",
       "    </tr>\n",
       "    <tr>\n",
       "      <th>65072</th>\n",
       "      <td>C532021D</td>\n",
       "      <td>We Can Not Be Silenced</td>\n",
       "      <td>Pänzer</td>\n",
       "      <td>extrememetal</td>\n",
       "      <td>Moscow</td>\n",
       "      <td>08:38:24</td>\n",
       "      <td>Friday</td>\n",
       "    </tr>\n",
       "    <tr>\n",
       "      <th>65073</th>\n",
       "      <td>83A474E7</td>\n",
       "      <td>I Worship Only What You Bleed</td>\n",
       "      <td>The Black Dahlia Murder</td>\n",
       "      <td>extrememetal</td>\n",
       "      <td>Moscow</td>\n",
       "      <td>21:07:12</td>\n",
       "      <td>Monday</td>\n",
       "    </tr>\n",
       "    <tr>\n",
       "      <th>65074</th>\n",
       "      <td>729CBB09</td>\n",
       "      <td>My Name</td>\n",
       "      <td>McLean</td>\n",
       "      <td>rnb</td>\n",
       "      <td>Moscow</td>\n",
       "      <td>13:32:28</td>\n",
       "      <td>Wednesday</td>\n",
       "    </tr>\n",
       "    <tr>\n",
       "      <th>65075</th>\n",
       "      <td>D08D4A55</td>\n",
       "      <td>Maybe One Day (feat. Black Spade)</td>\n",
       "      <td>Blu &amp; Exile</td>\n",
       "      <td>hip</td>\n",
       "      <td>Saint-Petersburg</td>\n",
       "      <td>10:00:00</td>\n",
       "      <td>Monday</td>\n",
       "    </tr>\n",
       "    <tr>\n",
       "      <th>65076</th>\n",
       "      <td>C5E3A0D5</td>\n",
       "      <td>Jalopiina</td>\n",
       "      <td>NaN</td>\n",
       "      <td>industrial</td>\n",
       "      <td>Moscow</td>\n",
       "      <td>20:09:26</td>\n",
       "      <td>Friday</td>\n",
       "    </tr>\n",
       "    <tr>\n",
       "      <th>65077</th>\n",
       "      <td>321D0506</td>\n",
       "      <td>Freight Train</td>\n",
       "      <td>Chas McDevitt</td>\n",
       "      <td>rock</td>\n",
       "      <td>Moscow</td>\n",
       "      <td>21:43:59</td>\n",
       "      <td>Friday</td>\n",
       "    </tr>\n",
       "    <tr>\n",
       "      <th>65078</th>\n",
       "      <td>3A64EF84</td>\n",
       "      <td>Tell Me Sweet Little Lies</td>\n",
       "      <td>Monica Lopez</td>\n",
       "      <td>country</td>\n",
       "      <td>Moscow</td>\n",
       "      <td>21:59:46</td>\n",
       "      <td>Friday</td>\n",
       "    </tr>\n",
       "  </tbody>\n",
       "</table>\n",
       "</div>"
      ],
      "text/plain": [
       "         userID                              Track                   artist  \\\n",
       "65069  BE1AAD74                          Waterwalk         Eduardo Gonzales   \n",
       "65070  49F35D53                             Ass Up                   Rameez   \n",
       "65071  92378E24          Swing it Like You Mean it                   OJOJOJ   \n",
       "65072  C532021D             We Can Not Be Silenced                   Pänzer   \n",
       "65073  83A474E7      I Worship Only What You Bleed  The Black Dahlia Murder   \n",
       "65074  729CBB09                            My Name                   McLean   \n",
       "65075  D08D4A55  Maybe One Day (feat. Black Spade)              Blu & Exile   \n",
       "65076  C5E3A0D5                          Jalopiina                      NaN   \n",
       "65077  321D0506                      Freight Train            Chas McDevitt   \n",
       "65078  3A64EF84          Tell Me Sweet Little Lies             Monica Lopez   \n",
       "\n",
       "              genre            City        time        Day  \n",
       "65069    electronic            Moscow  20:38:59     Monday  \n",
       "65070         dance            Moscow  14:08:58     Friday  \n",
       "65071        techno            Moscow  21:12:56     Friday  \n",
       "65072  extrememetal            Moscow  08:38:24     Friday  \n",
       "65073  extrememetal            Moscow  21:07:12     Monday  \n",
       "65074           rnb            Moscow  13:32:28  Wednesday  \n",
       "65075           hip  Saint-Petersburg  10:00:00     Monday  \n",
       "65076    industrial            Moscow  20:09:26     Friday  \n",
       "65077          rock            Moscow  21:43:59     Friday  \n",
       "65078       country            Moscow  21:59:46     Friday  "
      ]
     },
     "execution_count": 4,
     "metadata": {},
     "output_type": "execute_result"
    }
   ],
   "source": [
    "df.tail(10) #getting the last 10 rows of the df table"
   ]
  },
  {
   "cell_type": "code",
   "execution_count": 5,
   "metadata": {
    "id": "DSf2kIb-_Zct"
   },
   "outputs": [
    {
     "name": "stdout",
     "output_type": "stream",
     "text": [
      "<class 'pandas.core.frame.DataFrame'>\n",
      "RangeIndex: 65079 entries, 0 to 65078\n",
      "Data columns (total 7 columns):\n",
      " #   Column    Non-Null Count  Dtype \n",
      "---  ------    --------------  ----- \n",
      " 0     userID  65079 non-null  object\n",
      " 1   Track     63848 non-null  object\n",
      " 2   artist    57876 non-null  object\n",
      " 3   genre     63881 non-null  object\n",
      " 4     City    65079 non-null  object\n",
      " 5   time      65079 non-null  object\n",
      " 6   Day       65079 non-null  object\n",
      "dtypes: object(7)\n",
      "memory usage: 3.5+ MB\n"
     ]
    }
   ],
   "source": [
    "df.info() #getting general information about the data in the df table with one command"
   ]
  },
  {
   "cell_type": "markdown",
   "metadata": {
    "id": "TaQ2Iwbr_Zct"
   },
   "source": [
    "So, there are seven columns in the table. The data type in all columns is `object'.\n",
    "\n",
    "According to the data documentation:\n",
    "* `'userID'` - is the user ID;\n",
    "* `'Track'` — the name of the track; \n",
    "* `'artist'` — artist's name; \n",
    "* `'genre'` — the name of the genre;\n",
    "* `'City'` — the user's city;\n",
    "* `'time'` — the start time of listening;\n",
    "* `'Day'` — the day of the week.\n",
    "\n",
    "Three style violations are visible in the column names:\n",
    "1. Lowercase letters are combined with uppercase.\n",
    "2. There are gaps.\n",
    "3. There is no writing \"snake font\" (through underlining).\n",
    "\n",
    "\n",
    "\n",
    "The number of values in the columns varies. So there are missing values in the data."
   ]
  },
  {
   "cell_type": "markdown",
   "metadata": {
    "id": "MCB6-dXG_Zct"
   },
   "source": [
    "**Conclusions**\n",
    "\n",
    "In each row of the table — data about the listened track. Part of the columns describes the composition itself: name, artist and genre. The rest of the data tells about the user: what city he is from, when he listened to music. \n",
    "\n",
    "Previously, it can be argued that there is enough data to test hypotheses. But there are gaps in the data, and in the column names there are discrepancies with good style.\n",
    "\n",
    "To move on, you need to fix the problems in the data."
   ]
  },
  {
   "cell_type": "markdown",
   "metadata": {
    "id": "SjYF6Ub9_Zct"
   },
   "source": [
    "## Data preprocessing"
   ]
  },
  {
   "cell_type": "markdown",
   "metadata": {
    "id": "dIaKXr29_Zct"
   },
   "source": [
    "### Header style"
   ]
  },
  {
   "cell_type": "code",
   "execution_count": 6,
   "metadata": {
    "id": "oKOTdF_Q_Zct"
   },
   "outputs": [
    {
     "data": {
      "text/plain": [
       "Index(['  userID', 'Track', 'artist', 'genre', '  City  ', 'time', 'Day'], dtype='object')"
      ]
     },
     "execution_count": 6,
     "metadata": {},
     "output_type": "execute_result"
    }
   ],
   "source": [
    "df.columns #list of column names in the df table"
   ]
  },
  {
   "cell_type": "markdown",
   "metadata": {
    "id": "zj5534cv_Zct"
   },
   "source": [
    "I bring the names in accordance with a good style:\n",
    "* a few words in the name - in the \"zmeinom_register\",\n",
    "* all characters are lowercase,\n",
    "* gaps have been eliminated.\n",
    "\n",
    "To do this, I will rename the existing columns in this way:\n",
    "* `'  userID'` → `'user_id'`;\n",
    "* `'Track'` → `'track'`;\n",
    "* `'  City  '` → `'city'`;\n",
    "* `'Day'` → `'day'`."
   ]
  },
  {
   "cell_type": "code",
   "execution_count": 7,
   "metadata": {
    "id": "ISlFqs5y_Zct"
   },
   "outputs": [],
   "source": [
    "df=df.rename(columns={'  userID':'user_id', 'Track':'track', '  City  ':'city', 'Day':'day'}) #renaming columns"
   ]
  },
  {
   "cell_type": "code",
   "execution_count": 8,
   "metadata": {
    "id": "d4NOAmTW_Zct"
   },
   "outputs": [
    {
     "data": {
      "text/plain": [
       "Index(['user_id', 'track', 'artist', 'genre', 'city', 'time', 'day'], dtype='object')"
      ]
     },
     "execution_count": 8,
     "metadata": {},
     "output_type": "execute_result"
    }
   ],
   "source": [
    "df.columns #checking the results - a list of column names"
   ]
  },
  {
   "cell_type": "markdown",
   "metadata": {
    "id": "5ISfbcfY_Zct"
   },
   "source": [
    "### Missing values"
   ]
  },
  {
   "cell_type": "code",
   "execution_count": 9,
   "metadata": {
    "id": "RskX29qr_Zct"
   },
   "outputs": [
    {
     "name": "stdout",
     "output_type": "stream",
     "text": [
      "user_id       0\n",
      "track      1231\n",
      "artist     7203\n",
      "genre      1198\n",
      "city          0\n",
      "time          0\n",
      "day           0\n",
      "dtype: int64\n"
     ]
    }
   ],
   "source": [
    "print(df.isna().sum())\n"
   ]
  },
  {
   "cell_type": "markdown",
   "metadata": {
    "id": "qubhgnlO_Zct"
   },
   "source": [
    "Not all missing values affect the study. So in `track` and `artist` the omissions are not important for your work. It is enough to replace them with explicit designations.\n",
    "\n",
    "But omissions in `genre` may interfere with the comparison of musical tastes in Moscow and St. Petersburg. In practice, it would be correct to establish the reason for the omissions and restore the data. There is no such possibility in the training project. Ll have to:\n",
    "* fill in these gaps with explicit notation,\n",
    "* assess how much they will damage the calculations."
   ]
  },
  {
   "cell_type": "markdown",
   "metadata": {
    "id": "fSv2laPA_Zct"
   },
   "source": [
    "I replace the missing values in the columns `track`, `artist` and `genre` with the string `unknown\". \n",
    "To do this, I create a list of `columns_to_replace`, iterate through its elements with a `for` loop and replace the missing values for each column:"
   ]
  },
  {
   "cell_type": "code",
   "execution_count": 10,
   "metadata": {
    "id": "KplB5qWs_Zct"
   },
   "outputs": [],
   "source": [
    "columns_to_replace=['track', 'artist', 'genre']\n",
    "for column in columns_to_replace:\n",
    "    df[column]=df[column].fillna('unknown')\n",
    "    # iterating over column names in a loop and replacing missing values with 'unknown'"
   ]
  },
  {
   "cell_type": "markdown",
   "metadata": {
    "id": "Ilsm-MZo_Zct"
   },
   "source": [
    "You need to make sure that there are no gaps left in the table. To do this, I count the missing values again."
   ]
  },
  {
   "cell_type": "code",
   "execution_count": 11,
   "metadata": {
    "id": "Tq4nYRX4_Zct"
   },
   "outputs": [
    {
     "data": {
      "text/plain": [
       "user_id    0\n",
       "track      0\n",
       "artist     0\n",
       "genre      0\n",
       "city       0\n",
       "time       0\n",
       "day        0\n",
       "dtype: int64"
      ]
     },
     "execution_count": 11,
     "metadata": {},
     "output_type": "execute_result"
    }
   ],
   "source": [
    "df.isna().sum() #counting passes"
   ]
  },
  {
   "cell_type": "markdown",
   "metadata": {
    "id": "BWKRtBJ3_Zct"
   },
   "source": [
    "### Duplicates"
   ]
  },
  {
   "cell_type": "code",
   "execution_count": 12,
   "metadata": {
    "id": "36eES_S0_Zct"
   },
   "outputs": [
    {
     "data": {
      "text/plain": [
       "3826"
      ]
     },
     "execution_count": 12,
     "metadata": {},
     "output_type": "execute_result"
    }
   ],
   "source": [
    "df.duplicated().sum() #counting explicit duplicates"
   ]
  },
  {
   "cell_type": "code",
   "execution_count": 13,
   "metadata": {
    "id": "exFHq6tt_Zct"
   },
   "outputs": [],
   "source": [
    "df = df.drop_duplicates().reset_index(drop=True) #removal of explicit duplicates (with the removal of old indexes and the formation of new ones)"
   ]
  },
  {
   "cell_type": "code",
   "execution_count": 14,
   "metadata": {
    "id": "-8PuNWQ0_Zct"
   },
   "outputs": [
    {
     "data": {
      "text/plain": [
       "0"
      ]
     },
     "execution_count": 14,
     "metadata": {},
     "output_type": "execute_result"
    }
   ],
   "source": [
    "df.duplicated().sum() #checking for the absence of duplicates"
   ]
  },
  {
   "cell_type": "markdown",
   "metadata": {
    "id": "eSjWwsOh_Zct"
   },
   "source": [
    "I display a list of unique genre names, sorted alphabetically. To do this:\n",
    "* extract the desired dataframe column, \n",
    "* I apply the sorting method to it,\n",
    "* for a sorted column, I call a method that will return unique values from the column."
   ]
  },
  {
   "cell_type": "code",
   "execution_count": 15,
   "metadata": {
    "id": "JIUcqzZN_Zct"
   },
   "outputs": [
    {
     "data": {
      "text/plain": [
       "array(['acid', 'acoustic', 'action', 'adult', 'africa', 'afrikaans',\n",
       "       'alternative', 'alternativepunk', 'ambient', 'americana',\n",
       "       'animated', 'anime', 'arabesk', 'arabic', 'arena',\n",
       "       'argentinetango', 'art', 'audiobook', 'author', 'avantgarde',\n",
       "       'axé', 'baile', 'balkan', 'beats', 'bigroom', 'black', 'bluegrass',\n",
       "       'blues', 'bollywood', 'bossa', 'brazilian', 'breakbeat', 'breaks',\n",
       "       'broadway', 'cantautori', 'cantopop', 'canzone', 'caribbean',\n",
       "       'caucasian', 'celtic', 'chamber', 'chanson', 'children', 'chill',\n",
       "       'chinese', 'choral', 'christian', 'christmas', 'classical',\n",
       "       'classicmetal', 'club', 'colombian', 'comedy', 'conjazz',\n",
       "       'contemporary', 'country', 'cuban', 'dance', 'dancehall',\n",
       "       'dancepop', 'dark', 'death', 'deep', 'deutschrock', 'deutschspr',\n",
       "       'dirty', 'disco', 'dnb', 'documentary', 'downbeat', 'downtempo',\n",
       "       'drum', 'dub', 'dubstep', 'eastern', 'easy', 'electronic',\n",
       "       'electropop', 'emo', 'entehno', 'epicmetal', 'estrada', 'ethnic',\n",
       "       'eurofolk', 'european', 'experimental', 'extrememetal', 'fado',\n",
       "       'fairytail', 'film', 'fitness', 'flamenco', 'folk', 'folklore',\n",
       "       'folkmetal', 'folkrock', 'folktronica', 'forró', 'frankreich',\n",
       "       'französisch', 'french', 'funk', 'future', 'gangsta', 'garage',\n",
       "       'german', 'ghazal', 'gitarre', 'glitch', 'gospel', 'gothic',\n",
       "       'grime', 'grunge', 'gypsy', 'handsup', \"hard'n'heavy\", 'hardcore',\n",
       "       'hardstyle', 'hardtechno', 'hip', 'hip-hop', 'hiphop',\n",
       "       'historisch', 'holiday', 'hop', 'horror', 'house', 'hymn', 'idm',\n",
       "       'independent', 'indian', 'indie', 'indipop', 'industrial',\n",
       "       'inspirational', 'instrumental', 'international', 'irish', 'jam',\n",
       "       'japanese', 'jazz', 'jewish', 'jpop', 'jungle', 'k-pop',\n",
       "       'karadeniz', 'karaoke', 'kayokyoku', 'korean', 'laiko', 'latin',\n",
       "       'latino', 'leftfield', 'local', 'lounge', 'loungeelectronic',\n",
       "       'lovers', 'malaysian', 'mandopop', 'marschmusik', 'meditative',\n",
       "       'mediterranean', 'melodic', 'metal', 'metalcore', 'mexican',\n",
       "       'middle', 'minimal', 'miscellaneous', 'modern', 'mood', 'mpb',\n",
       "       'muslim', 'native', 'neoklassik', 'neue', 'new', 'newage',\n",
       "       'newwave', 'nu', 'nujazz', 'numetal', 'oceania', 'old', 'opera',\n",
       "       'orchestral', 'other', 'piano', 'podcasts', 'pop', 'popdance',\n",
       "       'popelectronic', 'popeurodance', 'poprussian', 'post',\n",
       "       'posthardcore', 'postrock', 'power', 'progmetal', 'progressive',\n",
       "       'psychedelic', 'punjabi', 'punk', 'quebecois', 'ragga', 'ram',\n",
       "       'rancheras', 'rap', 'rave', 'reggae', 'reggaeton', 'regional',\n",
       "       'relax', 'religious', 'retro', 'rhythm', 'rnb', 'rnr', 'rock',\n",
       "       'rockabilly', 'rockalternative', 'rockindie', 'rockother',\n",
       "       'romance', 'roots', 'ruspop', 'rusrap', 'rusrock', 'russian',\n",
       "       'salsa', 'samba', 'scenic', 'schlager', 'self', 'sertanejo',\n",
       "       'shanson', 'shoegazing', 'showtunes', 'singer', 'ska', 'skarock',\n",
       "       'slow', 'smooth', 'soft', 'soul', 'soulful', 'sound', 'soundtrack',\n",
       "       'southern', 'specialty', 'speech', 'spiritual', 'sport',\n",
       "       'stonerrock', 'surf', 'swing', 'synthpop', 'synthrock',\n",
       "       'sängerportrait', 'tango', 'tanzorchester', 'taraftar', 'tatar',\n",
       "       'tech', 'techno', 'teen', 'thrash', 'top', 'traditional',\n",
       "       'tradjazz', 'trance', 'tribal', 'trip', 'triphop', 'tropical',\n",
       "       'türk', 'türkçe', 'ukrrock', 'unknown', 'urban', 'uzbek',\n",
       "       'variété', 'vi', 'videogame', 'vocal', 'western', 'world',\n",
       "       'worldbeat', 'ïîï', 'электроника'], dtype=object)"
      ]
     },
     "metadata": {},
     "output_type": "display_data"
    }
   ],
   "source": [
    "sorted_df = df['genre'].sort_values().unique()\n",
    "display(sorted_df) #View unique genre names"
   ]
  },
  {
   "cell_type": "markdown",
   "metadata": {
    "id": "QlFBsxAr_Zct"
   },
   "source": [
    "Now you need to get rid of implicit duplicates in the `genre` column. For example, the name of the same genre may be written a little differently. Such errors will also affect the result of the study.\n",
    "\n",
    "There are the following implicit duplicates:\n",
    "* *hip*,\n",
    "* *hop*,\n",
    "* *hip-hop*,\n",
    "* *electronics*.\n",
    "\n",
    "To clear the table of them, I prescribe the function `replace_wrong_genres()` with two parameters: \n",
    "* `wrong_genres' — list of duplicates,\n",
    "* `correct_genre' is a string with the correct value.\n",
    "\n",
    "The function should correct the `genre` column in the `df` table: replace each value from the `wrong_genres` list with the value from `correct_genre`."
   ]
  },
  {
   "cell_type": "code",
   "execution_count": 16,
   "metadata": {
    "id": "ErNDkmns_Zct"
   },
   "outputs": [],
   "source": [
    "def replace_wrong_genres(wrong_genres, correct_genre):\n",
    "    for wrong_genre in wrong_genres:\n",
    "        df['name'] = df['name'].replace(wrong_genre, correct_genre) #Function for replacing implicit duplicates"
   ]
  },
  {
   "cell_type": "markdown",
   "metadata": {
    "id": "aDoBJxbA_Zct"
   },
   "source": [
    "I call `replace_wrong_genres()` and pass it such arguments so that it eliminates implicit duplicates: instead of `hip`, `hop`, `hip-hop` the table should have the value `hiphop`:"
   ]
  },
  {
   "cell_type": "code",
   "execution_count": 17,
   "metadata": {
    "id": "YN5i2hpmSo09",
    "scrolled": true
   },
   "outputs": [],
   "source": [
    "wrong_genres = ['hip', 'hop', 'hip-hop']\n",
    "correct_genre = 'hiphop'\n",
    "df = df.replace(wrong_genres, correct_genre)#Elimination of implicit duplicates"
   ]
  },
  {
   "cell_type": "code",
   "execution_count": 18,
   "metadata": {},
   "outputs": [],
   "source": [
    "df['genre'] = df['genre'].replace('электроника','electronic') #the table should have the value `electronic`"
   ]
  },
  {
   "cell_type": "code",
   "execution_count": 19,
   "metadata": {
    "id": "wvixALnFG15m"
   },
   "outputs": [
    {
     "data": {
      "text/plain": [
       "array(['acid', 'acoustic', 'action', 'adult', 'africa', 'afrikaans',\n",
       "       'alternative', 'alternativepunk', 'ambient', 'americana',\n",
       "       'animated', 'anime', 'arabesk', 'arabic', 'arena',\n",
       "       'argentinetango', 'art', 'audiobook', 'author', 'avantgarde',\n",
       "       'axé', 'baile', 'balkan', 'beats', 'bigroom', 'black', 'bluegrass',\n",
       "       'blues', 'bollywood', 'bossa', 'brazilian', 'breakbeat', 'breaks',\n",
       "       'broadway', 'cantautori', 'cantopop', 'canzone', 'caribbean',\n",
       "       'caucasian', 'celtic', 'chamber', 'chanson', 'children', 'chill',\n",
       "       'chinese', 'choral', 'christian', 'christmas', 'classical',\n",
       "       'classicmetal', 'club', 'colombian', 'comedy', 'conjazz',\n",
       "       'contemporary', 'country', 'cuban', 'dance', 'dancehall',\n",
       "       'dancepop', 'dark', 'death', 'deep', 'deutschrock', 'deutschspr',\n",
       "       'dirty', 'disco', 'dnb', 'documentary', 'downbeat', 'downtempo',\n",
       "       'drum', 'dub', 'dubstep', 'eastern', 'easy', 'electronic',\n",
       "       'electropop', 'emo', 'entehno', 'epicmetal', 'estrada', 'ethnic',\n",
       "       'eurofolk', 'european', 'experimental', 'extrememetal', 'fado',\n",
       "       'fairytail', 'film', 'fitness', 'flamenco', 'folk', 'folklore',\n",
       "       'folkmetal', 'folkrock', 'folktronica', 'forró', 'frankreich',\n",
       "       'französisch', 'french', 'funk', 'future', 'gangsta', 'garage',\n",
       "       'german', 'ghazal', 'gitarre', 'glitch', 'gospel', 'gothic',\n",
       "       'grime', 'grunge', 'gypsy', 'handsup', \"hard'n'heavy\", 'hardcore',\n",
       "       'hardstyle', 'hardtechno', 'hiphop', 'historisch', 'holiday',\n",
       "       'horror', 'house', 'hymn', 'idm', 'independent', 'indian', 'indie',\n",
       "       'indipop', 'industrial', 'inspirational', 'instrumental',\n",
       "       'international', 'irish', 'jam', 'japanese', 'jazz', 'jewish',\n",
       "       'jpop', 'jungle', 'k-pop', 'karadeniz', 'karaoke', 'kayokyoku',\n",
       "       'korean', 'laiko', 'latin', 'latino', 'leftfield', 'local',\n",
       "       'lounge', 'loungeelectronic', 'lovers', 'malaysian', 'mandopop',\n",
       "       'marschmusik', 'meditative', 'mediterranean', 'melodic', 'metal',\n",
       "       'metalcore', 'mexican', 'middle', 'minimal', 'miscellaneous',\n",
       "       'modern', 'mood', 'mpb', 'muslim', 'native', 'neoklassik', 'neue',\n",
       "       'new', 'newage', 'newwave', 'nu', 'nujazz', 'numetal', 'oceania',\n",
       "       'old', 'opera', 'orchestral', 'other', 'piano', 'podcasts', 'pop',\n",
       "       'popdance', 'popelectronic', 'popeurodance', 'poprussian', 'post',\n",
       "       'posthardcore', 'postrock', 'power', 'progmetal', 'progressive',\n",
       "       'psychedelic', 'punjabi', 'punk', 'quebecois', 'ragga', 'ram',\n",
       "       'rancheras', 'rap', 'rave', 'reggae', 'reggaeton', 'regional',\n",
       "       'relax', 'religious', 'retro', 'rhythm', 'rnb', 'rnr', 'rock',\n",
       "       'rockabilly', 'rockalternative', 'rockindie', 'rockother',\n",
       "       'romance', 'roots', 'ruspop', 'rusrap', 'rusrock', 'russian',\n",
       "       'salsa', 'samba', 'scenic', 'schlager', 'self', 'sertanejo',\n",
       "       'shanson', 'shoegazing', 'showtunes', 'singer', 'ska', 'skarock',\n",
       "       'slow', 'smooth', 'soft', 'soul', 'soulful', 'sound', 'soundtrack',\n",
       "       'southern', 'specialty', 'speech', 'spiritual', 'sport',\n",
       "       'stonerrock', 'surf', 'swing', 'synthpop', 'synthrock',\n",
       "       'sängerportrait', 'tango', 'tanzorchester', 'taraftar', 'tatar',\n",
       "       'tech', 'techno', 'teen', 'thrash', 'top', 'traditional',\n",
       "       'tradjazz', 'trance', 'tribal', 'trip', 'triphop', 'tropical',\n",
       "       'türk', 'türkçe', 'ukrrock', 'unknown', 'urban', 'uzbek',\n",
       "       'variété', 'vi', 'videogame', 'vocal', 'western', 'world',\n",
       "       'worldbeat', 'ïîï'], dtype=object)"
      ]
     },
     "metadata": {},
     "output_type": "display_data"
    }
   ],
   "source": [
    "sorted_df = df['genre'].sort_values().unique() #Checking for implicit duplicates\n",
    "display(sorted_df)"
   ]
  },
  {
   "cell_type": "markdown",
   "metadata": {
    "id": "jz6a9-7HQUDd"
   },
   "source": [
    "**Conclusions**\n",
    "\n",
    "Preprocessing found three problems in the data:\n",
    "\n",
    "- violations in the style of headlines,\n",
    "- missing values,\n",
    "- duplicates — explicit and implicit.\n",
    "\n",
    "Fixed headers to simplify working with the table. Without duplicates, the study will become more accurate.\n",
    "\n",
    "The missing values are replaced with `unknown`. It remains to be seen whether omissions in the `genre` column will harm the study.\n",
    "\n",
    "Now we can proceed to hypothesis testing. "
   ]
  },
  {
   "cell_type": "markdown",
   "metadata": {
    "id": "WttZHXH0SqKk"
   },
   "source": [
    "## Hypothesis testing"
   ]
  },
  {
   "cell_type": "markdown",
   "metadata": {
    "id": "Im936VVi_Zcu"
   },
   "source": [
    "### Comparison of user behavior of two capitals"
   ]
  },
  {
   "cell_type": "markdown",
   "metadata": {
    "id": "nwt_MuaL_Zcu"
   },
   "source": [
    "The first hypothesis states that users listen to music differently in Moscow and St. Petersburg. I check this assumption based on data on three days of the week — Monday, Wednesday and Friday. For this:\n",
    "\n",
    "* I separate the users of Moscow and St. Petersburg\n",
    "* I compare how many tracks each group of users listened to on Monday, Wednesday and Friday.\n"
   ]
  },
  {
   "cell_type": "code",
   "execution_count": 20,
   "metadata": {
    "id": "0_Qs96oh_Zcu"
   },
   "outputs": [
    {
     "name": "stdout",
     "output_type": "stream",
     "text": [
      "city\n",
      "Moscow              42741\n",
      "Saint-Petersburg    18512\n",
      "Name: day, dtype: int64\n"
     ]
    }
   ],
   "source": [
    "activity = df.groupby('city')['day'].count() #Counting auditions in each city\n",
    "print(activity) "
   ]
  },
  {
   "cell_type": "markdown",
   "metadata": {
    "id": "dzli3w8o_Zcu"
   },
   "source": [
    "There are more auditions in Moscow than in St. Petersburg. This does not mean that Moscow users listen to music more often. It's just that there are more users in Moscow.\n",
    "\n",
    "Now I will group the data by day of the week and count the auditions on Monday, Wednesday and Friday, taking into account that the data contains information about auditions only for these days."
   ]
  },
  {
   "cell_type": "code",
   "execution_count": 21,
   "metadata": {
    "id": "uZMKjiJz_Zcu",
    "scrolled": true
   },
   "outputs": [
    {
     "name": "stdout",
     "output_type": "stream",
     "text": [
      "day\n",
      "Friday       21840\n",
      "Monday       21354\n",
      "Wednesday    18059\n",
      "Name: time, dtype: int64\n"
     ]
    }
   ],
   "source": [
    "activity_day=df.groupby('day')['time'].count() #Counting auditions on each of the three days\n",
    "print(activity_day) "
   ]
  },
  {
   "cell_type": "markdown",
   "metadata": {
    "id": "cC2tNrlL_Zcu"
   },
   "source": [
    "On average, users from two cities are less active on Wednesdays. But the picture may change if we consider each city separately.\n",
    "\n",
    "To do this, I create a function `number_tracks()`, which will combine the grouping of auditions for a given day and city. She will need two parameters:\n",
    "* day of the week,\n",
    "* name of the city.\n",
    "\n",
    "In the function, I will save to a variable the rows of the source table, which have the value:\n",
    "* in the column `day` is equal to the parameter `day`,\n",
    "* in the column `city` is equal to the parameter `city`.\n",
    "\n",
    "To do this, I will use sequential filtering with logical indexing.\n",
    "\n",
    "Then I will calculate the values in the `user_id` column of the resulting table. I will save the result to a new variable and return this variable from the function."
   ]
  },
  {
   "cell_type": "code",
   "execution_count": 22,
   "metadata": {
    "id": "Nz3GdQB1_Zcu"
   },
   "outputs": [],
   "source": [
    "#<creating the number_tracks() function>\n",
    "def number_tracks(day, city):\n",
    "# A function with two parameters is declared: day, city.\n",
    "    track_list=df[(df['day'] == day) & (df['city'] == city)]\n",
    "# The track_list variable stores those rows of the df table for which the value in the 'day' column \n",
    "# is equal to the day parameter and at the same time the value \n",
    "#in the 'city' column is equal to the city parameter (sequential filtering using logical indexing).\n",
    "    track_list_count = track_list['user_id'].count()\n",
    "# The track_list_count variable stores the number of values of the 'user_id' column,\n",
    "# calculated by the count() method for the track_list table.\n",
    "    return track_list_count #The function returns a number - the value of track_list_count.\n",
    "\n",
    "# A function for counting auditions for a specific city and day.\n",
    "# Using sequential filtering with logical indexing, it \n",
    "# first, it will get the rows with the desired day from the source table,\n",
    "# then filters out the rows with the desired city from the result,\n",
    "# will use the count() method to count the number of values in the user_id column. \n",
    "# This is the number the function will return as a result"
   ]
  },
  {
   "cell_type": "markdown",
   "metadata": {
    "id": "ytf7xFrFJQ2r"
   },
   "source": [
    "Calling `number_tracks()` six times, changing the value of the parameters — so as to get data for each city on each of the three days."
   ]
  },
  {
   "cell_type": "code",
   "execution_count": 23,
   "metadata": {
    "id": "rJcRATNQ_Zcu",
    "scrolled": true
   },
   "outputs": [
    {
     "data": {
      "text/plain": [
       "15740"
      ]
     },
     "execution_count": 23,
     "metadata": {},
     "output_type": "execute_result"
    }
   ],
   "source": [
    "number_tracks('Monday', 'Moscow') #the number of auditions in Moscow on Mondays"
   ]
  },
  {
   "cell_type": "code",
   "execution_count": 24,
   "metadata": {
    "id": "hq_ncZ5T_Zcu"
   },
   "outputs": [
    {
     "data": {
      "text/plain": [
       "5614"
      ]
     },
     "execution_count": 24,
     "metadata": {},
     "output_type": "execute_result"
    }
   ],
   "source": [
    "number_tracks('Monday', 'Saint-Petersburg') #the number of auditions in St. Petersburg on Mondays"
   ]
  },
  {
   "cell_type": "code",
   "execution_count": 25,
   "metadata": {
    "id": "_NTy2VPU_Zcu"
   },
   "outputs": [
    {
     "data": {
      "text/plain": [
       "11056"
      ]
     },
     "execution_count": 25,
     "metadata": {},
     "output_type": "execute_result"
    }
   ],
   "source": [
    "number_tracks('Wednesday', 'Moscow') #number of auditions in Moscow on Wednesdays"
   ]
  },
  {
   "cell_type": "code",
   "execution_count": 26,
   "metadata": {
    "id": "j2y3TAwo_Zcu"
   },
   "outputs": [
    {
     "data": {
      "text/plain": [
       "7003"
      ]
     },
     "execution_count": 26,
     "metadata": {},
     "output_type": "execute_result"
    }
   ],
   "source": [
    "number_tracks('Wednesday', 'Saint-Petersburg') #number of auditions in St. Petersburg  on Wednesdays"
   ]
  },
  {
   "cell_type": "code",
   "execution_count": 27,
   "metadata": {
    "id": "vYDw5u_K_Zcu"
   },
   "outputs": [
    {
     "data": {
      "text/plain": [
       "15945"
      ]
     },
     "execution_count": 27,
     "metadata": {},
     "output_type": "execute_result"
    }
   ],
   "source": [
    "number_tracks('Friday', 'Moscow') #number of auditions in Moscow on Fridays"
   ]
  },
  {
   "cell_type": "code",
   "execution_count": 28,
   "metadata": {
    "id": "8_yzFtW3_Zcu"
   },
   "outputs": [
    {
     "data": {
      "text/plain": [
       "5895"
      ]
     },
     "execution_count": 28,
     "metadata": {},
     "output_type": "execute_result"
    }
   ],
   "source": [
    "number_tracks('Friday', 'Saint-Petersburg') #number of auditions in St. Petersburg on Fridays"
   ]
  },
  {
   "cell_type": "code",
   "execution_count": 29,
   "metadata": {
    "id": "APAcLpOr_Zcu",
    "scrolled": true
   },
   "outputs": [
    {
     "data": {
      "text/html": [
       "<div>\n",
       "<style scoped>\n",
       "    .dataframe tbody tr th:only-of-type {\n",
       "        vertical-align: middle;\n",
       "    }\n",
       "\n",
       "    .dataframe tbody tr th {\n",
       "        vertical-align: top;\n",
       "    }\n",
       "\n",
       "    .dataframe thead th {\n",
       "        text-align: right;\n",
       "    }\n",
       "</style>\n",
       "<table border=\"1\" class=\"dataframe\">\n",
       "  <thead>\n",
       "    <tr style=\"text-align: right;\">\n",
       "      <th></th>\n",
       "      <th>city</th>\n",
       "      <th>monday</th>\n",
       "      <th>wednesday</th>\n",
       "      <th>friday</th>\n",
       "    </tr>\n",
       "  </thead>\n",
       "  <tbody>\n",
       "    <tr>\n",
       "      <th>0</th>\n",
       "      <td>Moscow</td>\n",
       "      <td>15740</td>\n",
       "      <td>11056</td>\n",
       "      <td>15945</td>\n",
       "    </tr>\n",
       "    <tr>\n",
       "      <th>1</th>\n",
       "      <td>Saint-Petersburg</td>\n",
       "      <td>5614</td>\n",
       "      <td>7003</td>\n",
       "      <td>5895</td>\n",
       "    </tr>\n",
       "  </tbody>\n",
       "</table>\n",
       "</div>"
      ],
      "text/plain": [
       "               city  monday  wednesday  friday\n",
       "0            Moscow   15740      11056   15945\n",
       "1  Saint-Petersburg    5614       7003    5895"
      ]
     },
     "metadata": {},
     "output_type": "display_data"
    }
   ],
   "source": [
    "data = [\n",
    "    ['Moscow', 15740, 11056, 15945],\n",
    "    ['Saint-Petersburg', 5614, 7003, 5895]\n",
    "]\n",
    "columns = ['city', 'monday', 'wednesday', 'friday']\n",
    "table = pd.DataFrame(data = data, columns = columns) #Results table\n",
    "display(table)"
   ]
  },
  {
   "cell_type": "markdown",
   "metadata": {
    "id": "-EgPIHYu_Zcu"
   },
   "source": [
    "**Conclusions**\n",
    "\n",
    "The data shows the difference in user behavior:\n",
    "\n",
    "- In Moscow, the peak of auditions falls on Monday and Friday, and on Wednesday there is a noticeable decline.\n",
    "- In St. Petersburg, on the contrary, they listen to music more on Wednesdays. Activity on Monday and Friday is almost equally inferior to Wednesday here.\n",
    "\n",
    "So, the data speak in favor of the first hypothesis."
   ]
  },
  {
   "cell_type": "markdown",
   "metadata": {
    "id": "atZAxtq4_Zcu"
   },
   "source": [
    "### Music at the beginning and end of the week"
   ]
  },
  {
   "cell_type": "markdown",
   "metadata": {
    "id": "eXrQqXFH_Zcu"
   },
   "source": [
    "According to the second hypothesis, some genres prevail in Moscow on Monday morning, and others in St. Petersburg. Similarly, on Friday evening, different genres prevail — depending on the city."
   ]
  },
  {
   "cell_type": "markdown",
   "metadata": {
    "id": "S8UcW6Hw_Zcu"
   },
   "source": [
    "I save tables with data in two variables:\n",
    "* in Moscow — in `moscow_general`;\n",
    "* in St. Petersburg — in `spb_general`."
   ]
  },
  {
   "cell_type": "code",
   "execution_count": 31,
   "metadata": {
    "id": "qeaFfM_P_Zcu"
   },
   "outputs": [],
   "source": [
    "moscow_general = df[df['city'] == 'Moscow'] #getting the moscow_general table from those rows of the df table, \n",
    "#for which the value in the 'city' column is 'Moscow'\n",
    "\n",
    "spb_general = df[df['city'] == 'Saint-Petersburg'] #getting the spb_general table from those rows of the df table,\n",
    "#for which the value in the 'city' column is 'Saint-Petersburg'"
   ]
  },
  {
   "cell_type": "markdown",
   "metadata": {
    "id": "MEJV-CX2_Zcu"
   },
   "source": [
    "Creating the `genre_weekday()' function` with four parameters:\n",
    "* table (dataframe) with data,\n",
    "* day of the week,\n",
    "* initial timestamp in the format 'hh:mm', \n",
    "* the last timestamp in the format 'hh:mm'.\n",
    "\n",
    "The function should return information about the top 10 genres of those tracks that were listened to on the specified day, in the interval between two timestamps."
   ]
  },
  {
   "cell_type": "code",
   "execution_count": 32,
   "metadata": {
    "id": "laJT9BYl_Zcu"
   },
   "outputs": [],
   "source": [
    "def genre_weekday(table, day, time1, time2): #Declaration of the genre_weekday() function with the parameters table, day, time1, time2,\n",
    "# which returns information about the most popular genres on the specified day at the specified time:\n",
    "# 1) the genre_df variable stores those rows of the transmitted table dataframe for which at the same time:\n",
    "# - the value in the day column is equal to the value of the day argument\n",
    "# - the value in the time column is greater than the value of the time1 argument\n",
    "# - the value in the time column is less than the value of the time2 argument\n",
    "    genre_df = table[(table['day'] == day) & (table['time'] > time1) & (table['time'] < time2)]\n",
    "#Using sequential filtering using logical indexing.\n",
    "# 2) I group the genre_df dataframe by the genre column, count the number of records for each of\n",
    "# of genres present, the resulting Series is written to the genre_df_count variable\n",
    "    genre_df_count = genre_df.groupby('genre')['user_id'].count()\n",
    "# 3) I sort genre_df_count in descending order of occurrence and save it to the genre_df_sorted variable\n",
    "    genre_df_sorted = genre_df_count.sort_values(ascending = False)\n",
    "# 4) I return a Series of the first 10 values of genre_df_sorted, these will be the top 10 popular genres (on the specified day, \n",
    "# at the specified time)\n",
    "    return genre_df_sorted.head(10)"
   ]
  },
  {
   "cell_type": "markdown",
   "metadata": {
    "id": "la2s2_PF_Zcu"
   },
   "source": [
    "I compare the results of the `genre_weekday()` function for Moscow and St. Petersburg on Monday morning (from 7:00 to 11:00) and Friday evening (from 17:00 to 23:00):"
   ]
  },
  {
   "cell_type": "code",
   "execution_count": 33,
   "metadata": {
    "id": "yz7itPUQ_Zcu"
   },
   "outputs": [
    {
     "data": {
      "text/plain": [
       "genre\n",
       "pop            781\n",
       "dance          549\n",
       "electronic     480\n",
       "rock           474\n",
       "hiphop         286\n",
       "ruspop         186\n",
       "world          181\n",
       "rusrap         175\n",
       "alternative    164\n",
       "unknown        161\n",
       "Name: user_id, dtype: int64"
      ]
     },
     "execution_count": 33,
     "metadata": {},
     "output_type": "execute_result"
    }
   ],
   "source": [
    "genre_weekday(moscow_general, 'Monday', '07:00', '11:00')\n",
    "# function call for Monday morning in Moscow (instead of df — moscow_general table)\n",
    "# objects storing time are strings and are compared as strings"
   ]
  },
  {
   "cell_type": "code",
   "execution_count": 34,
   "metadata": {
    "id": "kwUcHPdy_Zcu"
   },
   "outputs": [
    {
     "data": {
      "text/plain": [
       "genre\n",
       "pop            218\n",
       "dance          182\n",
       "rock           162\n",
       "electronic     147\n",
       "hiphop          80\n",
       "ruspop          64\n",
       "alternative     58\n",
       "rusrap          55\n",
       "jazz            44\n",
       "classical       40\n",
       "Name: user_id, dtype: int64"
      ]
     },
     "execution_count": 34,
     "metadata": {},
     "output_type": "execute_result"
    }
   ],
   "source": [
    "genre_weekday(spb_general, 'Monday', '07:00', '11:00')\n",
    "# function call for Monday morning in St. Petersburg (spb_general table instead of df)"
   ]
  },
  {
   "cell_type": "code",
   "execution_count": 35,
   "metadata": {
    "id": "EzXVRE1o_Zcu"
   },
   "outputs": [
    {
     "data": {
      "text/plain": [
       "genre\n",
       "pop            713\n",
       "rock           517\n",
       "dance          495\n",
       "electronic     482\n",
       "hiphop         273\n",
       "world          208\n",
       "ruspop         170\n",
       "alternative    163\n",
       "classical      163\n",
       "rusrap         142\n",
       "Name: user_id, dtype: int64"
      ]
     },
     "execution_count": 35,
     "metadata": {},
     "output_type": "execute_result"
    }
   ],
   "source": [
    "genre_weekday(moscow_general, 'Friday', '17:00', '23:00')\n",
    "# function call for Friday evening in Moscow"
   ]
  },
  {
   "cell_type": "code",
   "execution_count": 36,
   "metadata": {
    "id": "JZaEKu5v_Zcu"
   },
   "outputs": [
    {
     "data": {
      "text/plain": [
       "genre\n",
       "pop            256\n",
       "electronic     216\n",
       "rock           216\n",
       "dance          210\n",
       "hiphop          97\n",
       "alternative     63\n",
       "jazz            61\n",
       "classical       60\n",
       "rusrap          59\n",
       "world           54\n",
       "Name: user_id, dtype: int64"
      ]
     },
     "execution_count": 36,
     "metadata": {},
     "output_type": "execute_result"
    }
   ],
   "source": [
    "genre_weekday(spb_general, 'Friday', '17:00', '23:00')\n",
    "# function call for Friday evening in St. Petersburg"
   ]
  },
  {
   "cell_type": "markdown",
   "metadata": {
    "id": "wrCe4MNX_Zcu"
   },
   "source": [
    "**Conclusions**\n",
    "\n",
    "If we compare the top 10 genres on Monday morning, we can draw the following conclusions:\n",
    "\n",
    "1. In Moscow and St. Petersburg, they listen to similar music. The only difference is that the “world” genre entered the Moscow rating, and jazz and classical music entered the St. Petersburg rating.\n",
    "\n",
    "2. There were so many missing values in Moscow that the value `unknown\" took the tenth place among the most popular genres. This means that the missing values occupy a significant share in the data and threaten the reliability of the study.\n",
    "\n",
    "Friday night doesn't change that picture. Some genres rise a little higher, others go down, but overall the top 10 remains the same.\n",
    "\n",
    "Thus, the second hypothesis was only partially confirmed:\n",
    "* Users listen to similar music at the beginning of the week and at the end.\n",
    "* The difference between Moscow and St. Petersburg is not too pronounced. In Moscow, they listen to Russian popular music more often, in St. Petersburg — jazz.\n",
    "\n",
    "However, omissions in the data cast doubt on this result. There are so many of them in Moscow that the top-10 rating could look different if not for the lost data on genres."
   ]
  },
  {
   "cell_type": "markdown",
   "metadata": {
    "id": "JolODAqr_Zcu"
   },
   "source": [
    "### Genre preferences in Moscow and St. Petersburg\n",
    "\n",
    "Hypothesis: St. Petersburg is the capital of rap, music of this genre is listened to there more often than in Moscow. And Moscow is a city of contrasts, in which, nevertheless, pop music prevails."
   ]
  },
  {
   "cell_type": "markdown",
   "metadata": {
    "id": "DlegSvaT_Zcu"
   },
   "source": [
    "I will group the `moscow_general` table by genre and count the listenings of tracks of each genre using the `count()` method. Then I will sort the result in descending order and save it in the `moscow_genres` table."
   ]
  },
  {
   "cell_type": "code",
   "execution_count": 37,
   "metadata": {
    "id": "r19lIPke_Zcu"
   },
   "outputs": [],
   "source": [
    "moscow_genres = moscow_general.groupby('genre')['user_id'].count().sort_values(ascending=False)\n",
    "# one row: grouping the moscow_general table by the 'genre' column, \n",
    "# counting the number of 'genre' values in this grouping by the count() method, \n",
    "# sorting the resulting Series in descending order and saving to moscow_genres"
   ]
  },
  {
   "cell_type": "code",
   "execution_count": 38,
   "metadata": {
    "id": "WhCSooF8_Zcv"
   },
   "outputs": [
    {
     "data": {
      "text/plain": [
       "genre\n",
       "pop            5892\n",
       "dance          4435\n",
       "rock           3965\n",
       "electronic     3786\n",
       "hiphop         2096\n",
       "classical      1616\n",
       "world          1432\n",
       "alternative    1379\n",
       "ruspop         1372\n",
       "rusrap         1161\n",
       "Name: user_id, dtype: int64"
      ]
     },
     "execution_count": 38,
     "metadata": {},
     "output_type": "execute_result"
    }
   ],
   "source": [
    "moscow_genres.head(10) #view the first 10 lines of moscow_genres"
   ]
  },
  {
   "cell_type": "markdown",
   "metadata": {
    "id": "cnPG2vnN_Zcv"
   },
   "source": [
    "It is the same for St. Petersburg."
   ]
  },
  {
   "cell_type": "code",
   "execution_count": 39,
   "metadata": {
    "id": "gluLIpE7_Zcv"
   },
   "outputs": [],
   "source": [
    "spb_genres = spb_general.groupby('genre')['user_id'].count().sort_values(ascending=False)\n",
    "# one row: grouping the spb_general table by the 'genre' column, \n",
    "# counting the number of 'genre' values in this grouping by the count() method, \n",
    "# sorting the resulting Series in descending order and saving to spb_genres"
   ]
  },
  {
   "cell_type": "code",
   "execution_count": 40,
   "metadata": {
    "id": "uaGJHjVU_Zcv"
   },
   "outputs": [
    {
     "data": {
      "text/plain": [
       "genre\n",
       "pop            2431\n",
       "dance          1932\n",
       "rock           1879\n",
       "electronic     1737\n",
       "hiphop          960\n",
       "alternative     649\n",
       "classical       646\n",
       "rusrap          564\n",
       "ruspop          538\n",
       "world           515\n",
       "Name: user_id, dtype: int64"
      ]
     },
     "execution_count": 40,
     "metadata": {},
     "output_type": "execute_result"
    }
   ],
   "source": [
    "spb_genres.head(10) #view the first 10 lines of moscow_genres"
   ]
  },
  {
   "cell_type": "markdown",
   "metadata": {
    "id": "RY51YJYu_Zcv"
   },
   "source": [
    "**Conclusions**\n",
    "\n",
    "The hypothesis was partially confirmed:\n",
    "* Pop music is the most popular genre in Moscow, as the hypothesis suggested. Moreover, in the top 10 genres there is a similar genre - Russian popular music.\n",
    "* Contrary to expectations, rap is equally popular in Moscow and St. Petersburg."
   ]
  },
  {
   "cell_type": "markdown",
   "metadata": {
    "id": "ykKQ0N65_Zcv"
   },
   "source": [
    "## Сonclusion of the study\n",
    "\n",
    "3 hypotheses were tested and it was established:\n",
    "\n",
    "1. The day of the week has different effects on user activity in Moscow and St. Petersburg. For example, **on Wednesday**, Moscow has the least activity, while St. Petersburg has the greatest.\n",
    "\n",
    "The first hypothesis was fully confirmed.\n",
    "\n",
    "2. Musical preferences do not change much during the week — be it Moscow or St. Petersburg. Small differences are noticeable at the beginning of the week, on Mondays:\n",
    "* in Moscow, they listen to music of the “world” genre,\n",
    "* in St. Petersburg — jazz and classics.\n",
    "\n",
    "Thus, the second hypothesis was only partially confirmed. This result could have been different if not for the omissions in the data.\n",
    "\n",
    "3. The tastes of users in Moscow and St. Petersburg have more in common than differences. Contrary to expectations, genre preferences in St. Petersburg resemble those in Moscow.\n",
    "\n",
    "The third hypothesis was not confirmed. If there are differences in preferences, they are invisible to the majority of users.\n",
    "\n",
    "**In practice, studies contain tests of statistical hypotheses.**\n",
    "From the data of one service, it is not always possible to draw a conclusion about all residents of the city."
   ]
  },
  {
   "cell_type": "code",
   "execution_count": null,
   "metadata": {},
   "outputs": [],
   "source": []
  }
 ],
 "metadata": {
  "ExecuteTimeLog": [
   {
    "duration": 748,
    "start_time": "2022-01-09T10:53:42.003Z"
   },
   {
    "duration": 129,
    "start_time": "2022-01-09T11:04:50.815Z"
   },
   {
    "duration": 4097,
    "start_time": "2022-01-09T11:05:58.837Z"
   },
   {
    "duration": 89,
    "start_time": "2022-01-09T11:06:33.252Z"
   },
   {
    "duration": 105,
    "start_time": "2022-01-09T11:06:43.871Z"
   },
   {
    "duration": 91,
    "start_time": "2022-01-09T11:08:30.774Z"
   },
   {
    "duration": 85,
    "start_time": "2022-01-09T11:09:37.200Z"
   },
   {
    "duration": 129,
    "start_time": "2022-01-09T11:09:45.782Z"
   },
   {
    "duration": 348,
    "start_time": "2022-01-09T11:10:35.064Z"
   },
   {
    "duration": 95,
    "start_time": "2022-01-09T11:10:45.341Z"
   },
   {
    "duration": 2370,
    "start_time": "2022-01-09T11:13:30.588Z"
   },
   {
    "duration": 448,
    "start_time": "2022-01-09T11:13:35.914Z"
   },
   {
    "duration": 2184,
    "start_time": "2022-01-09T11:13:40.329Z"
   },
   {
    "duration": 519,
    "start_time": "2022-01-09T11:13:45.827Z"
   },
   {
    "duration": 2103,
    "start_time": "2022-01-09T11:13:51.819Z"
   },
   {
    "duration": 89,
    "start_time": "2022-01-09T11:14:52.788Z"
   },
   {
    "duration": 344,
    "start_time": "2022-01-09T11:15:52.537Z"
   },
   {
    "duration": 3,
    "start_time": "2022-01-09T11:16:31.594Z"
   },
   {
    "duration": 3,
    "start_time": "2022-01-09T11:16:35.327Z"
   },
   {
    "duration": 3,
    "start_time": "2022-01-09T11:16:36.999Z"
   },
   {
    "duration": 3,
    "start_time": "2022-01-09T11:16:38.848Z"
   },
   {
    "duration": 256,
    "start_time": "2022-01-09T11:16:41.519Z"
   },
   {
    "duration": 194,
    "start_time": "2022-01-09T11:33:00.138Z"
   },
   {
    "duration": 199,
    "start_time": "2022-01-09T11:34:53.577Z"
   },
   {
    "duration": 317,
    "start_time": "2022-01-09T11:35:04.847Z"
   },
   {
    "duration": 26,
    "start_time": "2022-01-09T11:35:28.300Z"
   },
   {
    "duration": 4,
    "start_time": "2022-01-09T11:36:21.929Z"
   },
   {
    "duration": 4,
    "start_time": "2022-01-09T11:36:25.777Z"
   },
   {
    "duration": 3,
    "start_time": "2022-01-09T11:36:27.679Z"
   },
   {
    "duration": 3,
    "start_time": "2022-01-09T11:36:30.468Z"
   },
   {
    "duration": 34,
    "start_time": "2022-01-09T11:36:45.698Z"
   },
   {
    "duration": 282,
    "start_time": "2022-01-10T03:53:20.987Z"
   },
   {
    "duration": 622,
    "start_time": "2022-01-10T03:59:58.828Z"
   },
   {
    "duration": 148,
    "start_time": "2022-01-10T04:00:02.648Z"
   },
   {
    "duration": 18,
    "start_time": "2022-01-10T04:00:05.479Z"
   },
   {
    "duration": 25,
    "start_time": "2022-01-10T04:00:07.909Z"
   },
   {
    "duration": 4,
    "start_time": "2022-01-10T04:00:14.699Z"
   },
   {
    "duration": 21,
    "start_time": "2022-01-10T04:04:07.517Z"
   },
   {
    "duration": 260,
    "start_time": "2022-01-10T04:04:26.890Z"
   },
   {
    "duration": 3,
    "start_time": "2022-01-10T04:04:36.619Z"
   },
   {
    "duration": 24,
    "start_time": "2022-01-10T04:07:11.129Z"
   },
   {
    "duration": 42,
    "start_time": "2022-01-10T04:07:46.855Z"
   },
   {
    "duration": 44,
    "start_time": "2022-01-10T04:08:01.876Z"
   },
   {
    "duration": 107,
    "start_time": "2022-01-10T04:09:50.254Z"
   },
   {
    "duration": 79,
    "start_time": "2022-01-10T04:10:05.628Z"
   },
   {
    "duration": 83,
    "start_time": "2022-01-10T04:10:32.085Z"
   },
   {
    "duration": 44,
    "start_time": "2022-01-10T04:10:44.955Z"
   },
   {
    "duration": 41,
    "start_time": "2022-01-10T04:11:08.622Z"
   },
   {
    "duration": 43,
    "start_time": "2022-01-10T04:11:28.502Z"
   },
   {
    "duration": 19,
    "start_time": "2022-01-10T04:33:05.175Z"
   },
   {
    "duration": 23,
    "start_time": "2022-01-10T04:33:09.184Z"
   },
   {
    "duration": 59,
    "start_time": "2022-01-10T04:35:58.064Z"
   },
   {
    "duration": 71,
    "start_time": "2022-01-10T04:47:10.724Z"
   },
   {
    "duration": 52,
    "start_time": "2022-01-10T04:47:27.203Z"
   },
   {
    "duration": 230,
    "start_time": "2022-01-10T04:52:35.301Z"
   },
   {
    "duration": 7,
    "start_time": "2022-01-10T04:57:54.467Z"
   },
   {
    "duration": 238,
    "start_time": "2022-01-10T05:08:16.045Z"
   },
   {
    "duration": 246,
    "start_time": "2022-01-10T05:10:05.369Z"
   },
   {
    "duration": 235,
    "start_time": "2022-01-10T05:11:55.761Z"
   },
   {
    "duration": 77,
    "start_time": "2022-01-10T05:12:21.213Z"
   },
   {
    "duration": 242,
    "start_time": "2022-01-10T05:15:41.712Z"
   },
   {
    "duration": 243,
    "start_time": "2022-01-10T05:17:12.146Z"
   },
   {
    "duration": 90,
    "start_time": "2022-01-10T05:17:41.453Z"
   },
   {
    "duration": 316,
    "start_time": "2022-01-10T05:18:13.537Z"
   },
   {
    "duration": 552,
    "start_time": "2022-01-10T09:30:21.988Z"
   },
   {
    "duration": 837,
    "start_time": "2022-01-10T09:31:13.203Z"
   },
   {
    "duration": 185,
    "start_time": "2022-01-10T09:31:15.034Z"
   },
   {
    "duration": 28,
    "start_time": "2022-01-10T09:31:16.912Z"
   },
   {
    "duration": 33,
    "start_time": "2022-01-10T09:31:26.801Z"
   },
   {
    "duration": 5,
    "start_time": "2022-01-10T09:32:07.721Z"
   },
   {
    "duration": 25,
    "start_time": "2022-01-10T09:32:11.825Z"
   },
   {
    "duration": 6,
    "start_time": "2022-01-10T09:32:13.923Z"
   },
   {
    "duration": 60,
    "start_time": "2022-01-10T09:32:26.964Z"
   },
   {
    "duration": 29,
    "start_time": "2022-01-10T09:39:23.534Z"
   },
   {
    "duration": 30,
    "start_time": "2022-01-10T09:39:31.050Z"
   },
   {
    "duration": 84,
    "start_time": "2022-01-10T09:39:54.952Z"
   },
   {
    "duration": 105,
    "start_time": "2022-01-10T09:40:01.123Z"
   },
   {
    "duration": 102,
    "start_time": "2022-01-10T09:40:32.427Z"
   },
   {
    "duration": 80,
    "start_time": "2022-01-10T09:40:39.643Z"
   },
   {
    "duration": 9,
    "start_time": "2022-01-10T09:41:31.182Z"
   },
   {
    "duration": 119,
    "start_time": "2022-01-10T09:47:03.891Z"
   },
   {
    "duration": 5,
    "start_time": "2022-01-10T09:52:47.128Z"
   },
   {
    "duration": 5,
    "start_time": "2022-01-10T09:52:51.107Z"
   },
   {
    "duration": 419,
    "start_time": "2022-01-10T09:53:43.459Z"
   },
   {
    "duration": 363,
    "start_time": "2022-01-10T09:57:28.719Z"
   },
   {
    "duration": 382,
    "start_time": "2022-01-10T09:57:55.334Z"
   },
   {
    "duration": 5,
    "start_time": "2022-01-10T09:58:54.129Z"
   },
   {
    "duration": 148,
    "start_time": "2022-01-10T10:14:36.000Z"
   },
   {
    "duration": 9,
    "start_time": "2022-01-10T10:16:53.452Z"
   },
   {
    "duration": 9,
    "start_time": "2022-01-10T10:18:20.756Z"
   },
   {
    "duration": 4,
    "start_time": "2022-01-10T10:24:18.747Z"
   },
   {
    "duration": 18,
    "start_time": "2022-01-10T10:25:59.280Z"
   },
   {
    "duration": 22,
    "start_time": "2022-01-10T10:26:09.932Z"
   },
   {
    "duration": 24,
    "start_time": "2022-01-10T10:26:15.592Z"
   },
   {
    "duration": 19,
    "start_time": "2022-01-10T10:27:19.103Z"
   },
   {
    "duration": 14,
    "start_time": "2022-01-10T10:32:26.340Z"
   },
   {
    "duration": 119,
    "start_time": "2022-01-10T10:53:59.594Z"
   },
   {
    "duration": 125,
    "start_time": "2022-01-10T10:54:32.052Z"
   },
   {
    "duration": 102,
    "start_time": "2022-01-11T02:42:45.540Z"
   },
   {
    "duration": 100,
    "start_time": "2022-01-11T02:45:55.171Z"
   },
   {
    "duration": 97,
    "start_time": "2022-01-11T02:50:27.793Z"
   },
   {
    "duration": 113,
    "start_time": "2022-01-11T03:03:02.251Z"
   },
   {
    "duration": 104,
    "start_time": "2022-01-11T03:19:31.755Z"
   },
   {
    "duration": 94,
    "start_time": "2022-01-11T03:55:13.749Z"
   },
   {
    "duration": 506,
    "start_time": "2022-01-11T03:55:36.183Z"
   },
   {
    "duration": 470,
    "start_time": "2022-01-11T03:55:50.060Z"
   },
   {
    "duration": 5,
    "start_time": "2022-01-11T03:56:00.332Z"
   },
   {
    "duration": 6,
    "start_time": "2022-01-11T03:56:17.100Z"
   },
   {
    "duration": 611,
    "start_time": "2022-01-11T03:56:32.208Z"
   },
   {
    "duration": 578,
    "start_time": "2022-01-11T03:56:33.138Z"
   },
   {
    "duration": 5,
    "start_time": "2022-01-11T03:57:35.683Z"
   },
   {
    "duration": 297,
    "start_time": "2022-01-11T03:57:40.817Z"
   },
   {
    "duration": 297,
    "start_time": "2022-01-11T03:58:16.969Z"
   },
   {
    "duration": 330,
    "start_time": "2022-01-11T03:58:26.638Z"
   },
   {
    "duration": 309,
    "start_time": "2022-01-11T03:58:51.367Z"
   },
   {
    "duration": 7,
    "start_time": "2022-01-11T04:57:36.830Z"
   },
   {
    "duration": 276,
    "start_time": "2022-01-11T04:57:55.037Z"
   },
   {
    "duration": 5,
    "start_time": "2022-01-11T05:01:37.486Z"
   },
   {
    "duration": 278,
    "start_time": "2022-01-11T05:01:43.311Z"
   },
   {
    "duration": 319,
    "start_time": "2022-01-11T05:03:58.517Z"
   },
   {
    "duration": 292,
    "start_time": "2022-01-11T05:04:14.437Z"
   },
   {
    "duration": 154,
    "start_time": "2022-01-11T05:04:24.767Z"
   },
   {
    "duration": 339,
    "start_time": "2022-01-11T05:04:40.668Z"
   },
   {
    "duration": 5,
    "start_time": "2022-01-11T05:08:56.829Z"
   },
   {
    "duration": 646,
    "start_time": "2022-01-11T05:09:00.617Z"
   },
   {
    "duration": 396,
    "start_time": "2022-01-11T05:10:06.168Z"
   },
   {
    "duration": 5,
    "start_time": "2022-01-11T05:10:25.370Z"
   },
   {
    "duration": 295,
    "start_time": "2022-01-11T05:10:26.766Z"
   },
   {
    "duration": 5,
    "start_time": "2022-01-11T05:10:47.788Z"
   },
   {
    "duration": 306,
    "start_time": "2022-01-11T05:10:49.917Z"
   },
   {
    "duration": 381,
    "start_time": "2022-01-11T05:11:17.439Z"
   },
   {
    "duration": 100,
    "start_time": "2022-01-11T05:11:29.827Z"
   },
   {
    "duration": 301,
    "start_time": "2022-01-11T05:11:41.526Z"
   },
   {
    "duration": 826,
    "start_time": "2022-01-11T05:11:56.817Z"
   },
   {
    "duration": 5,
    "start_time": "2022-01-11T05:12:09.219Z"
   },
   {
    "duration": 296,
    "start_time": "2022-01-11T05:12:11.128Z"
   },
   {
    "duration": 103,
    "start_time": "2022-01-11T05:30:23.681Z"
   },
   {
    "duration": 289,
    "start_time": "2022-01-11T05:30:58.738Z"
   },
   {
    "duration": 328,
    "start_time": "2022-01-11T05:31:17.800Z"
   },
   {
    "duration": 747,
    "start_time": "2022-01-11T05:31:28.481Z"
   },
   {
    "duration": 195,
    "start_time": "2022-01-11T05:31:29.701Z"
   },
   {
    "duration": 27,
    "start_time": "2022-01-11T05:31:30.851Z"
   },
   {
    "duration": 33,
    "start_time": "2022-01-11T05:31:32.630Z"
   },
   {
    "duration": 5,
    "start_time": "2022-01-11T05:31:36.400Z"
   },
   {
    "duration": 27,
    "start_time": "2022-01-11T05:31:38.056Z"
   },
   {
    "duration": 5,
    "start_time": "2022-01-11T05:31:39.071Z"
   },
   {
    "duration": 55,
    "start_time": "2022-01-11T05:31:40.441Z"
   },
   {
    "duration": 24,
    "start_time": "2022-01-11T05:32:01.252Z"
   },
   {
    "duration": 31,
    "start_time": "2022-01-11T05:32:02.738Z"
   },
   {
    "duration": 97,
    "start_time": "2022-01-11T05:32:06.940Z"
   },
   {
    "duration": 103,
    "start_time": "2022-01-11T05:32:08.681Z"
   },
   {
    "duration": 77,
    "start_time": "2022-01-11T05:32:10.551Z"
   },
   {
    "duration": 8,
    "start_time": "2022-01-11T05:32:14.301Z"
   },
   {
    "duration": 5,
    "start_time": "2022-01-11T05:32:16.970Z"
   },
   {
    "duration": 73,
    "start_time": "2022-01-11T05:32:19.538Z"
   },
   {
    "duration": 9,
    "start_time": "2022-01-11T05:32:21.520Z"
   },
   {
    "duration": 13,
    "start_time": "2022-01-11T05:32:27.830Z"
   },
   {
    "duration": 14,
    "start_time": "2022-01-11T05:32:30.160Z"
   },
   {
    "duration": 5,
    "start_time": "2022-01-11T05:32:37.114Z"
   },
   {
    "duration": 567,
    "start_time": "2022-01-11T05:32:39.580Z"
   },
   {
    "duration": 5,
    "start_time": "2022-01-11T05:35:04.652Z"
   },
   {
    "duration": 598,
    "start_time": "2022-01-11T05:35:07.501Z"
   },
   {
    "duration": 5,
    "start_time": "2022-01-11T05:49:09.319Z"
   },
   {
    "duration": 5,
    "start_time": "2022-01-11T05:49:23.076Z"
   },
   {
    "duration": 594,
    "start_time": "2022-01-11T05:49:42.373Z"
   },
   {
    "duration": 571,
    "start_time": "2022-01-11T05:51:26.872Z"
   },
   {
    "duration": 5,
    "start_time": "2022-01-11T05:52:19.136Z"
   },
   {
    "duration": 5,
    "start_time": "2022-01-11T05:52:30.546Z"
   },
   {
    "duration": 15,
    "start_time": "2022-01-11T05:52:34.688Z"
   },
   {
    "duration": 5,
    "start_time": "2022-01-11T05:52:39.905Z"
   },
   {
    "duration": 672,
    "start_time": "2022-01-11T05:53:00.564Z"
   },
   {
    "duration": 583,
    "start_time": "2022-01-11T05:54:53.333Z"
   },
   {
    "duration": 15,
    "start_time": "2022-01-11T06:51:48.905Z"
   },
   {
    "duration": 15,
    "start_time": "2022-01-11T06:52:04.279Z"
   },
   {
    "duration": 6,
    "start_time": "2022-01-11T06:59:36.709Z"
   },
   {
    "duration": 8,
    "start_time": "2022-01-11T07:34:44.139Z"
   },
   {
    "duration": 619,
    "start_time": "2022-01-11T07:34:46.493Z"
   },
   {
    "duration": 4,
    "start_time": "2022-01-11T07:35:45.692Z"
   },
   {
    "duration": 582,
    "start_time": "2022-01-11T07:35:47.776Z"
   },
   {
    "duration": 5,
    "start_time": "2022-01-11T07:36:17.966Z"
   },
   {
    "duration": 1038,
    "start_time": "2022-01-11T07:36:20.386Z"
   },
   {
    "duration": 584,
    "start_time": "2022-01-11T07:37:02.962Z"
   },
   {
    "duration": 21,
    "start_time": "2022-01-11T07:37:06.255Z"
   },
   {
    "duration": 480,
    "start_time": "2022-01-11T07:37:28.404Z"
   },
   {
    "duration": 5,
    "start_time": "2022-01-11T07:37:42.674Z"
   },
   {
    "duration": 825,
    "start_time": "2022-01-11T07:37:45.222Z"
   },
   {
    "duration": 585,
    "start_time": "2022-01-11T07:37:58.145Z"
   },
   {
    "duration": 294,
    "start_time": "2022-01-11T07:38:09.576Z"
   },
   {
    "duration": 607,
    "start_time": "2022-01-11T07:38:44.824Z"
   },
   {
    "duration": 283,
    "start_time": "2022-01-11T07:39:16.086Z"
   },
   {
    "duration": 554,
    "start_time": "2022-01-11T07:39:43.455Z"
   },
   {
    "duration": 589,
    "start_time": "2022-01-11T07:40:13.144Z"
   },
   {
    "duration": 578,
    "start_time": "2022-01-11T07:40:53.485Z"
   },
   {
    "duration": 11,
    "start_time": "2022-01-11T07:45:38.678Z"
   },
   {
    "duration": 5,
    "start_time": "2022-01-11T07:46:04.688Z"
   },
   {
    "duration": 4,
    "start_time": "2022-01-11T07:50:48.224Z"
   },
   {
    "duration": 176,
    "start_time": "2022-01-11T08:11:26.471Z"
   },
   {
    "duration": 5,
    "start_time": "2022-01-11T08:11:40.633Z"
   },
   {
    "duration": 732,
    "start_time": "2022-01-11T08:11:55.225Z"
   },
   {
    "duration": 572,
    "start_time": "2022-01-12T02:32:48.169Z"
   },
   {
    "duration": 141,
    "start_time": "2022-01-12T02:32:49.780Z"
   },
   {
    "duration": 18,
    "start_time": "2022-01-12T02:32:51.830Z"
   },
   {
    "duration": 26,
    "start_time": "2022-01-12T02:33:07.010Z"
   },
   {
    "duration": 4,
    "start_time": "2022-01-12T02:33:20.680Z"
   },
   {
    "duration": 21,
    "start_time": "2022-01-12T02:33:29.519Z"
   },
   {
    "duration": 3,
    "start_time": "2022-01-12T02:33:31.159Z"
   },
   {
    "duration": 40,
    "start_time": "2022-01-12T02:33:33.151Z"
   },
   {
    "duration": 16,
    "start_time": "2022-01-12T02:33:42.722Z"
   },
   {
    "duration": 21,
    "start_time": "2022-01-12T02:33:44.009Z"
   },
   {
    "duration": 53,
    "start_time": "2022-01-12T02:33:52.289Z"
   },
   {
    "duration": 66,
    "start_time": "2022-01-12T02:33:54.091Z"
   },
   {
    "duration": 47,
    "start_time": "2022-01-12T02:33:55.850Z"
   },
   {
    "duration": 33,
    "start_time": "2022-01-12T02:39:22.713Z"
   },
   {
    "duration": 35,
    "start_time": "2022-01-12T02:39:56.835Z"
   },
   {
    "duration": 38,
    "start_time": "2022-01-12T02:45:06.409Z"
   },
   {
    "duration": 339,
    "start_time": "2022-01-12T02:47:58.595Z"
   },
   {
    "duration": 298,
    "start_time": "2022-01-12T02:48:21.448Z"
   },
   {
    "duration": 38,
    "start_time": "2022-01-12T02:49:05.492Z"
   },
   {
    "duration": 4,
    "start_time": "2022-01-12T02:49:15.658Z"
   },
   {
    "duration": 56,
    "start_time": "2022-01-12T02:49:30.988Z"
   },
   {
    "duration": 3,
    "start_time": "2022-01-12T02:50:58.294Z"
   },
   {
    "duration": 61,
    "start_time": "2022-01-12T02:51:01.297Z"
   },
   {
    "duration": 3260,
    "start_time": "2022-01-12T02:51:18.390Z"
   },
   {
    "duration": 227,
    "start_time": "2022-01-12T02:52:21.114Z"
   },
   {
    "duration": 3,
    "start_time": "2022-01-12T02:53:45.934Z"
   },
   {
    "duration": 56,
    "start_time": "2022-01-12T02:54:18.490Z"
   },
   {
    "duration": 253,
    "start_time": "2022-01-12T02:55:04.429Z"
   },
   {
    "duration": 287,
    "start_time": "2022-01-12T02:55:22.559Z"
   },
   {
    "duration": 114,
    "start_time": "2022-01-12T02:55:46.809Z"
   },
   {
    "duration": 6,
    "start_time": "2022-01-12T02:55:53.691Z"
   },
   {
    "duration": 432,
    "start_time": "2022-01-12T03:00:01.229Z"
   },
   {
    "duration": 270,
    "start_time": "2022-01-12T03:01:55.838Z"
   },
   {
    "duration": 240,
    "start_time": "2022-01-12T03:02:18.956Z"
   },
   {
    "duration": 251,
    "start_time": "2022-01-12T03:03:03.651Z"
   },
   {
    "duration": 244,
    "start_time": "2022-01-12T03:05:57.001Z"
   },
   {
    "duration": 42,
    "start_time": "2022-01-12T03:07:31.106Z"
   },
   {
    "duration": 42,
    "start_time": "2022-01-12T03:08:23.037Z"
   },
   {
    "duration": 41,
    "start_time": "2022-01-12T03:08:35.214Z"
   },
   {
    "duration": 37,
    "start_time": "2022-01-12T03:08:47.327Z"
   },
   {
    "duration": 37,
    "start_time": "2022-01-12T03:09:18.347Z"
   },
   {
    "duration": 39,
    "start_time": "2022-01-12T03:09:52.377Z"
   },
   {
    "duration": 10,
    "start_time": "2022-01-12T03:10:18.697Z"
   },
   {
    "duration": 10,
    "start_time": "2022-01-12T03:10:26.946Z"
   },
   {
    "duration": 3,
    "start_time": "2022-01-12T03:10:33.258Z"
   },
   {
    "duration": 487,
    "start_time": "2022-01-12T03:10:42.670Z"
   },
   {
    "duration": 4,
    "start_time": "2022-01-12T03:11:32.472Z"
   },
   {
    "duration": 480,
    "start_time": "2022-01-12T03:11:34.381Z"
   },
   {
    "duration": 4,
    "start_time": "2022-01-12T03:11:56.717Z"
   },
   {
    "duration": 17,
    "start_time": "2022-01-12T03:11:58.070Z"
   },
   {
    "duration": 16,
    "start_time": "2022-01-12T03:12:00.238Z"
   },
   {
    "duration": 17,
    "start_time": "2022-01-12T03:12:01.317Z"
   },
   {
    "duration": 15,
    "start_time": "2022-01-12T03:12:02.387Z"
   },
   {
    "duration": 18,
    "start_time": "2022-01-12T03:12:03.358Z"
   },
   {
    "duration": 16,
    "start_time": "2022-01-12T03:12:04.367Z"
   },
   {
    "duration": 241,
    "start_time": "2022-01-12T03:13:42.802Z"
   },
   {
    "duration": 5,
    "start_time": "2022-01-12T03:14:29.007Z"
   },
   {
    "duration": 6,
    "start_time": "2022-01-12T03:14:49.321Z"
   },
   {
    "duration": 9,
    "start_time": "2022-01-12T03:15:03.745Z"
   },
   {
    "duration": 238,
    "start_time": "2022-01-12T03:16:15.756Z"
   },
   {
    "duration": 243,
    "start_time": "2022-01-12T03:16:16.633Z"
   },
   {
    "duration": 12,
    "start_time": "2022-01-12T03:16:58.668Z"
   },
   {
    "duration": 12,
    "start_time": "2022-01-12T03:17:07.841Z"
   },
   {
    "duration": 4,
    "start_time": "2022-01-12T03:18:22.714Z"
   },
   {
    "duration": 275,
    "start_time": "2022-01-12T03:21:00.455Z"
   },
   {
    "duration": 43,
    "start_time": "2022-01-12T03:21:43.976Z"
   },
   {
    "duration": 42,
    "start_time": "2022-01-12T03:23:00.329Z"
   },
   {
    "duration": 3,
    "start_time": "2022-01-12T03:23:13.051Z"
   },
   {
    "duration": 41,
    "start_time": "2022-01-12T03:23:17.760Z"
   },
   {
    "duration": 37,
    "start_time": "2022-01-12T03:23:27.920Z"
   },
   {
    "duration": 10,
    "start_time": "2022-01-12T03:23:57.631Z"
   },
   {
    "duration": 10,
    "start_time": "2022-01-12T03:23:58.541Z"
   },
   {
    "duration": 3,
    "start_time": "2022-01-12T03:24:13.474Z"
   },
   {
    "duration": 16,
    "start_time": "2022-01-12T03:24:14.560Z"
   },
   {
    "duration": 14,
    "start_time": "2022-01-12T03:24:15.551Z"
   },
   {
    "duration": 14,
    "start_time": "2022-01-12T03:24:16.011Z"
   },
   {
    "duration": 13,
    "start_time": "2022-01-12T03:24:16.060Z"
   },
   {
    "duration": 16,
    "start_time": "2022-01-12T03:24:16.401Z"
   },
   {
    "duration": 14,
    "start_time": "2022-01-12T03:24:16.458Z"
   },
   {
    "duration": 8,
    "start_time": "2022-01-12T03:24:19.361Z"
   },
   {
    "duration": 13,
    "start_time": "2022-01-12T03:24:43.241Z"
   },
   {
    "duration": 11,
    "start_time": "2022-01-12T03:24:43.999Z"
   },
   {
    "duration": 5,
    "start_time": "2022-01-12T03:25:07.559Z"
   },
   {
    "duration": 475,
    "start_time": "2022-01-12T03:25:11.242Z"
   },
   {
    "duration": 4,
    "start_time": "2022-01-12T03:26:02.047Z"
   },
   {
    "duration": 485,
    "start_time": "2022-01-12T03:26:03.516Z"
   },
   {
    "duration": 40,
    "start_time": "2022-01-12T03:30:01.636Z"
   },
   {
    "duration": 2,
    "start_time": "2022-01-12T03:30:17.806Z"
   },
   {
    "duration": 11,
    "start_time": "2022-01-12T03:30:57.406Z"
   },
   {
    "duration": 12,
    "start_time": "2022-01-12T03:42:25.060Z"
   },
   {
    "duration": 9,
    "start_time": "2022-01-12T03:43:17.513Z"
   },
   {
    "duration": 9,
    "start_time": "2022-01-12T03:43:39.375Z"
   },
   {
    "duration": 3103,
    "start_time": "2022-01-12T03:45:40.920Z"
   },
   {
    "duration": 3371,
    "start_time": "2022-01-12T03:46:13.092Z"
   },
   {
    "duration": 3733,
    "start_time": "2022-01-12T03:46:29.743Z"
   },
   {
    "duration": 3211,
    "start_time": "2022-01-12T03:47:16.261Z"
   },
   {
    "duration": 3159,
    "start_time": "2022-01-12T03:47:39.502Z"
   },
   {
    "duration": 2981,
    "start_time": "2022-01-12T03:48:19.312Z"
   },
   {
    "duration": 2,
    "start_time": "2022-01-12T03:48:35.995Z"
   },
   {
    "duration": 143,
    "start_time": "2022-01-12T03:48:36.385Z"
   },
   {
    "duration": 10,
    "start_time": "2022-01-12T03:48:36.773Z"
   },
   {
    "duration": 26,
    "start_time": "2022-01-12T03:48:37.101Z"
   },
   {
    "duration": 3,
    "start_time": "2022-01-12T03:48:39.414Z"
   },
   {
    "duration": 14,
    "start_time": "2022-01-12T03:48:40.173Z"
   },
   {
    "duration": 3,
    "start_time": "2022-01-12T03:48:43.983Z"
   },
   {
    "duration": 40,
    "start_time": "2022-01-12T03:48:45.772Z"
   },
   {
    "duration": 16,
    "start_time": "2022-01-12T03:48:47.814Z"
   },
   {
    "duration": 20,
    "start_time": "2022-01-12T03:48:48.723Z"
   },
   {
    "duration": 53,
    "start_time": "2022-01-12T03:48:51.726Z"
   },
   {
    "duration": 55,
    "start_time": "2022-01-12T03:48:53.014Z"
   },
   {
    "duration": 45,
    "start_time": "2022-01-12T03:48:56.223Z"
   },
   {
    "duration": 38,
    "start_time": "2022-01-12T03:49:00.026Z"
   },
   {
    "duration": 3,
    "start_time": "2022-01-12T03:49:06.112Z"
   },
   {
    "duration": 9,
    "start_time": "2022-01-12T03:49:07.696Z"
   },
   {
    "duration": 4433,
    "start_time": "2022-01-12T03:49:18.019Z"
   },
   {
    "duration": 2971,
    "start_time": "2022-01-12T03:50:40.885Z"
   },
   {
    "duration": 9,
    "start_time": "2022-01-12T03:51:51.933Z"
   },
   {
    "duration": 3145,
    "start_time": "2022-01-12T03:51:58.042Z"
   },
   {
    "duration": 2935,
    "start_time": "2022-01-12T03:53:43.817Z"
   },
   {
    "duration": 3,
    "start_time": "2022-01-12T03:54:26.646Z"
   },
   {
    "duration": 133,
    "start_time": "2022-01-12T03:54:31.138Z"
   },
   {
    "duration": 11,
    "start_time": "2022-01-12T03:54:32.349Z"
   },
   {
    "duration": 26,
    "start_time": "2022-01-12T03:54:33.867Z"
   },
   {
    "duration": 3,
    "start_time": "2022-01-12T03:54:38.840Z"
   },
   {
    "duration": 15,
    "start_time": "2022-01-12T03:54:40.650Z"
   },
   {
    "duration": 4,
    "start_time": "2022-01-12T03:54:41.936Z"
   },
   {
    "duration": 39,
    "start_time": "2022-01-12T03:54:44.258Z"
   },
   {
    "duration": 17,
    "start_time": "2022-01-12T03:54:47.029Z"
   },
   {
    "duration": 26,
    "start_time": "2022-01-12T03:54:49.588Z"
   },
   {
    "duration": 50,
    "start_time": "2022-01-12T03:54:51.492Z"
   },
   {
    "duration": 56,
    "start_time": "2022-01-12T03:54:53.231Z"
   },
   {
    "duration": 47,
    "start_time": "2022-01-12T03:54:55.555Z"
   },
   {
    "duration": 38,
    "start_time": "2022-01-12T03:55:10.454Z"
   },
   {
    "duration": 3,
    "start_time": "2022-01-12T03:55:20.743Z"
   },
   {
    "duration": 9,
    "start_time": "2022-01-12T03:55:22.389Z"
   },
   {
    "duration": 3354,
    "start_time": "2022-01-12T03:55:25.392Z"
   },
   {
    "duration": 3390,
    "start_time": "2022-01-12T03:55:48.465Z"
   },
   {
    "duration": 9,
    "start_time": "2022-01-12T03:56:45.031Z"
   },
   {
    "duration": 4085,
    "start_time": "2022-01-12T03:56:48.781Z"
   },
   {
    "duration": 9,
    "start_time": "2022-01-12T03:58:00.524Z"
   },
   {
    "duration": 3248,
    "start_time": "2022-01-12T03:58:08.544Z"
   },
   {
    "duration": 3050,
    "start_time": "2022-01-12T03:58:49.339Z"
   },
   {
    "duration": 239,
    "start_time": "2022-01-12T04:00:07.643Z"
   },
   {
    "duration": 87,
    "start_time": "2022-01-12T04:00:22.618Z"
   },
   {
    "duration": 303,
    "start_time": "2022-01-12T04:00:29.148Z"
   },
   {
    "duration": 2,
    "start_time": "2022-01-12T04:00:46.173Z"
   },
   {
    "duration": 126,
    "start_time": "2022-01-12T04:00:49.323Z"
   },
   {
    "duration": 11,
    "start_time": "2022-01-12T04:00:50.742Z"
   },
   {
    "duration": 23,
    "start_time": "2022-01-12T04:00:52.325Z"
   },
   {
    "duration": 3,
    "start_time": "2022-01-12T04:00:57.363Z"
   },
   {
    "duration": 5,
    "start_time": "2022-01-12T04:01:16.745Z"
   },
   {
    "duration": 3,
    "start_time": "2022-01-12T04:01:39.685Z"
   },
   {
    "duration": 20,
    "start_time": "2022-01-12T04:01:48.494Z"
   },
   {
    "duration": 4,
    "start_time": "2022-01-12T04:01:53.706Z"
   },
   {
    "duration": 39,
    "start_time": "2022-01-12T04:01:57.863Z"
   },
   {
    "duration": 17,
    "start_time": "2022-01-12T04:02:10.356Z"
   },
   {
    "duration": 29,
    "start_time": "2022-01-12T04:02:12.414Z"
   },
   {
    "duration": 50,
    "start_time": "2022-01-12T04:02:20.390Z"
   },
   {
    "duration": 58,
    "start_time": "2022-01-12T04:02:21.855Z"
   },
   {
    "duration": 51,
    "start_time": "2022-01-12T04:02:26.655Z"
   },
   {
    "duration": 40,
    "start_time": "2022-01-12T04:02:35.606Z"
   },
   {
    "duration": 3,
    "start_time": "2022-01-12T04:02:51.517Z"
   },
   {
    "duration": 12,
    "start_time": "2022-01-12T04:03:07.994Z"
   },
   {
    "duration": 3549,
    "start_time": "2022-01-12T04:03:48.951Z"
   },
   {
    "duration": 3890,
    "start_time": "2022-01-12T04:04:17.884Z"
   },
   {
    "duration": 3193,
    "start_time": "2022-01-12T04:06:11.539Z"
   },
   {
    "duration": 240,
    "start_time": "2022-01-12T04:06:48.330Z"
   },
   {
    "duration": 3,
    "start_time": "2022-01-12T04:25:41.958Z"
   },
   {
    "duration": 123,
    "start_time": "2022-01-12T04:25:43.297Z"
   },
   {
    "duration": 10,
    "start_time": "2022-01-12T04:25:44.507Z"
   },
   {
    "duration": 22,
    "start_time": "2022-01-12T04:25:46.509Z"
   },
   {
    "duration": 4,
    "start_time": "2022-01-12T04:25:50.528Z"
   },
   {
    "duration": 11,
    "start_time": "2022-01-12T04:25:52.899Z"
   },
   {
    "duration": 4,
    "start_time": "2022-01-12T04:25:54.356Z"
   },
   {
    "duration": 39,
    "start_time": "2022-01-12T04:25:56.368Z"
   },
   {
    "duration": 16,
    "start_time": "2022-01-12T04:26:06.508Z"
   },
   {
    "duration": 21,
    "start_time": "2022-01-12T04:26:07.949Z"
   },
   {
    "duration": 54,
    "start_time": "2022-01-12T04:26:10.109Z"
   },
   {
    "duration": 58,
    "start_time": "2022-01-12T04:26:11.829Z"
   },
   {
    "duration": 47,
    "start_time": "2022-01-12T04:26:15.069Z"
   },
   {
    "duration": 38,
    "start_time": "2022-01-12T04:26:16.900Z"
   },
   {
    "duration": 3,
    "start_time": "2022-01-12T04:26:21.440Z"
   },
   {
    "duration": 12,
    "start_time": "2022-01-12T04:26:26.037Z"
   },
   {
    "duration": 3867,
    "start_time": "2022-01-12T04:26:29.788Z"
   },
   {
    "duration": 4301,
    "start_time": "2022-01-12T04:27:04.859Z"
   },
   {
    "duration": 2942,
    "start_time": "2022-01-12T04:27:18.131Z"
   },
   {
    "duration": 4593,
    "start_time": "2022-01-12T04:28:51.883Z"
   },
   {
    "duration": 3,
    "start_time": "2022-01-12T04:29:00.113Z"
   },
   {
    "duration": 9,
    "start_time": "2022-01-12T04:29:02.840Z"
   },
   {
    "duration": 3117,
    "start_time": "2022-01-12T04:29:26.904Z"
   },
   {
    "duration": 3185,
    "start_time": "2022-01-12T04:29:45.634Z"
   },
   {
    "duration": 3166,
    "start_time": "2022-01-12T04:30:13.638Z"
   },
   {
    "duration": 3070,
    "start_time": "2022-01-12T04:30:25.524Z"
   },
   {
    "duration": 4514,
    "start_time": "2022-01-12T04:30:48.592Z"
   },
   {
    "duration": 37,
    "start_time": "2022-01-12T04:31:06.912Z"
   },
   {
    "duration": 38,
    "start_time": "2022-01-12T04:31:51.771Z"
   },
   {
    "duration": 285,
    "start_time": "2022-01-12T04:32:06.162Z"
   },
   {
    "duration": 225,
    "start_time": "2022-01-12T04:38:09.726Z"
   },
   {
    "duration": 236,
    "start_time": "2022-01-12T04:38:20.934Z"
   },
   {
    "duration": 3035,
    "start_time": "2022-01-12T04:39:36.241Z"
   },
   {
    "duration": 3,
    "start_time": "2022-01-12T04:40:01.143Z"
   },
   {
    "duration": 131,
    "start_time": "2022-01-12T04:40:01.498Z"
   },
   {
    "duration": 12,
    "start_time": "2022-01-12T04:40:01.917Z"
   },
   {
    "duration": 23,
    "start_time": "2022-01-12T04:40:02.277Z"
   },
   {
    "duration": 3,
    "start_time": "2022-01-12T04:40:03.957Z"
   },
   {
    "duration": 14,
    "start_time": "2022-01-12T04:40:04.287Z"
   },
   {
    "duration": 3,
    "start_time": "2022-01-12T04:40:05.961Z"
   },
   {
    "duration": 41,
    "start_time": "2022-01-12T04:40:08.612Z"
   },
   {
    "duration": 17,
    "start_time": "2022-01-12T04:40:10.417Z"
   },
   {
    "duration": 21,
    "start_time": "2022-01-12T04:40:11.360Z"
   },
   {
    "duration": 50,
    "start_time": "2022-01-12T04:40:13.874Z"
   },
   {
    "duration": 59,
    "start_time": "2022-01-12T04:40:14.896Z"
   },
   {
    "duration": 48,
    "start_time": "2022-01-12T04:40:16.744Z"
   },
   {
    "duration": 38,
    "start_time": "2022-01-12T04:40:20.398Z"
   },
   {
    "duration": 3,
    "start_time": "2022-01-12T04:40:36.932Z"
   },
   {
    "duration": 47,
    "start_time": "2022-01-12T04:40:37.995Z"
   },
   {
    "duration": 222,
    "start_time": "2022-01-12T04:40:58.697Z"
   },
   {
    "duration": 37,
    "start_time": "2022-01-12T04:41:21.259Z"
   },
   {
    "duration": 10,
    "start_time": "2022-01-12T04:41:50.979Z"
   },
   {
    "duration": 10,
    "start_time": "2022-01-12T04:41:53.818Z"
   },
   {
    "duration": 3,
    "start_time": "2022-01-12T04:41:58.095Z"
   },
   {
    "duration": 3401,
    "start_time": "2022-01-12T04:42:00.269Z"
   },
   {
    "duration": 3,
    "start_time": "2022-01-12T04:42:23.274Z"
   },
   {
    "duration": 15,
    "start_time": "2022-01-12T04:42:26.219Z"
   },
   {
    "duration": 14,
    "start_time": "2022-01-12T04:42:27.498Z"
   },
   {
    "duration": 15,
    "start_time": "2022-01-12T04:42:27.920Z"
   },
   {
    "duration": 14,
    "start_time": "2022-01-12T04:42:28.338Z"
   },
   {
    "duration": 16,
    "start_time": "2022-01-12T04:42:28.841Z"
   },
   {
    "duration": 13,
    "start_time": "2022-01-12T04:42:28.858Z"
   },
   {
    "duration": 8,
    "start_time": "2022-01-12T04:42:35.667Z"
   },
   {
    "duration": 13,
    "start_time": "2022-01-12T04:43:13.907Z"
   },
   {
    "duration": 11,
    "start_time": "2022-01-12T04:43:15.776Z"
   },
   {
    "duration": 4,
    "start_time": "2022-01-12T04:44:28.970Z"
   },
   {
    "duration": 604,
    "start_time": "2022-01-12T04:44:54.823Z"
   },
   {
    "duration": 981,
    "start_time": "2022-01-12T04:45:30.498Z"
   },
   {
    "duration": 74,
    "start_time": "2022-01-12T04:45:50.465Z"
   },
   {
    "duration": 492,
    "start_time": "2022-01-12T04:46:36.331Z"
   },
   {
    "duration": 112,
    "start_time": "2022-01-12T04:48:26.614Z"
   },
   {
    "duration": 675,
    "start_time": "2022-01-12T04:50:03.989Z"
   },
   {
    "duration": 4,
    "start_time": "2022-01-12T04:55:19.239Z"
   },
   {
    "duration": 472,
    "start_time": "2022-01-12T04:55:24.232Z"
   },
   {
    "duration": 3,
    "start_time": "2022-01-12T05:01:48.138Z"
   },
   {
    "duration": 1191,
    "start_time": "2022-01-12T05:01:50.341Z"
   },
   {
    "duration": 4,
    "start_time": "2022-01-12T05:06:06.382Z"
   },
   {
    "duration": 1234,
    "start_time": "2022-01-12T05:06:11.447Z"
   },
   {
    "duration": 81,
    "start_time": "2022-01-12T05:28:00.066Z"
   },
   {
    "duration": 3,
    "start_time": "2022-01-12T05:31:52.790Z"
   },
   {
    "duration": 1182,
    "start_time": "2022-01-12T05:31:58.425Z"
   },
   {
    "duration": 1316,
    "start_time": "2022-01-12T05:32:24.133Z"
   },
   {
    "duration": 4,
    "start_time": "2022-01-12T05:46:35.307Z"
   },
   {
    "duration": 14,
    "start_time": "2022-01-12T05:46:37.059Z"
   },
   {
    "duration": 13,
    "start_time": "2022-01-12T05:46:51.164Z"
   },
   {
    "duration": 14,
    "start_time": "2022-01-12T05:47:01.389Z"
   },
   {
    "duration": 12,
    "start_time": "2022-01-12T05:47:40.611Z"
   },
   {
    "duration": 4,
    "start_time": "2022-01-12T05:54:54.609Z"
   },
   {
    "duration": 14,
    "start_time": "2022-01-12T05:54:55.793Z"
   },
   {
    "duration": 503,
    "start_time": "2022-01-12T05:55:02.203Z"
   },
   {
    "duration": 234,
    "start_time": "2022-01-12T05:55:18.938Z"
   },
   {
    "duration": 4,
    "start_time": "2022-01-12T05:55:27.456Z"
   },
   {
    "duration": 13,
    "start_time": "2022-01-12T05:55:28.947Z"
   },
   {
    "duration": 255,
    "start_time": "2022-01-12T05:55:29.915Z"
   },
   {
    "duration": 9,
    "start_time": "2022-01-12T05:56:51.614Z"
   },
   {
    "duration": 4,
    "start_time": "2022-01-12T05:56:53.696Z"
   },
   {
    "duration": 18,
    "start_time": "2022-01-12T05:56:57.306Z"
   },
   {
    "duration": 18,
    "start_time": "2022-01-12T05:57:00.617Z"
   },
   {
    "duration": 17,
    "start_time": "2022-01-12T05:57:03.037Z"
   },
   {
    "duration": 14,
    "start_time": "2022-01-12T05:57:05.364Z"
   },
   {
    "duration": 245,
    "start_time": "2022-01-12T06:02:39.514Z"
   },
   {
    "duration": 255,
    "start_time": "2022-01-12T06:04:13.377Z"
   },
   {
    "duration": 9,
    "start_time": "2022-01-12T06:04:18.815Z"
   },
   {
    "duration": 4,
    "start_time": "2022-01-12T06:04:27.297Z"
   },
   {
    "duration": 6,
    "start_time": "2022-01-12T06:05:48.137Z"
   },
   {
    "duration": 336,
    "start_time": "2022-01-12T06:05:53.718Z"
   },
   {
    "duration": 234,
    "start_time": "2022-01-12T06:07:19.210Z"
   },
   {
    "duration": 258,
    "start_time": "2022-01-12T06:07:47.497Z"
   },
   {
    "duration": 253,
    "start_time": "2022-01-12T06:08:08.130Z"
   },
   {
    "duration": 250,
    "start_time": "2022-01-12T06:08:22.930Z"
   },
   {
    "duration": 11,
    "start_time": "2022-01-12T06:08:35.203Z"
   },
   {
    "duration": 10,
    "start_time": "2022-01-12T06:08:35.951Z"
   },
   {
    "duration": 4,
    "start_time": "2022-01-12T06:08:37.367Z"
   },
   {
    "duration": 17,
    "start_time": "2022-01-12T06:08:39.397Z"
   },
   {
    "duration": 13,
    "start_time": "2022-01-12T06:08:41.019Z"
   },
   {
    "duration": 28,
    "start_time": "2022-01-12T06:08:42.341Z"
   },
   {
    "duration": 13,
    "start_time": "2022-01-12T06:08:43.210Z"
   },
   {
    "duration": 10,
    "start_time": "2022-01-12T06:08:47.370Z"
   },
   {
    "duration": 301,
    "start_time": "2022-01-12T06:08:57.810Z"
   },
   {
    "duration": 10,
    "start_time": "2022-01-12T06:10:22.902Z"
   },
   {
    "duration": 4,
    "start_time": "2022-01-12T06:10:24.420Z"
   },
   {
    "duration": 8,
    "start_time": "2022-01-12T06:10:33.162Z"
   },
   {
    "duration": 4,
    "start_time": "2022-01-12T06:10:41.119Z"
   },
   {
    "duration": 8,
    "start_time": "2022-01-12T06:12:39.405Z"
   },
   {
    "duration": 6,
    "start_time": "2022-01-12T06:12:45.358Z"
   },
   {
    "duration": 7,
    "start_time": "2022-01-12T06:12:47.097Z"
   },
   {
    "duration": 4,
    "start_time": "2022-01-12T06:12:54.017Z"
   },
   {
    "duration": 41,
    "start_time": "2022-01-12T06:23:11.026Z"
   },
   {
    "duration": 37,
    "start_time": "2022-01-12T06:24:58.785Z"
   },
   {
    "duration": 40,
    "start_time": "2022-01-12T06:39:25.286Z"
   },
   {
    "duration": 41,
    "start_time": "2022-01-12T06:39:34.870Z"
   },
   {
    "duration": 23,
    "start_time": "2022-01-12T06:40:32.318Z"
   },
   {
    "duration": 21,
    "start_time": "2022-01-12T06:40:54.350Z"
   },
   {
    "duration": 40,
    "start_time": "2022-01-12T06:42:46.669Z"
   },
   {
    "duration": 1352,
    "start_time": "2022-01-13T14:36:04.367Z"
   },
   {
    "duration": 128,
    "start_time": "2022-01-13T14:36:05.721Z"
   },
   {
    "duration": 15,
    "start_time": "2022-01-13T14:36:05.851Z"
   },
   {
    "duration": 31,
    "start_time": "2022-01-13T14:36:05.867Z"
   },
   {
    "duration": 6,
    "start_time": "2022-01-13T14:36:05.899Z"
   },
   {
    "duration": 26,
    "start_time": "2022-01-13T14:36:05.906Z"
   },
   {
    "duration": 7,
    "start_time": "2022-01-13T14:36:05.933Z"
   },
   {
    "duration": 38,
    "start_time": "2022-01-13T14:36:05.942Z"
   },
   {
    "duration": 15,
    "start_time": "2022-01-13T14:36:05.982Z"
   },
   {
    "duration": 35,
    "start_time": "2022-01-13T14:36:05.998Z"
   },
   {
    "duration": 52,
    "start_time": "2022-01-13T14:36:06.034Z"
   },
   {
    "duration": 84,
    "start_time": "2022-01-13T14:36:06.088Z"
   },
   {
    "duration": 54,
    "start_time": "2022-01-13T14:36:06.173Z"
   },
   {
    "duration": 38,
    "start_time": "2022-01-13T14:36:06.229Z"
   },
   {
    "duration": 3,
    "start_time": "2022-01-13T14:36:06.269Z"
   },
   {
    "duration": 68,
    "start_time": "2022-01-13T14:36:06.274Z"
   },
   {
    "duration": 38,
    "start_time": "2022-01-13T14:36:06.344Z"
   },
   {
    "duration": 10,
    "start_time": "2022-01-13T14:36:06.384Z"
   },
   {
    "duration": 32,
    "start_time": "2022-01-13T14:36:06.395Z"
   },
   {
    "duration": 3,
    "start_time": "2022-01-13T14:36:06.429Z"
   },
   {
    "duration": 19,
    "start_time": "2022-01-13T14:36:06.434Z"
   },
   {
    "duration": 13,
    "start_time": "2022-01-13T14:36:06.455Z"
   },
   {
    "duration": 14,
    "start_time": "2022-01-13T14:36:06.471Z"
   },
   {
    "duration": 41,
    "start_time": "2022-01-13T14:36:06.487Z"
   },
   {
    "duration": 15,
    "start_time": "2022-01-13T14:36:06.529Z"
   },
   {
    "duration": 12,
    "start_time": "2022-01-13T14:36:06.546Z"
   },
   {
    "duration": 6,
    "start_time": "2022-01-13T14:36:06.560Z"
   },
   {
    "duration": 14,
    "start_time": "2022-01-13T14:36:06.568Z"
   },
   {
    "duration": 7,
    "start_time": "2022-01-13T14:36:06.584Z"
   },
   {
    "duration": 4,
    "start_time": "2022-01-13T14:36:06.593Z"
   },
   {
    "duration": 41,
    "start_time": "2022-01-13T14:36:06.598Z"
   },
   {
    "duration": 10,
    "start_time": "2022-01-13T14:36:06.641Z"
   },
   {
    "duration": 16,
    "start_time": "2022-01-13T14:36:06.653Z"
   },
   {
    "duration": 10,
    "start_time": "2022-01-13T14:36:06.670Z"
   },
   {
    "duration": 7,
    "start_time": "2022-01-13T14:36:06.682Z"
   },
   {
    "duration": 3,
    "start_time": "2022-01-13T14:36:06.691Z"
   },
   {
    "duration": 6,
    "start_time": "2022-01-13T14:36:06.727Z"
   },
   {
    "duration": 3,
    "start_time": "2022-01-13T14:36:06.735Z"
   },
   {
    "duration": 87,
    "start_time": "2022-01-13T14:43:26.950Z"
   },
   {
    "duration": 177,
    "start_time": "2022-01-14T13:50:35.240Z"
   },
   {
    "duration": 133,
    "start_time": "2022-01-14T13:51:08.119Z"
   },
   {
    "duration": 800,
    "start_time": "2022-01-14T13:51:45.228Z"
   },
   {
    "duration": 194,
    "start_time": "2022-01-14T13:51:53.449Z"
   },
   {
    "duration": 13,
    "start_time": "2022-01-14T13:54:45.096Z"
   },
   {
    "duration": 125,
    "start_time": "2022-01-14T13:56:14.619Z"
   },
   {
    "duration": 499,
    "start_time": "2022-01-14T13:58:50.023Z"
   },
   {
    "duration": 380,
    "start_time": "2022-01-14T13:59:06.119Z"
   },
   {
    "duration": 4,
    "start_time": "2022-01-14T13:59:48.489Z"
   },
   {
    "duration": 224,
    "start_time": "2022-01-14T13:59:51.000Z"
   },
   {
    "duration": 17,
    "start_time": "2022-01-14T13:59:54.321Z"
   },
   {
    "duration": 33,
    "start_time": "2022-01-14T13:59:56.561Z"
   },
   {
    "duration": 6,
    "start_time": "2022-01-14T14:00:03.076Z"
   },
   {
    "duration": 23,
    "start_time": "2022-01-14T14:00:06.520Z"
   },
   {
    "duration": 4,
    "start_time": "2022-01-14T14:00:08.981Z"
   },
   {
    "duration": 58,
    "start_time": "2022-01-14T14:00:12.768Z"
   },
   {
    "duration": 32,
    "start_time": "2022-01-14T14:00:16.089Z"
   },
   {
    "duration": 29,
    "start_time": "2022-01-14T14:00:18.339Z"
   },
   {
    "duration": 92,
    "start_time": "2022-01-14T14:00:20.189Z"
   },
   {
    "duration": 107,
    "start_time": "2022-01-14T14:00:22.207Z"
   },
   {
    "duration": 87,
    "start_time": "2022-01-14T14:00:23.988Z"
   },
   {
    "duration": 65,
    "start_time": "2022-01-14T14:00:28.848Z"
   },
   {
    "duration": 4,
    "start_time": "2022-01-14T14:00:31.849Z"
   },
   {
    "duration": 85,
    "start_time": "2022-01-14T14:00:34.176Z"
   },
   {
    "duration": 61,
    "start_time": "2022-01-14T14:00:36.204Z"
   },
   {
    "duration": 14,
    "start_time": "2022-01-14T14:00:44.767Z"
   },
   {
    "duration": 14,
    "start_time": "2022-01-14T14:00:46.639Z"
   },
   {
    "duration": 6,
    "start_time": "2022-01-14T14:00:49.341Z"
   },
   {
    "duration": 20,
    "start_time": "2022-01-14T14:00:51.249Z"
   },
   {
    "duration": 19,
    "start_time": "2022-01-14T14:00:51.840Z"
   },
   {
    "duration": 22,
    "start_time": "2022-01-14T14:00:52.359Z"
   },
   {
    "duration": 19,
    "start_time": "2022-01-14T14:00:52.868Z"
   },
   {
    "duration": 21,
    "start_time": "2022-01-14T14:00:53.327Z"
   },
   {
    "duration": 18,
    "start_time": "2022-01-14T14:00:53.787Z"
   },
   {
    "duration": 379,
    "start_time": "2022-01-14T14:00:55.036Z"
   },
   {
    "duration": 15,
    "start_time": "2022-01-14T14:00:58.200Z"
   },
   {
    "duration": 13,
    "start_time": "2022-01-14T14:00:59.398Z"
   },
   {
    "duration": 5,
    "start_time": "2022-01-14T14:01:00.841Z"
   },
   {
    "duration": 25,
    "start_time": "2022-01-14T14:01:04.128Z"
   },
   {
    "duration": 18,
    "start_time": "2022-01-14T14:01:05.281Z"
   },
   {
    "duration": 25,
    "start_time": "2022-01-14T14:01:06.231Z"
   },
   {
    "duration": 18,
    "start_time": "2022-01-14T14:01:07.242Z"
   },
   {
    "duration": 12,
    "start_time": "2022-01-14T14:01:11.754Z"
   },
   {
    "duration": 5,
    "start_time": "2022-01-14T14:01:14.650Z"
   },
   {
    "duration": 9,
    "start_time": "2022-01-14T14:01:18.250Z"
   },
   {
    "duration": 5,
    "start_time": "2022-01-14T14:01:21.801Z"
   },
   {
    "duration": 5,
    "start_time": "2022-01-14T14:04:29.560Z"
   },
   {
    "duration": 29,
    "start_time": "2022-01-14T14:05:00.208Z"
   },
   {
    "duration": 83,
    "start_time": "2022-01-14T14:05:21.202Z"
   },
   {
    "duration": 83,
    "start_time": "2022-01-14T14:05:40.073Z"
   },
   {
    "duration": 29,
    "start_time": "2022-01-14T14:05:56.020Z"
   },
   {
    "duration": 3,
    "start_time": "2022-01-14T14:06:13.497Z"
   },
   {
    "duration": 207,
    "start_time": "2022-01-14T14:06:14.199Z"
   },
   {
    "duration": 19,
    "start_time": "2022-01-14T14:06:14.879Z"
   },
   {
    "duration": 34,
    "start_time": "2022-01-14T14:06:16.248Z"
   },
   {
    "duration": 6,
    "start_time": "2022-01-14T14:06:19.089Z"
   },
   {
    "duration": 28,
    "start_time": "2022-01-14T14:06:20.899Z"
   },
   {
    "duration": 5,
    "start_time": "2022-01-14T14:06:22.682Z"
   },
   {
    "duration": 57,
    "start_time": "2022-01-14T14:06:25.442Z"
   },
   {
    "duration": 28,
    "start_time": "2022-01-14T14:06:28.182Z"
   },
   {
    "duration": 30,
    "start_time": "2022-01-14T14:06:33.819Z"
   },
   {
    "duration": 88,
    "start_time": "2022-01-14T14:06:41.236Z"
   },
   {
    "duration": 79,
    "start_time": "2022-01-14T14:06:51.430Z"
   },
   {
    "duration": 30,
    "start_time": "2022-01-14T14:06:59.747Z"
   },
   {
    "duration": 85,
    "start_time": "2022-01-14T14:07:03.494Z"
   },
   {
    "duration": 85,
    "start_time": "2022-01-14T14:07:24.170Z"
   },
   {
    "duration": 96,
    "start_time": "2022-01-14T14:07:26.359Z"
   },
   {
    "duration": 82,
    "start_time": "2022-01-14T14:07:27.711Z"
   },
   {
    "duration": 62,
    "start_time": "2022-01-14T14:07:36.800Z"
   },
   {
    "duration": 4,
    "start_time": "2022-01-14T14:07:39.320Z"
   },
   {
    "duration": 103,
    "start_time": "2022-01-14T14:07:43.572Z"
   },
   {
    "duration": 59,
    "start_time": "2022-01-14T14:07:45.661Z"
   },
   {
    "duration": 13,
    "start_time": "2022-01-14T14:07:52.929Z"
   },
   {
    "duration": 14,
    "start_time": "2022-01-14T14:07:54.229Z"
   },
   {
    "duration": 5,
    "start_time": "2022-01-14T14:07:56.381Z"
   },
   {
    "duration": 21,
    "start_time": "2022-01-14T14:07:57.739Z"
   },
   {
    "duration": 23,
    "start_time": "2022-01-14T14:07:58.309Z"
   },
   {
    "duration": 18,
    "start_time": "2022-01-14T14:07:58.769Z"
   },
   {
    "duration": 19,
    "start_time": "2022-01-14T14:07:59.139Z"
   },
   {
    "duration": 21,
    "start_time": "2022-01-14T14:07:59.559Z"
   },
   {
    "duration": 21,
    "start_time": "2022-01-14T14:08:00.008Z"
   },
   {
    "duration": 393,
    "start_time": "2022-01-14T14:08:01.340Z"
   },
   {
    "duration": 18,
    "start_time": "2022-01-14T14:08:03.930Z"
   },
   {
    "duration": 14,
    "start_time": "2022-01-14T14:08:04.550Z"
   },
   {
    "duration": 5,
    "start_time": "2022-01-14T14:08:06.008Z"
   },
   {
    "duration": 24,
    "start_time": "2022-01-14T14:08:08.167Z"
   },
   {
    "duration": 19,
    "start_time": "2022-01-14T14:08:08.920Z"
   },
   {
    "duration": 27,
    "start_time": "2022-01-14T14:08:09.527Z"
   },
   {
    "duration": 19,
    "start_time": "2022-01-14T14:08:10.139Z"
   },
   {
    "duration": 12,
    "start_time": "2022-01-14T14:08:15.479Z"
   },
   {
    "duration": 6,
    "start_time": "2022-01-14T14:08:16.836Z"
   },
   {
    "duration": 7,
    "start_time": "2022-01-14T14:08:30.619Z"
   },
   {
    "duration": 7,
    "start_time": "2022-01-14T14:08:46.439Z"
   },
   {
    "duration": 9,
    "start_time": "2022-01-14T14:08:48.928Z"
   },
   {
    "duration": 7,
    "start_time": "2022-01-14T14:08:53.159Z"
   },
   {
    "duration": 137,
    "start_time": "2022-01-14T14:20:40.699Z"
   },
   {
    "duration": 670,
    "start_time": "2022-01-14T14:27:55.048Z"
   },
   {
    "duration": 145,
    "start_time": "2022-01-14T14:27:55.720Z"
   },
   {
    "duration": 18,
    "start_time": "2022-01-14T14:27:55.867Z"
   },
   {
    "duration": 29,
    "start_time": "2022-01-14T14:27:55.887Z"
   },
   {
    "duration": 4,
    "start_time": "2022-01-14T14:27:55.918Z"
   },
   {
    "duration": 43,
    "start_time": "2022-01-14T14:27:55.924Z"
   },
   {
    "duration": 4,
    "start_time": "2022-01-14T14:27:55.969Z"
   },
   {
    "duration": 44,
    "start_time": "2022-01-14T14:27:55.975Z"
   },
   {
    "duration": 17,
    "start_time": "2022-01-14T14:27:56.021Z"
   },
   {
    "duration": 25,
    "start_time": "2022-01-14T14:27:56.061Z"
   },
   {
    "duration": 73,
    "start_time": "2022-01-14T14:27:56.088Z"
   },
   {
    "duration": 61,
    "start_time": "2022-01-14T14:27:56.162Z"
   },
   {
    "duration": 65,
    "start_time": "2022-01-14T14:27:56.225Z"
   },
   {
    "duration": 45,
    "start_time": "2022-01-14T14:27:56.292Z"
   },
   {
    "duration": 23,
    "start_time": "2022-01-14T14:27:56.339Z"
   },
   {
    "duration": 65,
    "start_time": "2022-01-14T14:27:56.364Z"
   },
   {
    "duration": 45,
    "start_time": "2022-01-14T14:27:56.431Z"
   },
   {
    "duration": 16,
    "start_time": "2022-01-14T14:27:56.478Z"
   },
   {
    "duration": 27,
    "start_time": "2022-01-14T14:27:56.496Z"
   },
   {
    "duration": 12,
    "start_time": "2022-01-14T14:27:56.525Z"
   },
   {
    "duration": 43,
    "start_time": "2022-01-14T14:27:56.539Z"
   },
   {
    "duration": 32,
    "start_time": "2022-01-14T14:27:56.584Z"
   },
   {
    "duration": 41,
    "start_time": "2022-01-14T14:27:56.618Z"
   },
   {
    "duration": 42,
    "start_time": "2022-01-14T14:27:56.661Z"
   },
   {
    "duration": 36,
    "start_time": "2022-01-14T14:27:56.705Z"
   },
   {
    "duration": 17,
    "start_time": "2022-01-14T14:27:56.744Z"
   },
   {
    "duration": 330,
    "start_time": "2022-01-14T14:27:56.765Z"
   },
   {
    "duration": -72,
    "start_time": "2022-01-14T14:27:57.169Z"
   },
   {
    "duration": -73,
    "start_time": "2022-01-14T14:27:57.171Z"
   },
   {
    "duration": -82,
    "start_time": "2022-01-14T14:27:57.181Z"
   },
   {
    "duration": -82,
    "start_time": "2022-01-14T14:27:57.182Z"
   },
   {
    "duration": -83,
    "start_time": "2022-01-14T14:27:57.184Z"
   },
   {
    "duration": -84,
    "start_time": "2022-01-14T14:27:57.186Z"
   },
   {
    "duration": -85,
    "start_time": "2022-01-14T14:27:57.188Z"
   },
   {
    "duration": -85,
    "start_time": "2022-01-14T14:27:57.189Z"
   },
   {
    "duration": -86,
    "start_time": "2022-01-14T14:27:57.191Z"
   },
   {
    "duration": -86,
    "start_time": "2022-01-14T14:27:57.192Z"
   },
   {
    "duration": -87,
    "start_time": "2022-01-14T14:27:57.194Z"
   },
   {
    "duration": 427,
    "start_time": "2022-01-14T19:08:43.880Z"
   },
   {
    "duration": 406,
    "start_time": "2022-01-14T19:08:47.112Z"
   },
   {
    "duration": 1049,
    "start_time": "2022-01-14T19:10:38.279Z"
   },
   {
    "duration": 24,
    "start_time": "2022-01-14T19:11:05.735Z"
   },
   {
    "duration": 429,
    "start_time": "2022-01-14T19:15:15.553Z"
   },
   {
    "duration": 600,
    "start_time": "2022-01-14T19:15:24.844Z"
   },
   {
    "duration": 390,
    "start_time": "2022-01-14T19:15:41.834Z"
   },
   {
    "duration": 3,
    "start_time": "2022-01-14T19:16:05.274Z"
   },
   {
    "duration": 208,
    "start_time": "2022-01-14T19:16:14.932Z"
   },
   {
    "duration": 18,
    "start_time": "2022-01-14T19:16:32.631Z"
   },
   {
    "duration": 34,
    "start_time": "2022-01-14T19:16:39.294Z"
   },
   {
    "duration": 4,
    "start_time": "2022-01-14T19:32:34.250Z"
   },
   {
    "duration": 193,
    "start_time": "2022-01-14T19:32:36.874Z"
   },
   {
    "duration": 16,
    "start_time": "2022-01-14T19:32:38.639Z"
   },
   {
    "duration": 33,
    "start_time": "2022-01-14T19:32:40.727Z"
   },
   {
    "duration": 5,
    "start_time": "2022-01-14T19:32:45.869Z"
   },
   {
    "duration": 27,
    "start_time": "2022-01-14T19:32:48.683Z"
   },
   {
    "duration": 6,
    "start_time": "2022-01-14T19:32:50.518Z"
   },
   {
    "duration": 55,
    "start_time": "2022-01-14T19:32:53.326Z"
   },
   {
    "duration": 25,
    "start_time": "2022-01-14T19:32:55.876Z"
   },
   {
    "duration": 31,
    "start_time": "2022-01-14T19:33:00.922Z"
   },
   {
    "duration": 91,
    "start_time": "2022-01-14T19:33:02.524Z"
   },
   {
    "duration": 113,
    "start_time": "2022-01-14T19:33:03.995Z"
   },
   {
    "duration": 89,
    "start_time": "2022-01-14T19:33:04.839Z"
   },
   {
    "duration": 64,
    "start_time": "2022-01-14T19:33:06.270Z"
   },
   {
    "duration": 5,
    "start_time": "2022-01-14T19:33:07.638Z"
   },
   {
    "duration": 111,
    "start_time": "2022-01-14T19:33:09.320Z"
   },
   {
    "duration": 59,
    "start_time": "2022-01-14T19:33:10.488Z"
   },
   {
    "duration": 13,
    "start_time": "2022-01-14T19:33:14.618Z"
   },
   {
    "duration": 13,
    "start_time": "2022-01-14T19:33:16.598Z"
   },
   {
    "duration": 5,
    "start_time": "2022-01-14T19:33:18.693Z"
   },
   {
    "duration": 24,
    "start_time": "2022-01-14T19:33:19.769Z"
   },
   {
    "duration": 23,
    "start_time": "2022-01-14T19:33:20.127Z"
   },
   {
    "duration": 20,
    "start_time": "2022-01-14T19:33:20.188Z"
   },
   {
    "duration": 28,
    "start_time": "2022-01-14T19:33:20.519Z"
   },
   {
    "duration": 22,
    "start_time": "2022-01-14T19:33:20.568Z"
   },
   {
    "duration": 19,
    "start_time": "2022-01-14T19:33:20.898Z"
   },
   {
    "duration": 17,
    "start_time": "2022-01-14T19:33:22.039Z"
   },
   {
    "duration": 18,
    "start_time": "2022-01-14T19:33:30.332Z"
   },
   {
    "duration": 14,
    "start_time": "2022-01-14T19:33:30.609Z"
   },
   {
    "duration": 5,
    "start_time": "2022-01-14T19:33:31.328Z"
   },
   {
    "duration": 26,
    "start_time": "2022-01-14T19:33:32.543Z"
   },
   {
    "duration": 19,
    "start_time": "2022-01-14T19:33:32.858Z"
   },
   {
    "duration": 25,
    "start_time": "2022-01-14T19:33:32.907Z"
   },
   {
    "duration": 18,
    "start_time": "2022-01-14T19:33:33.319Z"
   },
   {
    "duration": 523,
    "start_time": "2022-01-15T12:38:10.845Z"
   },
   {
    "duration": 118,
    "start_time": "2022-01-15T12:38:11.370Z"
   },
   {
    "duration": 14,
    "start_time": "2022-01-15T12:38:11.490Z"
   },
   {
    "duration": 34,
    "start_time": "2022-01-15T12:38:11.506Z"
   },
   {
    "duration": 19,
    "start_time": "2022-01-15T12:38:11.541Z"
   },
   {
    "duration": 17,
    "start_time": "2022-01-15T12:38:11.562Z"
   },
   {
    "duration": 9,
    "start_time": "2022-01-15T12:38:11.581Z"
   },
   {
    "duration": 43,
    "start_time": "2022-01-15T12:38:11.592Z"
   },
   {
    "duration": 14,
    "start_time": "2022-01-15T12:38:11.637Z"
   },
   {
    "duration": 21,
    "start_time": "2022-01-15T12:38:11.652Z"
   },
   {
    "duration": 62,
    "start_time": "2022-01-15T12:38:11.675Z"
   },
   {
    "duration": 60,
    "start_time": "2022-01-15T12:38:11.738Z"
   },
   {
    "duration": 58,
    "start_time": "2022-01-15T12:38:11.799Z"
   },
   {
    "duration": 36,
    "start_time": "2022-01-15T12:38:11.859Z"
   },
   {
    "duration": 10,
    "start_time": "2022-01-15T12:38:11.896Z"
   },
   {
    "duration": 77,
    "start_time": "2022-01-15T12:38:11.907Z"
   },
   {
    "duration": 36,
    "start_time": "2022-01-15T12:38:11.985Z"
   },
   {
    "duration": 11,
    "start_time": "2022-01-15T12:38:12.022Z"
   },
   {
    "duration": 20,
    "start_time": "2022-01-15T12:38:12.035Z"
   },
   {
    "duration": 27,
    "start_time": "2022-01-15T12:38:12.056Z"
   },
   {
    "duration": 27,
    "start_time": "2022-01-15T12:38:12.085Z"
   },
   {
    "duration": 16,
    "start_time": "2022-01-15T12:38:12.114Z"
   },
   {
    "duration": 15,
    "start_time": "2022-01-15T12:38:12.133Z"
   },
   {
    "duration": 23,
    "start_time": "2022-01-15T12:38:12.150Z"
   },
   {
    "duration": 28,
    "start_time": "2022-01-15T12:38:12.174Z"
   },
   {
    "duration": 19,
    "start_time": "2022-01-15T12:38:12.204Z"
   },
   {
    "duration": 10,
    "start_time": "2022-01-15T12:38:12.225Z"
   },
   {
    "duration": 23,
    "start_time": "2022-01-15T12:38:12.237Z"
   },
   {
    "duration": 20,
    "start_time": "2022-01-15T12:38:12.261Z"
   },
   {
    "duration": 14,
    "start_time": "2022-01-15T12:38:12.282Z"
   },
   {
    "duration": 37,
    "start_time": "2022-01-15T12:38:12.298Z"
   },
   {
    "duration": 25,
    "start_time": "2022-01-15T12:38:12.337Z"
   },
   {
    "duration": 25,
    "start_time": "2022-01-15T12:38:12.364Z"
   },
   {
    "duration": 31,
    "start_time": "2022-01-15T12:38:12.390Z"
   },
   {
    "duration": 9,
    "start_time": "2022-01-15T12:38:12.422Z"
   },
   {
    "duration": 6,
    "start_time": "2022-01-15T12:38:12.433Z"
   },
   {
    "duration": 19,
    "start_time": "2022-01-15T12:38:12.441Z"
   },
   {
    "duration": 11,
    "start_time": "2022-01-15T12:38:12.461Z"
   },
   {
    "duration": 50,
    "start_time": "2022-08-22T05:08:51.478Z"
   },
   {
    "duration": 6,
    "start_time": "2022-08-22T05:09:13.343Z"
   },
   {
    "duration": 5,
    "start_time": "2022-08-22T05:09:28.729Z"
   },
   {
    "duration": 338,
    "start_time": "2022-08-22T05:09:33.350Z"
   },
   {
    "duration": 208,
    "start_time": "2022-08-22T05:09:34.824Z"
   },
   {
    "duration": 15,
    "start_time": "2022-08-22T05:10:00.706Z"
   },
   {
    "duration": 10,
    "start_time": "2022-08-22T05:10:41.886Z"
   },
   {
    "duration": 9,
    "start_time": "2022-08-22T05:10:58.316Z"
   },
   {
    "duration": 9,
    "start_time": "2022-08-22T05:11:06.555Z"
   },
   {
    "duration": 24,
    "start_time": "2022-08-22T05:11:24.125Z"
   },
   {
    "duration": 4,
    "start_time": "2022-08-22T05:11:58.380Z"
   },
   {
    "duration": 19,
    "start_time": "2022-08-22T05:13:24.634Z"
   },
   {
    "duration": 8,
    "start_time": "2022-08-22T05:15:13.305Z"
   },
   {
    "duration": 2,
    "start_time": "2022-08-22T05:16:34.880Z"
   },
   {
    "duration": 149,
    "start_time": "2022-08-22T05:16:34.884Z"
   },
   {
    "duration": 10,
    "start_time": "2022-08-22T05:16:35.035Z"
   },
   {
    "duration": 12,
    "start_time": "2022-08-22T05:16:35.047Z"
   },
   {
    "duration": 37,
    "start_time": "2022-08-22T05:16:35.061Z"
   },
   {
    "duration": 3,
    "start_time": "2022-08-22T05:16:35.100Z"
   },
   {
    "duration": 12,
    "start_time": "2022-08-22T05:16:35.105Z"
   },
   {
    "duration": 6,
    "start_time": "2022-08-22T05:16:35.118Z"
   },
   {
    "duration": 18,
    "start_time": "2022-08-22T05:16:35.126Z"
   },
   {
    "duration": 25,
    "start_time": "2022-08-22T05:16:35.146Z"
   },
   {
    "duration": 41,
    "start_time": "2022-08-22T05:16:35.173Z"
   },
   {
    "duration": 66,
    "start_time": "2022-08-22T05:16:35.216Z"
   },
   {
    "duration": 85,
    "start_time": "2022-08-22T05:16:35.283Z"
   },
   {
    "duration": 70,
    "start_time": "2022-08-22T05:16:35.370Z"
   },
   {
    "duration": 36,
    "start_time": "2022-08-22T05:16:35.442Z"
   },
   {
    "duration": 2,
    "start_time": "2022-08-22T05:16:35.480Z"
   },
   {
    "duration": 85,
    "start_time": "2022-08-22T05:16:35.484Z"
   },
   {
    "duration": 50,
    "start_time": "2022-08-22T05:16:35.570Z"
   },
   {
    "duration": 10,
    "start_time": "2022-08-22T05:16:35.622Z"
   },
   {
    "duration": 9,
    "start_time": "2022-08-22T05:16:35.634Z"
   },
   {
    "duration": 3,
    "start_time": "2022-08-22T05:16:35.647Z"
   },
   {
    "duration": 16,
    "start_time": "2022-08-22T05:16:35.652Z"
   },
   {
    "duration": 39,
    "start_time": "2022-08-22T05:16:35.669Z"
   },
   {
    "duration": 13,
    "start_time": "2022-08-22T05:16:35.710Z"
   },
   {
    "duration": 16,
    "start_time": "2022-08-22T05:16:35.724Z"
   },
   {
    "duration": 13,
    "start_time": "2022-08-22T05:16:35.741Z"
   },
   {
    "duration": 11,
    "start_time": "2022-08-22T05:16:35.756Z"
   },
   {
    "duration": 33,
    "start_time": "2022-08-22T05:16:35.768Z"
   },
   {
    "duration": 9,
    "start_time": "2022-08-22T05:16:35.803Z"
   },
   {
    "duration": 7,
    "start_time": "2022-08-22T05:16:35.813Z"
   },
   {
    "duration": 4,
    "start_time": "2022-08-22T05:16:35.821Z"
   },
   {
    "duration": 15,
    "start_time": "2022-08-22T05:16:35.827Z"
   },
   {
    "duration": 9,
    "start_time": "2022-08-22T05:16:35.844Z"
   },
   {
    "duration": 13,
    "start_time": "2022-08-22T05:16:35.855Z"
   },
   {
    "duration": 35,
    "start_time": "2022-08-22T05:16:35.869Z"
   },
   {
    "duration": 8,
    "start_time": "2022-08-22T05:16:35.906Z"
   },
   {
    "duration": 4,
    "start_time": "2022-08-22T05:16:35.915Z"
   },
   {
    "duration": 20,
    "start_time": "2022-08-22T05:16:35.920Z"
   },
   {
    "duration": 4,
    "start_time": "2022-08-22T05:16:35.942Z"
   },
   {
    "duration": 2,
    "start_time": "2022-08-22T05:16:48.189Z"
   },
   {
    "duration": 156,
    "start_time": "2022-08-22T05:16:48.193Z"
   },
   {
    "duration": 10,
    "start_time": "2022-08-22T05:16:48.350Z"
   },
   {
    "duration": 14,
    "start_time": "2022-08-22T05:16:48.361Z"
   },
   {
    "duration": 37,
    "start_time": "2022-08-22T05:16:48.377Z"
   },
   {
    "duration": 8,
    "start_time": "2022-08-22T05:16:48.415Z"
   },
   {
    "duration": 14,
    "start_time": "2022-08-22T05:16:48.425Z"
   },
   {
    "duration": 17,
    "start_time": "2022-08-22T05:16:48.440Z"
   },
   {
    "duration": 22,
    "start_time": "2022-08-22T05:16:48.458Z"
   },
   {
    "duration": 17,
    "start_time": "2022-08-22T05:16:48.481Z"
   },
   {
    "duration": 19,
    "start_time": "2022-08-22T05:16:48.499Z"
   },
   {
    "duration": 54,
    "start_time": "2022-08-22T05:16:48.520Z"
   },
   {
    "duration": 71,
    "start_time": "2022-08-22T05:16:48.575Z"
   },
   {
    "duration": 59,
    "start_time": "2022-08-22T05:16:48.650Z"
   },
   {
    "duration": 36,
    "start_time": "2022-08-22T05:16:48.711Z"
   },
   {
    "duration": 6,
    "start_time": "2022-08-22T05:16:48.749Z"
   },
   {
    "duration": 76,
    "start_time": "2022-08-22T05:16:48.756Z"
   },
   {
    "duration": 46,
    "start_time": "2022-08-22T05:16:48.834Z"
   },
   {
    "duration": 19,
    "start_time": "2022-08-22T05:16:48.881Z"
   },
   {
    "duration": 9,
    "start_time": "2022-08-22T05:16:48.901Z"
   },
   {
    "duration": 10,
    "start_time": "2022-08-22T05:16:48.911Z"
   },
   {
    "duration": 23,
    "start_time": "2022-08-22T05:16:48.922Z"
   },
   {
    "duration": 16,
    "start_time": "2022-08-22T05:16:48.946Z"
   },
   {
    "duration": 15,
    "start_time": "2022-08-22T05:16:48.963Z"
   },
   {
    "duration": 24,
    "start_time": "2022-08-22T05:16:48.979Z"
   },
   {
    "duration": 20,
    "start_time": "2022-08-22T05:16:49.004Z"
   },
   {
    "duration": 14,
    "start_time": "2022-08-22T05:16:49.026Z"
   },
   {
    "duration": 12,
    "start_time": "2022-08-22T05:16:49.041Z"
   },
   {
    "duration": 21,
    "start_time": "2022-08-22T05:16:49.054Z"
   },
   {
    "duration": 12,
    "start_time": "2022-08-22T05:16:49.077Z"
   },
   {
    "duration": 5,
    "start_time": "2022-08-22T05:16:49.091Z"
   },
   {
    "duration": 17,
    "start_time": "2022-08-22T05:16:49.097Z"
   },
   {
    "duration": 16,
    "start_time": "2022-08-22T05:16:49.116Z"
   },
   {
    "duration": 12,
    "start_time": "2022-08-22T05:16:49.134Z"
   },
   {
    "duration": 8,
    "start_time": "2022-08-22T05:16:49.148Z"
   },
   {
    "duration": 7,
    "start_time": "2022-08-22T05:16:49.158Z"
   },
   {
    "duration": 3,
    "start_time": "2022-08-22T05:16:49.166Z"
   },
   {
    "duration": 6,
    "start_time": "2022-08-22T05:16:49.170Z"
   },
   {
    "duration": 23,
    "start_time": "2022-08-22T05:16:49.178Z"
   },
   {
    "duration": 9,
    "start_time": "2022-08-22T05:17:01.458Z"
   },
   {
    "duration": 12,
    "start_time": "2022-08-22T05:17:06.559Z"
   },
   {
    "duration": 9,
    "start_time": "2022-08-22T05:17:06.977Z"
   },
   {
    "duration": 4,
    "start_time": "2022-08-22T05:17:07.731Z"
   },
   {
    "duration": 16,
    "start_time": "2022-08-22T05:17:08.498Z"
   },
   {
    "duration": 10,
    "start_time": "2022-08-22T05:17:08.800Z"
   },
   {
    "duration": 14,
    "start_time": "2022-08-22T05:17:09.079Z"
   },
   {
    "duration": 10,
    "start_time": "2022-08-22T05:17:09.429Z"
   },
   {
    "duration": 10,
    "start_time": "2022-08-22T05:17:10.999Z"
   },
   {
    "duration": 4,
    "start_time": "2022-08-22T05:17:11.738Z"
   },
   {
    "duration": 6,
    "start_time": "2022-08-22T05:17:13.069Z"
   },
   {
    "duration": 5,
    "start_time": "2022-08-22T05:17:15.009Z"
   },
   {
    "duration": 3,
    "start_time": "2022-08-22T05:25:45.696Z"
   },
   {
    "duration": 144,
    "start_time": "2022-08-22T05:26:16.664Z"
   },
   {
    "duration": 10,
    "start_time": "2022-08-22T05:26:49.695Z"
   },
   {
    "duration": 83,
    "start_time": "2022-08-22T05:27:10.012Z"
   },
   {
    "duration": 9,
    "start_time": "2022-08-22T05:27:21.463Z"
   },
   {
    "duration": 40,
    "start_time": "2022-08-22T05:28:10.773Z"
   },
   {
    "duration": 5,
    "start_time": "2022-08-22T05:33:17.243Z"
   },
   {
    "duration": 5,
    "start_time": "2022-08-22T05:37:35.063Z"
   },
   {
    "duration": 3,
    "start_time": "2022-08-22T05:38:01.485Z"
   },
   {
    "duration": 19,
    "start_time": "2022-08-22T05:39:01.681Z"
   },
   {
    "duration": 14,
    "start_time": "2022-08-22T05:43:06.663Z"
   },
   {
    "duration": 14,
    "start_time": "2022-08-22T05:43:58.805Z"
   },
   {
    "duration": 20,
    "start_time": "2022-08-22T05:45:01.325Z"
   },
   {
    "duration": 60,
    "start_time": "2022-08-22T05:45:44.595Z"
   },
   {
    "duration": 62,
    "start_time": "2022-08-22T05:46:30.785Z"
   },
   {
    "duration": 57,
    "start_time": "2022-08-22T05:46:34.165Z"
   },
   {
    "duration": 54,
    "start_time": "2022-08-22T05:47:19.884Z"
   },
   {
    "duration": 3,
    "start_time": "2022-08-22T21:28:42.834Z"
   },
   {
    "duration": 173,
    "start_time": "2022-08-22T21:28:43.645Z"
   },
   {
    "duration": 15,
    "start_time": "2022-08-22T21:28:44.220Z"
   },
   {
    "duration": 11,
    "start_time": "2022-08-22T21:28:47.445Z"
   },
   {
    "duration": 26,
    "start_time": "2022-08-22T21:28:49.146Z"
   },
   {
    "duration": 4,
    "start_time": "2022-08-22T21:28:53.101Z"
   },
   {
    "duration": 7,
    "start_time": "2022-08-22T21:28:55.055Z"
   },
   {
    "duration": 4,
    "start_time": "2022-08-22T21:28:56.025Z"
   },
   {
    "duration": 23,
    "start_time": "2022-08-22T21:28:57.745Z"
   },
   {
    "duration": 18,
    "start_time": "2022-08-22T21:29:00.155Z"
   },
   {
    "duration": 23,
    "start_time": "2022-08-22T21:29:01.840Z"
   },
   {
    "duration": 58,
    "start_time": "2022-08-22T21:29:03.565Z"
   },
   {
    "duration": 63,
    "start_time": "2022-08-22T21:29:04.692Z"
   },
   {
    "duration": 54,
    "start_time": "2022-08-22T21:29:05.574Z"
   },
   {
    "duration": 44,
    "start_time": "2022-08-22T21:29:07.675Z"
   },
   {
    "duration": 35,
    "start_time": "2022-08-22T21:30:00.576Z"
   },
   {
    "duration": 37,
    "start_time": "2022-08-22T21:30:38.557Z"
   },
   {
    "duration": 32,
    "start_time": "2022-08-22T21:34:12.125Z"
   },
   {
    "duration": 3,
    "start_time": "2022-08-22T21:40:47.518Z"
   },
   {
    "duration": 83,
    "start_time": "2022-08-22T21:45:34.047Z"
   },
   {
    "duration": 36,
    "start_time": "2022-08-22T21:46:05.885Z"
   },
   {
    "duration": 51,
    "start_time": "2022-08-22T21:49:28.036Z"
   },
   {
    "duration": 34,
    "start_time": "2022-08-22T21:52:38.105Z"
   },
   {
    "duration": 77,
    "start_time": "2022-08-22T21:53:54.964Z"
   },
   {
    "duration": 5,
    "start_time": "2022-08-22T21:55:16.355Z"
   },
   {
    "duration": 68,
    "start_time": "2022-08-22T21:56:28.353Z"
   },
   {
    "duration": 5,
    "start_time": "2022-08-22T21:57:29.806Z"
   },
   {
    "duration": 33,
    "start_time": "2022-08-22T21:57:34.135Z"
   },
   {
    "duration": 10,
    "start_time": "2022-08-22T22:04:11.247Z"
   },
   {
    "duration": 11,
    "start_time": "2022-08-22T22:06:02.868Z"
   },
   {
    "duration": 4,
    "start_time": "2022-08-22T22:10:46.512Z"
   },
   {
    "duration": 3,
    "start_time": "2022-08-22T22:13:44.218Z"
   },
   {
    "duration": 18,
    "start_time": "2022-08-22T22:16:46.387Z"
   },
   {
    "duration": 14,
    "start_time": "2022-08-22T22:16:47.478Z"
   },
   {
    "duration": 18,
    "start_time": "2022-08-22T22:16:48.492Z"
   },
   {
    "duration": 24,
    "start_time": "2022-08-22T22:16:49.337Z"
   },
   {
    "duration": 21,
    "start_time": "2022-08-22T22:16:50.217Z"
   },
   {
    "duration": 17,
    "start_time": "2022-08-22T22:16:51.108Z"
   },
   {
    "duration": 10,
    "start_time": "2022-08-22T22:17:40.066Z"
   },
   {
    "duration": 14,
    "start_time": "2022-08-22T22:29:50.018Z"
   },
   {
    "duration": 10,
    "start_time": "2022-08-22T22:29:50.659Z"
   },
   {
    "duration": 26,
    "start_time": "2022-08-22T22:30:07.299Z"
   },
   {
    "duration": 4,
    "start_time": "2022-08-22T22:36:18.060Z"
   },
   {
    "duration": 17,
    "start_time": "2022-08-22T22:39:03.610Z"
   },
   {
    "duration": 13,
    "start_time": "2022-08-22T22:39:09.709Z"
   },
   {
    "duration": 15,
    "start_time": "2022-08-22T22:39:20.109Z"
   },
   {
    "duration": 11,
    "start_time": "2022-08-22T22:39:24.300Z"
   },
   {
    "duration": 8,
    "start_time": "2022-08-22T22:44:19.342Z"
   },
   {
    "duration": 5,
    "start_time": "2022-08-22T22:44:45.269Z"
   },
   {
    "duration": 6,
    "start_time": "2022-08-22T22:46:16.491Z"
   },
   {
    "duration": 6,
    "start_time": "2022-08-22T22:46:44.337Z"
   },
   {
    "duration": 911,
    "start_time": "2022-08-22T23:19:29.951Z"
   },
   {
    "duration": 25,
    "start_time": "2022-08-22T23:21:44.415Z"
   },
   {
    "duration": 49,
    "start_time": "2022-08-22T23:22:41.231Z"
   },
   {
    "duration": 9,
    "start_time": "2022-08-22T23:22:53.272Z"
   },
   {
    "duration": 3,
    "start_time": "2022-08-22T23:24:15.342Z"
   },
   {
    "duration": 189,
    "start_time": "2022-08-22T23:24:15.346Z"
   },
   {
    "duration": 11,
    "start_time": "2022-08-22T23:24:15.537Z"
   },
   {
    "duration": 12,
    "start_time": "2022-08-22T23:24:15.550Z"
   },
   {
    "duration": 48,
    "start_time": "2022-08-22T23:24:15.564Z"
   },
   {
    "duration": 8,
    "start_time": "2022-08-22T23:24:15.614Z"
   },
   {
    "duration": 11,
    "start_time": "2022-08-22T23:24:15.623Z"
   },
   {
    "duration": 4,
    "start_time": "2022-08-22T23:24:15.635Z"
   },
   {
    "duration": 29,
    "start_time": "2022-08-22T23:24:15.640Z"
   },
   {
    "duration": 29,
    "start_time": "2022-08-22T23:24:15.671Z"
   },
   {
    "duration": 26,
    "start_time": "2022-08-22T23:24:15.703Z"
   },
   {
    "duration": 79,
    "start_time": "2022-08-22T23:24:15.731Z"
   },
   {
    "duration": 72,
    "start_time": "2022-08-22T23:24:15.813Z"
   },
   {
    "duration": 70,
    "start_time": "2022-08-22T23:24:15.886Z"
   },
   {
    "duration": 43,
    "start_time": "2022-08-22T23:24:15.958Z"
   },
   {
    "duration": 3,
    "start_time": "2022-08-22T23:24:16.003Z"
   },
   {
    "duration": 97,
    "start_time": "2022-08-22T23:24:16.007Z"
   },
   {
    "duration": 7,
    "start_time": "2022-08-22T23:24:16.106Z"
   },
   {
    "duration": 51,
    "start_time": "2022-08-22T23:24:16.114Z"
   },
   {
    "duration": 9,
    "start_time": "2022-08-22T23:24:16.166Z"
   },
   {
    "duration": 19,
    "start_time": "2022-08-22T23:24:16.176Z"
   },
   {
    "duration": 29,
    "start_time": "2022-08-22T23:24:16.197Z"
   },
   {
    "duration": 42,
    "start_time": "2022-08-22T23:24:16.227Z"
   },
   {
    "duration": 20,
    "start_time": "2022-08-22T23:24:16.270Z"
   },
   {
    "duration": 50,
    "start_time": "2022-08-22T23:24:16.292Z"
   },
   {
    "duration": 24,
    "start_time": "2022-08-22T23:24:16.344Z"
   },
   {
    "duration": 30,
    "start_time": "2022-08-22T23:24:16.370Z"
   },
   {
    "duration": 46,
    "start_time": "2022-08-22T23:24:16.403Z"
   },
   {
    "duration": 19,
    "start_time": "2022-08-22T23:24:16.451Z"
   },
   {
    "duration": 40,
    "start_time": "2022-08-22T23:24:16.471Z"
   },
   {
    "duration": 20,
    "start_time": "2022-08-22T23:24:19.273Z"
   },
   {
    "duration": 9,
    "start_time": "2022-08-22T23:24:19.881Z"
   },
   {
    "duration": 27,
    "start_time": "2022-08-22T23:27:52.280Z"
   },
   {
    "duration": 442,
    "start_time": "2023-04-09T16:04:03.985Z"
   },
   {
    "duration": 223,
    "start_time": "2023-04-09T16:04:04.537Z"
   },
   {
    "duration": 18,
    "start_time": "2023-04-09T16:04:05.404Z"
   },
   {
    "duration": 12,
    "start_time": "2023-04-09T16:04:07.626Z"
   },
   {
    "duration": 29,
    "start_time": "2023-04-09T16:04:08.474Z"
   },
   {
    "duration": 6,
    "start_time": "2023-04-09T16:04:12.104Z"
   },
   {
    "duration": 12,
    "start_time": "2023-04-09T16:04:13.723Z"
   },
   {
    "duration": 4,
    "start_time": "2023-04-09T16:04:14.100Z"
   },
   {
    "duration": 23,
    "start_time": "2023-04-09T16:04:15.385Z"
   },
   {
    "duration": 21,
    "start_time": "2023-04-09T16:04:17.964Z"
   },
   {
    "duration": 25,
    "start_time": "2023-04-09T16:04:18.784Z"
   },
   {
    "duration": 70,
    "start_time": "2023-04-09T16:04:20.284Z"
   },
   {
    "duration": 84,
    "start_time": "2023-04-09T16:04:21.098Z"
   },
   {
    "duration": 64,
    "start_time": "2023-04-09T16:04:22.215Z"
   },
   {
    "duration": 38,
    "start_time": "2023-04-09T16:04:25.084Z"
   },
   {
    "duration": 3,
    "start_time": "2023-04-09T16:04:26.952Z"
   },
   {
    "duration": 100,
    "start_time": "2023-04-09T16:04:29.422Z"
   },
   {
    "duration": 5,
    "start_time": "2023-04-09T16:04:30.204Z"
   },
   {
    "duration": 37,
    "start_time": "2023-04-09T16:04:31.352Z"
   },
   {
    "duration": 11,
    "start_time": "2023-04-09T16:04:39.158Z"
   },
   {
    "duration": 17,
    "start_time": "2023-04-09T16:04:50.504Z"
   },
   {
    "duration": 5,
    "start_time": "2023-04-09T16:04:52.066Z"
   },
   {
    "duration": 16,
    "start_time": "2023-04-09T16:04:54.077Z"
   },
   {
    "duration": 15,
    "start_time": "2023-04-09T16:04:54.964Z"
   },
   {
    "duration": 15,
    "start_time": "2023-04-09T16:04:55.892Z"
   },
   {
    "duration": 14,
    "start_time": "2023-04-09T16:04:57.134Z"
   },
   {
    "duration": 26,
    "start_time": "2023-04-09T16:04:58.013Z"
   },
   {
    "duration": 14,
    "start_time": "2023-04-09T16:04:58.864Z"
   },
   {
    "duration": 9,
    "start_time": "2023-04-09T16:05:00.310Z"
   },
   {
    "duration": 17,
    "start_time": "2023-04-09T16:05:06.804Z"
   },
   {
    "duration": 20,
    "start_time": "2023-04-09T16:05:35.016Z"
   },
   {
    "duration": 4,
    "start_time": "2023-04-09T16:05:43.877Z"
   },
   {
    "duration": 17,
    "start_time": "2023-04-09T16:05:57.165Z"
   },
   {
    "duration": 13,
    "start_time": "2023-04-09T16:05:58.730Z"
   },
   {
    "duration": 18,
    "start_time": "2023-04-09T16:05:59.636Z"
   },
   {
    "duration": 13,
    "start_time": "2023-04-09T16:06:04.264Z"
   },
   {
    "duration": 10,
    "start_time": "2023-04-09T16:06:10.334Z"
   },
   {
    "duration": 6,
    "start_time": "2023-04-09T16:06:11.184Z"
   },
   {
    "duration": 6,
    "start_time": "2023-04-09T16:06:13.594Z"
   },
   {
    "duration": 5,
    "start_time": "2023-04-09T16:06:14.255Z"
   }
  ],
  "colab": {
   "collapsed_sections": [
    "E0vqbgi9ay0H",
    "VUC88oWjTJw2"
   ],
   "name": "yandex_music_project_2021.2.ipynb",
   "provenance": []
  },
  "kernelspec": {
   "display_name": "Python 3 (ipykernel)",
   "language": "python",
   "name": "python3"
  },
  "language_info": {
   "codemirror_mode": {
    "name": "ipython",
    "version": 3
   },
   "file_extension": ".py",
   "mimetype": "text/x-python",
   "name": "python",
   "nbconvert_exporter": "python",
   "pygments_lexer": "ipython3",
   "version": "3.9.5"
  },
  "toc": {
   "base_numbering": 1,
   "nav_menu": {},
   "number_sections": true,
   "sideBar": true,
   "skip_h1_title": true,
   "title_cell": "Table of Contents",
   "title_sidebar": "Contents",
   "toc_cell": false,
   "toc_position": {},
   "toc_section_display": true,
   "toc_window_display": false
  }
 },
 "nbformat": 4,
 "nbformat_minor": 1
}
