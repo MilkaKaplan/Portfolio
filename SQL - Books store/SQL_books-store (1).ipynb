{
 "cells": [
  {
   "cell_type": "markdown",
   "metadata": {},
   "source": [
    "**Задача** — проанализировать базу данных.\n",
    "Имеется 5 таблиц:\n",
    "- books\n",
    "- authors\n",
    "- publishers\n",
    "- ratings\n",
    "- reviews\n",
    "\n",
    "**Шаги**\n",
    "1. Цели исследования\n",
    "2. Исследование таблиц — вывод первых строк\n",
    "3. Вывод по одному SQL-запросу для решения каждого задания\n",
    "* Сколько книг вышло после 1 января 2000 года;\n",
    "* Количество обзоров и среднюю оценку для каждой книги;\n",
    "* Издательство, которое выпустило наибольшее число книг толще 50 страниц — так исключим из анализа брошюры;\n",
    "* Автор с самой высокой средней оценкой книг — только книги с 50 и более оценками;\n",
    "* Среднее количество обзоров от пользователей, которые поставили больше 50 оценок.\n",
    "Выведите результат каждого запроса в тетрадке\n",
    "4. Выводы"
   ]
  },
  {
   "cell_type": "markdown",
   "metadata": {},
   "source": [
    "___\n",
    "# 1. Цели исследования\n",
    "Cформулировать ценностное предложение для нового продукта"
   ]
  },
  {
   "cell_type": "markdown",
   "metadata": {},
   "source": [
    "___\n",
    "# 2. Исследование таблиц — вывод первых строк"
   ]
  },
  {
   "cell_type": "code",
   "execution_count": 2,
   "metadata": {},
   "outputs": [],
   "source": [
    "# импортируем библиотеки\n",
    "import pandas as pd\n",
    "from sqlalchemy import create_engine\n",
    "import warnings; warnings.filterwarnings(action='once')\n"
   ]
  },
  {
   "cell_type": "code",
   "execution_count": 3,
   "metadata": {},
   "outputs": [],
   "source": [
    "# устанавливаем параметры\n",
    "db_config = {'user': 'praktikum_student', # имя пользователя\n",
    "'pwd': 'Sdf4$2;d-d30pp', # пароль\n",
    "'host': 'rc1b-wcoijxj3yxfsf3fs.mdb.yandexcloud.net',\n",
    "'port': 6432, # порт подключения\n",
    "'db': 'data-analyst-final-project-db'} # название базы данных\n",
    "connection_string = 'postgresql://{}:{}@{}:{}/{}'.format(db_config['user'],\n",
    " db_config['pwd'],\n",
    " db_config['host'],\n",
    " db_config['port'],\n",
    " db_config['db'])\n",
    "\n",
    "# сохраняем коннектор\n",
    "engine = create_engine(connection_string, connect_args={'sslmode':'require'}) "
   ]
  },
  {
   "cell_type": "markdown",
   "metadata": {},
   "source": [
    "**Изучим содержание таблиц**"
   ]
  },
  {
   "cell_type": "code",
   "execution_count": 25,
   "metadata": {},
   "outputs": [],
   "source": [
    "#пропишем функцию, чтобы сократить обьем запроса\n",
    "def select(query):\n",
    "    return pd.io.sql.read_sql(query, con = engine) "
   ]
  },
  {
   "cell_type": "code",
   "execution_count": 26,
   "metadata": {},
   "outputs": [
    {
     "data": {
      "text/html": [
       "<div>\n",
       "<style scoped>\n",
       "    .dataframe tbody tr th:only-of-type {\n",
       "        vertical-align: middle;\n",
       "    }\n",
       "\n",
       "    .dataframe tbody tr th {\n",
       "        vertical-align: top;\n",
       "    }\n",
       "\n",
       "    .dataframe thead th {\n",
       "        text-align: right;\n",
       "    }\n",
       "</style>\n",
       "<table border=\"1\" class=\"dataframe\">\n",
       "  <thead>\n",
       "    <tr style=\"text-align: right;\">\n",
       "      <th></th>\n",
       "      <th>book_id</th>\n",
       "      <th>author_id</th>\n",
       "      <th>title</th>\n",
       "      <th>num_pages</th>\n",
       "      <th>publication_date</th>\n",
       "      <th>publisher_id</th>\n",
       "    </tr>\n",
       "  </thead>\n",
       "  <tbody>\n",
       "    <tr>\n",
       "      <th>0</th>\n",
       "      <td>1</td>\n",
       "      <td>546</td>\n",
       "      <td>'Salem's Lot</td>\n",
       "      <td>594</td>\n",
       "      <td>2005-11-01</td>\n",
       "      <td>93</td>\n",
       "    </tr>\n",
       "    <tr>\n",
       "      <th>1</th>\n",
       "      <td>2</td>\n",
       "      <td>465</td>\n",
       "      <td>1 000 Places to See Before You Die</td>\n",
       "      <td>992</td>\n",
       "      <td>2003-05-22</td>\n",
       "      <td>336</td>\n",
       "    </tr>\n",
       "    <tr>\n",
       "      <th>2</th>\n",
       "      <td>3</td>\n",
       "      <td>407</td>\n",
       "      <td>13 Little Blue Envelopes (Little Blue Envelope...</td>\n",
       "      <td>322</td>\n",
       "      <td>2010-12-21</td>\n",
       "      <td>135</td>\n",
       "    </tr>\n",
       "  </tbody>\n",
       "</table>\n",
       "</div>"
      ],
      "text/plain": [
       "   book_id  author_id                                              title  \\\n",
       "0        1        546                                       'Salem's Lot   \n",
       "1        2        465                 1 000 Places to See Before You Die   \n",
       "2        3        407  13 Little Blue Envelopes (Little Blue Envelope...   \n",
       "\n",
       "   num_pages publication_date  publisher_id  \n",
       "0        594       2005-11-01            93  \n",
       "1        992       2003-05-22           336  \n",
       "2        322       2010-12-21           135  "
      ]
     },
     "execution_count": 26,
     "metadata": {},
     "output_type": "execute_result"
    }
   ],
   "source": [
    "#смотрим таблицу books\n",
    "select(\n",
    "    '''\n",
    "    SELECT *\n",
    "    FROM books\n",
    "    LIMIT 3\n",
    "    '''\n",
    ")"
   ]
  },
  {
   "cell_type": "code",
   "execution_count": 27,
   "metadata": {},
   "outputs": [
    {
     "data": {
      "text/html": [
       "<div>\n",
       "<style scoped>\n",
       "    .dataframe tbody tr th:only-of-type {\n",
       "        vertical-align: middle;\n",
       "    }\n",
       "\n",
       "    .dataframe tbody tr th {\n",
       "        vertical-align: top;\n",
       "    }\n",
       "\n",
       "    .dataframe thead th {\n",
       "        text-align: right;\n",
       "    }\n",
       "</style>\n",
       "<table border=\"1\" class=\"dataframe\">\n",
       "  <thead>\n",
       "    <tr style=\"text-align: right;\">\n",
       "      <th></th>\n",
       "      <th>author_id</th>\n",
       "      <th>author</th>\n",
       "    </tr>\n",
       "  </thead>\n",
       "  <tbody>\n",
       "    <tr>\n",
       "      <th>0</th>\n",
       "      <td>1</td>\n",
       "      <td>A.S. Byatt</td>\n",
       "    </tr>\n",
       "    <tr>\n",
       "      <th>1</th>\n",
       "      <td>2</td>\n",
       "      <td>Aesop/Laura Harris/Laura Gibbs</td>\n",
       "    </tr>\n",
       "    <tr>\n",
       "      <th>2</th>\n",
       "      <td>3</td>\n",
       "      <td>Agatha Christie</td>\n",
       "    </tr>\n",
       "  </tbody>\n",
       "</table>\n",
       "</div>"
      ],
      "text/plain": [
       "   author_id                          author\n",
       "0          1                      A.S. Byatt\n",
       "1          2  Aesop/Laura Harris/Laura Gibbs\n",
       "2          3                 Agatha Christie"
      ]
     },
     "execution_count": 27,
     "metadata": {},
     "output_type": "execute_result"
    }
   ],
   "source": [
    "#смотрим таблицу authors\n",
    "select(\n",
    "    '''\n",
    "    SELECT *\n",
    "    FROM authors\n",
    "    LIMIT 3\n",
    "    '''\n",
    ")"
   ]
  },
  {
   "cell_type": "code",
   "execution_count": 28,
   "metadata": {},
   "outputs": [
    {
     "data": {
      "text/html": [
       "<div>\n",
       "<style scoped>\n",
       "    .dataframe tbody tr th:only-of-type {\n",
       "        vertical-align: middle;\n",
       "    }\n",
       "\n",
       "    .dataframe tbody tr th {\n",
       "        vertical-align: top;\n",
       "    }\n",
       "\n",
       "    .dataframe thead th {\n",
       "        text-align: right;\n",
       "    }\n",
       "</style>\n",
       "<table border=\"1\" class=\"dataframe\">\n",
       "  <thead>\n",
       "    <tr style=\"text-align: right;\">\n",
       "      <th></th>\n",
       "      <th>publisher_id</th>\n",
       "      <th>publisher</th>\n",
       "    </tr>\n",
       "  </thead>\n",
       "  <tbody>\n",
       "    <tr>\n",
       "      <th>0</th>\n",
       "      <td>1</td>\n",
       "      <td>Ace</td>\n",
       "    </tr>\n",
       "    <tr>\n",
       "      <th>1</th>\n",
       "      <td>2</td>\n",
       "      <td>Ace Book</td>\n",
       "    </tr>\n",
       "    <tr>\n",
       "      <th>2</th>\n",
       "      <td>3</td>\n",
       "      <td>Ace Books</td>\n",
       "    </tr>\n",
       "  </tbody>\n",
       "</table>\n",
       "</div>"
      ],
      "text/plain": [
       "   publisher_id  publisher\n",
       "0             1        Ace\n",
       "1             2   Ace Book\n",
       "2             3  Ace Books"
      ]
     },
     "execution_count": 28,
     "metadata": {},
     "output_type": "execute_result"
    }
   ],
   "source": [
    "#смотрим таблицу publishers\n",
    "select(\n",
    "    '''\n",
    "    SELECT * \n",
    "    FROM publishers\n",
    "    LIMIT 3\n",
    "    '''\n",
    ")"
   ]
  },
  {
   "cell_type": "code",
   "execution_count": 29,
   "metadata": {},
   "outputs": [
    {
     "data": {
      "text/html": [
       "<div>\n",
       "<style scoped>\n",
       "    .dataframe tbody tr th:only-of-type {\n",
       "        vertical-align: middle;\n",
       "    }\n",
       "\n",
       "    .dataframe tbody tr th {\n",
       "        vertical-align: top;\n",
       "    }\n",
       "\n",
       "    .dataframe thead th {\n",
       "        text-align: right;\n",
       "    }\n",
       "</style>\n",
       "<table border=\"1\" class=\"dataframe\">\n",
       "  <thead>\n",
       "    <tr style=\"text-align: right;\">\n",
       "      <th></th>\n",
       "      <th>rating_id</th>\n",
       "      <th>book_id</th>\n",
       "      <th>username</th>\n",
       "      <th>rating</th>\n",
       "    </tr>\n",
       "  </thead>\n",
       "  <tbody>\n",
       "    <tr>\n",
       "      <th>0</th>\n",
       "      <td>1</td>\n",
       "      <td>1</td>\n",
       "      <td>ryanfranco</td>\n",
       "      <td>4</td>\n",
       "    </tr>\n",
       "    <tr>\n",
       "      <th>1</th>\n",
       "      <td>2</td>\n",
       "      <td>1</td>\n",
       "      <td>grantpatricia</td>\n",
       "      <td>2</td>\n",
       "    </tr>\n",
       "    <tr>\n",
       "      <th>2</th>\n",
       "      <td>3</td>\n",
       "      <td>1</td>\n",
       "      <td>brandtandrea</td>\n",
       "      <td>5</td>\n",
       "    </tr>\n",
       "  </tbody>\n",
       "</table>\n",
       "</div>"
      ],
      "text/plain": [
       "   rating_id  book_id       username  rating\n",
       "0          1        1     ryanfranco       4\n",
       "1          2        1  grantpatricia       2\n",
       "2          3        1   brandtandrea       5"
      ]
     },
     "execution_count": 29,
     "metadata": {},
     "output_type": "execute_result"
    }
   ],
   "source": [
    "#смотрим таблицу ratings\n",
    "select(\n",
    "    '''\n",
    "    SELECT *\n",
    "    FROM ratings\n",
    "    LIMIT 3\n",
    "    '''\n",
    ")"
   ]
  },
  {
   "cell_type": "code",
   "execution_count": 30,
   "metadata": {},
   "outputs": [
    {
     "data": {
      "text/html": [
       "<div>\n",
       "<style scoped>\n",
       "    .dataframe tbody tr th:only-of-type {\n",
       "        vertical-align: middle;\n",
       "    }\n",
       "\n",
       "    .dataframe tbody tr th {\n",
       "        vertical-align: top;\n",
       "    }\n",
       "\n",
       "    .dataframe thead th {\n",
       "        text-align: right;\n",
       "    }\n",
       "</style>\n",
       "<table border=\"1\" class=\"dataframe\">\n",
       "  <thead>\n",
       "    <tr style=\"text-align: right;\">\n",
       "      <th></th>\n",
       "      <th>review_id</th>\n",
       "      <th>book_id</th>\n",
       "      <th>username</th>\n",
       "      <th>text</th>\n",
       "    </tr>\n",
       "  </thead>\n",
       "  <tbody>\n",
       "    <tr>\n",
       "      <th>0</th>\n",
       "      <td>1</td>\n",
       "      <td>1</td>\n",
       "      <td>brandtandrea</td>\n",
       "      <td>Mention society tell send professor analysis. ...</td>\n",
       "    </tr>\n",
       "    <tr>\n",
       "      <th>1</th>\n",
       "      <td>2</td>\n",
       "      <td>1</td>\n",
       "      <td>ryanfranco</td>\n",
       "      <td>Foot glass pretty audience hit themselves. Amo...</td>\n",
       "    </tr>\n",
       "    <tr>\n",
       "      <th>2</th>\n",
       "      <td>3</td>\n",
       "      <td>2</td>\n",
       "      <td>lorichen</td>\n",
       "      <td>Listen treat keep worry. Miss husband tax but ...</td>\n",
       "    </tr>\n",
       "  </tbody>\n",
       "</table>\n",
       "</div>"
      ],
      "text/plain": [
       "   review_id  book_id      username  \\\n",
       "0          1        1  brandtandrea   \n",
       "1          2        1    ryanfranco   \n",
       "2          3        2      lorichen   \n",
       "\n",
       "                                                text  \n",
       "0  Mention society tell send professor analysis. ...  \n",
       "1  Foot glass pretty audience hit themselves. Amo...  \n",
       "2  Listen treat keep worry. Miss husband tax but ...  "
      ]
     },
     "execution_count": 30,
     "metadata": {},
     "output_type": "execute_result"
    }
   ],
   "source": [
    "#смотрим таблицу reviews\n",
    "select(\n",
    "    '''\n",
    "    SELECT *\n",
    "    FROM reviews\n",
    "    LIMIT 3\n",
    "    '''\n",
    ")"
   ]
  },
  {
   "cell_type": "markdown",
   "metadata": {},
   "source": [
    "___\n",
    "**Вывод**\n",
    "База данных содержит информацию о книгах, издательствах, авторах, а также пользовательские обзоры книг.\n",
    "\n",
    "**таблица books** - данные о книгах:\n",
    "* book_id — идентификатор книги;\n",
    "* author_id — идентификатор автора;\n",
    "* title — название книги;\n",
    "* num_pages — количество страниц;\n",
    "* publication_date — дата публикации книги;\n",
    "* publisher_id — идентификатор издателя.\n",
    "\n",
    "**таблица authors** - данные об авторах:\n",
    "* author_id — идентификатор автора;\n",
    "* author — имя автора\n",
    "\n",
    "**таблица publishers** - данные об издательствах:\n",
    "* publisher_id — идентификатор издательства;\n",
    "* publisher — название издательства;\n",
    "\n",
    "**таблица ratings** - данные о пользовательских оценках книг:\n",
    "* rating_id — идентификатор оценки;\n",
    "* book_id — идентификатор книги;\n",
    "* username — имя пользователя, оставившего оценку;\n",
    "* rating — оценка книги.\n",
    "\n",
    "**таблица reviews** - данные о пользовательских обзорах на книги:\n",
    "* review_id — идентификатор обзора;\n",
    "* book_id — идентификатор книги;\n",
    "* username — имя пользователя, написавшего обзор;\n",
    "* text— текст обзора."
   ]
  },
  {
   "cell_type": "markdown",
   "metadata": {},
   "source": [
    "Лучше организовать процесс через цикл. Подставлять название таблицы в строку-запрос можно с помощью `f-строки` или метода `format()`. Саму строку-запрос можно создавать внутри цикла на каждой итерации."
   ]
  },
  {
   "cell_type": "markdown",
   "metadata": {},
   "source": [
    "___\n",
    "# 3. Вывод по одному SQL-запросу для решения каждого задания\n",
    "___\n",
    "**Сколько книг вышло после 1 января 2000 года**"
   ]
  },
  {
   "cell_type": "code",
   "execution_count": 57,
   "metadata": {},
   "outputs": [
    {
     "data": {
      "text/html": [
       "<div>\n",
       "<style scoped>\n",
       "    .dataframe tbody tr th:only-of-type {\n",
       "        vertical-align: middle;\n",
       "    }\n",
       "\n",
       "    .dataframe tbody tr th {\n",
       "        vertical-align: top;\n",
       "    }\n",
       "\n",
       "    .dataframe thead th {\n",
       "        text-align: right;\n",
       "    }\n",
       "</style>\n",
       "<table border=\"1\" class=\"dataframe\">\n",
       "  <thead>\n",
       "    <tr style=\"text-align: right;\">\n",
       "      <th></th>\n",
       "      <th>count</th>\n",
       "    </tr>\n",
       "  </thead>\n",
       "  <tbody>\n",
       "    <tr>\n",
       "      <th>0</th>\n",
       "      <td>821</td>\n",
       "    </tr>\n",
       "  </tbody>\n",
       "</table>\n",
       "</div>"
      ],
      "text/plain": [
       "   count\n",
       "0    821"
      ]
     },
     "execution_count": 57,
     "metadata": {},
     "output_type": "execute_result"
    }
   ],
   "source": [
    "#извлекаем количество книг из таблицы \"books\", которые были опубликованы с 1 января 2000 года.\n",
    "select(\n",
    "    '''\n",
    "    SELECT COUNT(book_id)\n",
    "    FROM books\n",
    "    WHERE publication_date >= '01.01.2000'\n",
    "    '''\n",
    ") "
   ]
  },
  {
   "cell_type": "markdown",
   "metadata": {},
   "source": [
    "С даты 01.01.2000 суммарно вышло 821 книг."
   ]
  },
  {
   "cell_type": "markdown",
   "metadata": {},
   "source": [
    "___\n",
    "**Количество обзоров и среднюю оценку для каждой книги**"
   ]
  },
  {
   "cell_type": "code",
   "execution_count": 62,
   "metadata": {},
   "outputs": [
    {
     "data": {
      "text/html": [
       "<div>\n",
       "<style scoped>\n",
       "    .dataframe tbody tr th:only-of-type {\n",
       "        vertical-align: middle;\n",
       "    }\n",
       "\n",
       "    .dataframe tbody tr th {\n",
       "        vertical-align: top;\n",
       "    }\n",
       "\n",
       "    .dataframe thead th {\n",
       "        text-align: right;\n",
       "    }\n",
       "</style>\n",
       "<table border=\"1\" class=\"dataframe\">\n",
       "  <thead>\n",
       "    <tr style=\"text-align: right;\">\n",
       "      <th></th>\n",
       "      <th>book_id</th>\n",
       "      <th>title</th>\n",
       "      <th>count_reviews</th>\n",
       "      <th>avg_rating</th>\n",
       "    </tr>\n",
       "  </thead>\n",
       "  <tbody>\n",
       "    <tr>\n",
       "      <th>0</th>\n",
       "      <td>948</td>\n",
       "      <td>Twilight (Twilight  #1)</td>\n",
       "      <td>7</td>\n",
       "      <td>3.66</td>\n",
       "    </tr>\n",
       "    <tr>\n",
       "      <th>1</th>\n",
       "      <td>963</td>\n",
       "      <td>Water for Elephants</td>\n",
       "      <td>6</td>\n",
       "      <td>3.98</td>\n",
       "    </tr>\n",
       "    <tr>\n",
       "      <th>2</th>\n",
       "      <td>734</td>\n",
       "      <td>The Glass Castle</td>\n",
       "      <td>6</td>\n",
       "      <td>4.21</td>\n",
       "    </tr>\n",
       "    <tr>\n",
       "      <th>3</th>\n",
       "      <td>302</td>\n",
       "      <td>Harry Potter and the Prisoner of Azkaban (Harr...</td>\n",
       "      <td>6</td>\n",
       "      <td>4.41</td>\n",
       "    </tr>\n",
       "    <tr>\n",
       "      <th>4</th>\n",
       "      <td>695</td>\n",
       "      <td>The Curious Incident of the Dog in the Night-Time</td>\n",
       "      <td>6</td>\n",
       "      <td>4.08</td>\n",
       "    </tr>\n",
       "    <tr>\n",
       "      <th>...</th>\n",
       "      <td>...</td>\n",
       "      <td>...</td>\n",
       "      <td>...</td>\n",
       "      <td>...</td>\n",
       "    </tr>\n",
       "    <tr>\n",
       "      <th>995</th>\n",
       "      <td>83</td>\n",
       "      <td>Anne Rice's The Vampire Lestat: A Graphic Novel</td>\n",
       "      <td>0</td>\n",
       "      <td>3.67</td>\n",
       "    </tr>\n",
       "    <tr>\n",
       "      <th>996</th>\n",
       "      <td>808</td>\n",
       "      <td>The Natural Way to Draw</td>\n",
       "      <td>0</td>\n",
       "      <td>3.00</td>\n",
       "    </tr>\n",
       "    <tr>\n",
       "      <th>997</th>\n",
       "      <td>672</td>\n",
       "      <td>The Cat in the Hat and Other Dr. Seuss Favorites</td>\n",
       "      <td>0</td>\n",
       "      <td>5.00</td>\n",
       "    </tr>\n",
       "    <tr>\n",
       "      <th>998</th>\n",
       "      <td>221</td>\n",
       "      <td>Essential Tales and Poems</td>\n",
       "      <td>0</td>\n",
       "      <td>4.00</td>\n",
       "    </tr>\n",
       "    <tr>\n",
       "      <th>999</th>\n",
       "      <td>191</td>\n",
       "      <td>Disney's Beauty and the Beast (A Little Golden...</td>\n",
       "      <td>0</td>\n",
       "      <td>4.00</td>\n",
       "    </tr>\n",
       "  </tbody>\n",
       "</table>\n",
       "<p>1000 rows × 4 columns</p>\n",
       "</div>"
      ],
      "text/plain": [
       "     book_id                                              title  \\\n",
       "0        948                            Twilight (Twilight  #1)   \n",
       "1        963                                Water for Elephants   \n",
       "2        734                                   The Glass Castle   \n",
       "3        302  Harry Potter and the Prisoner of Azkaban (Harr...   \n",
       "4        695  The Curious Incident of the Dog in the Night-Time   \n",
       "..       ...                                                ...   \n",
       "995       83    Anne Rice's The Vampire Lestat: A Graphic Novel   \n",
       "996      808                            The Natural Way to Draw   \n",
       "997      672   The Cat in the Hat and Other Dr. Seuss Favorites   \n",
       "998      221                          Essential Tales and Poems   \n",
       "999      191  Disney's Beauty and the Beast (A Little Golden...   \n",
       "\n",
       "     count_reviews  avg_rating  \n",
       "0                7        3.66  \n",
       "1                6        3.98  \n",
       "2                6        4.21  \n",
       "3                6        4.41  \n",
       "4                6        4.08  \n",
       "..             ...         ...  \n",
       "995              0        3.67  \n",
       "996              0        3.00  \n",
       "997              0        5.00  \n",
       "998              0        4.00  \n",
       "999              0        4.00  \n",
       "\n",
       "[1000 rows x 4 columns]"
      ]
     },
     "execution_count": 62,
     "metadata": {},
     "output_type": "execute_result"
    }
   ],
   "source": [
    "# выбираем данные из нескольких таблиц, связанных между собой посредством операторов JOIN\n",
    "select(\n",
    "    '''\n",
    "    SELECT \n",
    "        b.book_id,\n",
    "        b.title, \n",
    "        COUNT(DISTINCT rv.review_id) AS count_reviews, \n",
    "        ROUND(AVG(r.rating),2) AS avg_rating\n",
    "    FROM books AS b\n",
    "\n",
    "-- LEFT JOIN для объединения таблиц \"books\" и \"reviews\" по столбцу book_id --\n",
    "-- и таблиц \"books\" и \"ratings\" по столбцу book_id --\n",
    "   \n",
    "   LEFT JOIN reviews AS rv\n",
    "    ON b.book_id = rv.book_id\n",
    "\n",
    "    LEFT JOIN  ratings AS r\n",
    "    ON b.book_id = r.book_id\n",
    "\n",
    "-- группируем записи по столбцам book_id и title таблицы \"books\" --\n",
    "    GROUP BY b.book_id, b.title\n",
    "    \n",
    "--сортируем результаты по количеству уникальных отзывов в убывающем порядке--    \n",
    "    ORDER BY count_reviews DESC \n",
    "\n",
    "    '''\n",
    ")"
   ]
  },
  {
   "cell_type": "markdown",
   "metadata": {},
   "source": [
    "Всего в базе 1000 книг по каждой из которых посчитано количество обзоров и средний рейтинг"
   ]
  },
  {
   "cell_type": "markdown",
   "metadata": {},
   "source": [
    "___\n",
    "**Издательство, которое выпустило наибольшее число книг толще 50 страниц — так исключим из анализа брошюры**"
   ]
  },
  {
   "cell_type": "code",
   "execution_count": 63,
   "metadata": {},
   "outputs": [
    {
     "data": {
      "text/html": [
       "<div>\n",
       "<style scoped>\n",
       "    .dataframe tbody tr th:only-of-type {\n",
       "        vertical-align: middle;\n",
       "    }\n",
       "\n",
       "    .dataframe tbody tr th {\n",
       "        vertical-align: top;\n",
       "    }\n",
       "\n",
       "    .dataframe thead th {\n",
       "        text-align: right;\n",
       "    }\n",
       "</style>\n",
       "<table border=\"1\" class=\"dataframe\">\n",
       "  <thead>\n",
       "    <tr style=\"text-align: right;\">\n",
       "      <th></th>\n",
       "      <th>publisher</th>\n",
       "      <th>count</th>\n",
       "    </tr>\n",
       "  </thead>\n",
       "  <tbody>\n",
       "    <tr>\n",
       "      <th>0</th>\n",
       "      <td>Penguin Books</td>\n",
       "      <td>42</td>\n",
       "    </tr>\n",
       "  </tbody>\n",
       "</table>\n",
       "</div>"
      ],
      "text/plain": [
       "       publisher  count\n",
       "0  Penguin Books     42"
      ]
     },
     "execution_count": 63,
     "metadata": {},
     "output_type": "execute_result"
    }
   ],
   "source": [
    "#выборка данных о издателях, опубликовавших наибольшее количество книг с количеством страниц больше 50\n",
    "\n",
    "select(\n",
    "    '''\n",
    "    SELECT \n",
    "        p.publisher,\n",
    "        COUNT(book_id)\n",
    "    FROM books AS b\n",
    "\n",
    "-- объединение таблиц \"books\" и \"publishers\" по столбцу publisher_id --\n",
    "    LEFT JOIN publishers AS p\n",
    "    ON p.publisher_id = b.publisher_id\n",
    "\n",
    "-- выбираем только те записи, в которых значение количества страниц (num_pages) больше 50 --\n",
    "WHERE num_pages >= 50\n",
    "    \n",
    "--  группируем записи по столбцу publisher таблицы \"publishers\" --\n",
    "    GROUP BY p.publisher\n",
    "    \n",
    "-- сортируем результаты по количеству книг в убывающем порядке (DESC) --    \n",
    "    ORDER BY count DESC \n",
    "    \n",
    "-- ограничиваем числа записей до одной - той, которая содержит наибольшее количество книг --    \n",
    "    LIMIT 1\n",
    "  '''\n",
    ")\n",
    "   "
   ]
  },
  {
   "cell_type": "markdown",
   "metadata": {},
   "source": [
    "Издательство **Penguin Books** выпустили больше всего многостраничных книг - 42"
   ]
  },
  {
   "cell_type": "markdown",
   "metadata": {},
   "source": [
    "___\n",
    "**Автор с самой высокой средней оценкой книг — только книги с 50 и более оценками**"
   ]
  },
  {
   "cell_type": "code",
   "execution_count": 65,
   "metadata": {},
   "outputs": [
    {
     "data": {
      "text/html": [
       "<div>\n",
       "<style scoped>\n",
       "    .dataframe tbody tr th:only-of-type {\n",
       "        vertical-align: middle;\n",
       "    }\n",
       "\n",
       "    .dataframe tbody tr th {\n",
       "        vertical-align: top;\n",
       "    }\n",
       "\n",
       "    .dataframe thead th {\n",
       "        text-align: right;\n",
       "    }\n",
       "</style>\n",
       "<table border=\"1\" class=\"dataframe\">\n",
       "  <thead>\n",
       "    <tr style=\"text-align: right;\">\n",
       "      <th></th>\n",
       "      <th>author</th>\n",
       "      <th>avg_rating</th>\n",
       "    </tr>\n",
       "  </thead>\n",
       "  <tbody>\n",
       "    <tr>\n",
       "      <th>0</th>\n",
       "      <td>J.K. Rowling/Mary GrandPré</td>\n",
       "      <td>4.283844</td>\n",
       "    </tr>\n",
       "  </tbody>\n",
       "</table>\n",
       "</div>"
      ],
      "text/plain": [
       "                       author  avg_rating\n",
       "0  J.K. Rowling/Mary GrandPré    4.283844"
      ]
     },
     "execution_count": 65,
     "metadata": {},
     "output_type": "execute_result"
    }
   ],
   "source": [
    "#  выбираем автора книг с наивысшим средним рейтингом из всех авторов, у которых есть как минимум 50 оценок\n",
    "\n",
    "select(\n",
    "    '''\n",
    "    SELECT \n",
    "        authors.author,\n",
    "        AVG(only_ratings.avg_rating) AS avg_rating\n",
    "    FROM books\n",
    "\n",
    "-- объединение таблиц - будут выбраны все записи из таблицы books -- \n",
    "-- и только те записи из таблицы ratings, которые имеют совпадающие значения поля book_id --\n",
    "    LEFT JOIN (\n",
    "            SELECT\n",
    "                book_id,\n",
    "                AVG(rating) AS avg_rating,\n",
    "                COUNT(rating) AS count_rating\n",
    "            FROM ratings\n",
    "\n",
    "-- используем подзапрос (subquery), который считает средний рейтинг и количество оценок для каждой книги (группируется по book_id) --\n",
    "-- Этот подзапрос выполняется первым и результаты сохраняются во временной таблице only_ratings --\n",
    "            GROUP BY book_id) AS only_ratings ON only_ratings.book_id = books.book_id \n",
    "            \n",
    "\n",
    "    LEFT JOIN authors ON authors.author_id = books.author_id\n",
    "   \n",
    "-- фильтруем записи, чтобы выбрать только те, у которых количество оценок (count_rating) больше или равно 50 --   \n",
    "   WHERE count_rating >= 50   \n",
    "    \n",
    "-- группируем записи по имени автора --\n",
    "    GROUP BY authors.author\n",
    "    \n",
    "-- сортируем записи в порядке убывания среднего рейтинга--   \n",
    "    ORDER BY avg_rating DESC\n",
    "    \n",
    "-- ограничиваем числа записей до одной - той, которая содержит наибольший рейтинг --\n",
    "    LIMIT 1\n",
    "  '''\n",
    ")"
   ]
  },
  {
   "cell_type": "markdown",
   "metadata": {},
   "source": [
    "Автор с самой высокой средней оценкой книг, среди тех, которые получили более 50 оценок - J.K. Rowling/Mary GrandPré."
   ]
  },
  {
   "cell_type": "markdown",
   "metadata": {},
   "source": [
    "___\n",
    "**Среднее количество обзоров от пользователей, которые поставили больше 50 оценок**"
   ]
  },
  {
   "cell_type": "markdown",
   "metadata": {},
   "source": [
    "**Вариант 1 - через подзапрос**"
   ]
  },
  {
   "cell_type": "code",
   "execution_count": 66,
   "metadata": {},
   "outputs": [
    {
     "data": {
      "text/html": [
       "<div>\n",
       "<style scoped>\n",
       "    .dataframe tbody tr th:only-of-type {\n",
       "        vertical-align: middle;\n",
       "    }\n",
       "\n",
       "    .dataframe tbody tr th {\n",
       "        vertical-align: top;\n",
       "    }\n",
       "\n",
       "    .dataframe thead th {\n",
       "        text-align: right;\n",
       "    }\n",
       "</style>\n",
       "<table border=\"1\" class=\"dataframe\">\n",
       "  <thead>\n",
       "    <tr style=\"text-align: right;\">\n",
       "      <th></th>\n",
       "      <th>avg</th>\n",
       "    </tr>\n",
       "  </thead>\n",
       "  <tbody>\n",
       "    <tr>\n",
       "      <th>0</th>\n",
       "      <td>24.333333</td>\n",
       "    </tr>\n",
       "  </tbody>\n",
       "</table>\n",
       "</div>"
      ],
      "text/plain": [
       "         avg\n",
       "0  24.333333"
      ]
     },
     "execution_count": 66,
     "metadata": {},
     "output_type": "execute_result"
    }
   ],
   "source": [
    "#извлекаем среднее количество отзывов на пользователя, который сделал более 50 оценок в таблице 'ratings'\n",
    "\n",
    "select(\n",
    "    '''\n",
    "    \n",
    "-- используем два подзапроса 'subquery_ratings' и 'subquery_reviews', --\n",
    "-- чтобы получить данные о количестве оценок и отзывов для каждого пользователя -- \n",
    "    WITH\n",
    "        subquery_ratings AS (\n",
    "                            SELECT\n",
    "                                ratings.username,\n",
    "                                COUNT(rating) AS count_ratings\n",
    "                            FROM ratings\n",
    "                            GROUP BY ratings.username\n",
    "                            HAVING COUNT(rating) > 50),\n",
    "        subquery_reviews AS (\n",
    "                            SELECT\n",
    "                                reviews.username,\n",
    "                                COUNT(text) AS count_reviews\n",
    "                            FROM reviews\n",
    "                            \n",
    "-- объединяем эти два подзапроса по имени пользователя и вычисляет среднее количество отзывов с помощью функции AVG() --                            \n",
    "                            GROUP BY reviews.username)\n",
    "        \n",
    "    SELECT\n",
    "        AVG(count_reviews)\n",
    "        FROM subquery_ratings\n",
    "  \n",
    "-- возвращаем все строки из 'subquery_ratings', даже если соответствующие строки не найдены в 'subquery_reviews'--  \n",
    "    LEFT JOIN subquery_reviews ON subquery_reviews.username = subquery_ratings.username\n",
    "'''\n",
    ")"
   ]
  },
  {
   "cell_type": "markdown",
   "metadata": {},
   "source": [
    "___\n",
    "**Вариант 2**"
   ]
  },
  {
   "cell_type": "code",
   "execution_count": 67,
   "metadata": {},
   "outputs": [
    {
     "data": {
      "text/html": [
       "<div>\n",
       "<style scoped>\n",
       "    .dataframe tbody tr th:only-of-type {\n",
       "        vertical-align: middle;\n",
       "    }\n",
       "\n",
       "    .dataframe tbody tr th {\n",
       "        vertical-align: top;\n",
       "    }\n",
       "\n",
       "    .dataframe thead th {\n",
       "        text-align: right;\n",
       "    }\n",
       "</style>\n",
       "<table border=\"1\" class=\"dataframe\">\n",
       "  <thead>\n",
       "    <tr style=\"text-align: right;\">\n",
       "      <th></th>\n",
       "      <th>avg_review_count</th>\n",
       "    </tr>\n",
       "  </thead>\n",
       "  <tbody>\n",
       "    <tr>\n",
       "      <th>0</th>\n",
       "      <td>24</td>\n",
       "    </tr>\n",
       "  </tbody>\n",
       "</table>\n",
       "</div>"
      ],
      "text/plain": [
       "   avg_review_count\n",
       "0                24"
      ]
     },
     "execution_count": 67,
     "metadata": {},
     "output_type": "execute_result"
    }
   ],
   "source": [
    "#извлекаем среднее количество отзывов на пользователя, который сделал более 50 оценок в таблице 'ratings'\n",
    "\n",
    "select(\n",
    "    '''\n",
    "\n",
    "-- функцией COUNT(DISTINCT) подсчитываем уникальные тексты отзывов и уникальные имена пользователей, --\n",
    "-- которые оставили отзывы, и вычисляем среднее количество отзывов на пользователя с помощью деления --\n",
    "    SELECT \n",
    "    COUNT(DISTINCT review.text)/ COUNT(DISTINCT review.username) AS avg_review_count\n",
    "    FROM ratings AS r\n",
    "\n",
    "-- объединяем таблицы 'ratings' и 'reviews' с помощью оператора INNER JOIN, --\n",
    "-- чтобы связать отзывы с соответствующими оценками по имени пользователя --\n",
    "    INNER JOIN reviews AS review\n",
    "    ON r.username = review.username\n",
    "\n",
    "-- прописываем условие фильтрации, чтобы выбрать только пользователей, которые оставили более 50 оценок --\n",
    "    WHERE r.username in ( \n",
    "                    SELECT username\n",
    "                    FROM ratings\n",
    "                    GROUP BY username\n",
    "                    HAVING COUNT(rating_id) > 50\n",
    "                    )\n",
    "'''\n",
    ")"
   ]
  },
  {
   "cell_type": "markdown",
   "metadata": {},
   "source": [
    "Пользователи, которые поставили больше 50 оценок - в среднем выпускают 24 обзора. "
   ]
  },
  {
   "cell_type": "markdown",
   "metadata": {},
   "source": [
    "___\n",
    "# 4. Выводы\n",
    "\n",
    "В базе всего 1000 книг, из них 821 вышла с 2020 года. \n",
    "\n",
    "По всем книгам в базе посчитан рейтинг и отзывы. \n",
    "\n",
    "Больше всего многостраничных книг (от 50) выпустило издание Penguin Books. \n",
    "\n",
    "Автор с самой высокой средней оценкой книг, среди тех, которые получили более 50 оценок - J.K. Rowling/Mary GrandPré.\n",
    "\n",
    "Пользователи, которые поставили больше 50 оценок - в среднем выпускают 24 обзора.\n",
    "\n",
    "**Предложение:** расширить асортимент книг, получивших более 50 оценок, так как среди них будут самык популярные и востребованные книги."
   ]
  }
 ],
 "metadata": {
  "ExecuteTimeLog": [
   {
    "duration": 7916,
    "start_time": "2023-04-05T04:03:10.591Z"
   },
   {
    "duration": 73,
    "start_time": "2023-04-05T04:03:30.139Z"
   },
   {
    "duration": 5,
    "start_time": "2023-04-05T04:04:26.776Z"
   },
   {
    "duration": 8,
    "start_time": "2023-04-05T04:04:27.444Z"
   },
   {
    "duration": 3,
    "start_time": "2023-04-05T04:14:48.025Z"
   },
   {
    "duration": 9,
    "start_time": "2023-04-05T04:17:13.850Z"
   },
   {
    "duration": 14,
    "start_time": "2023-04-05T04:17:22.038Z"
   },
   {
    "duration": 3,
    "start_time": "2023-04-05T04:17:32.310Z"
   },
   {
    "duration": 276,
    "start_time": "2023-04-05T04:17:32.855Z"
   },
   {
    "duration": 71,
    "start_time": "2023-04-05T04:20:39.605Z"
   },
   {
    "duration": 79,
    "start_time": "2023-04-05T04:20:50.934Z"
   },
   {
    "duration": 77,
    "start_time": "2023-04-05T04:20:55.125Z"
   },
   {
    "duration": 78,
    "start_time": "2023-04-05T04:22:00.166Z"
   },
   {
    "duration": 79,
    "start_time": "2023-04-05T04:23:13.462Z"
   },
   {
    "duration": 71,
    "start_time": "2023-04-05T04:23:56.977Z"
   },
   {
    "duration": 93,
    "start_time": "2023-04-05T04:29:32.021Z"
   },
   {
    "duration": 55,
    "start_time": "2023-04-05T04:30:31.525Z"
   },
   {
    "duration": 48,
    "start_time": "2023-04-05T04:31:31.648Z"
   },
   {
    "duration": 45,
    "start_time": "2023-04-05T04:37:08.291Z"
   },
   {
    "duration": 129,
    "start_time": "2023-04-05T04:37:41.324Z"
   },
   {
    "duration": 139,
    "start_time": "2023-04-05T04:38:43.474Z"
   },
   {
    "duration": 71,
    "start_time": "2023-04-05T04:39:25.436Z"
   },
   {
    "duration": 57,
    "start_time": "2023-04-05T04:40:34.666Z"
   },
   {
    "duration": 5,
    "start_time": "2023-04-05T05:01:05.355Z"
   },
   {
    "duration": 2,
    "start_time": "2023-04-05T05:01:05.624Z"
   },
   {
    "duration": 253,
    "start_time": "2023-04-05T05:01:05.803Z"
   },
   {
    "duration": 71,
    "start_time": "2023-04-05T05:01:06.059Z"
   },
   {
    "duration": 71,
    "start_time": "2023-04-05T05:01:06.413Z"
   },
   {
    "duration": 71,
    "start_time": "2023-04-05T05:01:07.013Z"
   },
   {
    "duration": 72,
    "start_time": "2023-04-05T05:01:07.496Z"
   },
   {
    "duration": 70,
    "start_time": "2023-04-05T05:01:12.874Z"
   },
   {
    "duration": 138,
    "start_time": "2023-04-05T05:01:15.334Z"
   },
   {
    "duration": 135,
    "start_time": "2023-04-05T05:01:28.113Z"
   },
   {
    "duration": 119,
    "start_time": "2023-04-05T05:08:16.740Z"
   },
   {
    "duration": 163,
    "start_time": "2023-04-05T05:12:35.937Z"
   },
   {
    "duration": 145,
    "start_time": "2023-04-05T05:12:44.309Z"
   },
   {
    "duration": 74,
    "start_time": "2023-04-05T05:13:16.373Z"
   },
   {
    "duration": 118,
    "start_time": "2023-04-05T05:13:33.560Z"
   },
   {
    "duration": 142,
    "start_time": "2023-04-05T05:23:10.915Z"
   },
   {
    "duration": 131,
    "start_time": "2023-04-05T05:23:23.197Z"
   },
   {
    "duration": 136,
    "start_time": "2023-04-05T05:23:32.215Z"
   },
   {
    "duration": 145,
    "start_time": "2023-04-05T05:23:47.756Z"
   },
   {
    "duration": 169,
    "start_time": "2023-04-05T05:28:18.687Z"
   },
   {
    "duration": 82,
    "start_time": "2023-04-05T05:28:33.164Z"
   },
   {
    "duration": 72,
    "start_time": "2023-04-05T05:28:45.635Z"
   },
   {
    "duration": 86,
    "start_time": "2023-04-05T05:37:33.891Z"
   },
   {
    "duration": 72,
    "start_time": "2023-04-05T05:39:32.191Z"
   },
   {
    "duration": 291,
    "start_time": "2023-04-05T06:11:14.202Z"
   },
   {
    "duration": 145,
    "start_time": "2023-04-05T06:12:14.425Z"
   },
   {
    "duration": 81,
    "start_time": "2023-04-05T06:12:22.625Z"
   },
   {
    "duration": 74,
    "start_time": "2023-04-05T06:13:55.275Z"
   },
   {
    "duration": 288,
    "start_time": "2023-04-05T06:22:31.797Z"
   },
   {
    "duration": 90,
    "start_time": "2023-04-05T06:30:41.184Z"
   },
   {
    "duration": 74,
    "start_time": "2023-04-05T06:31:50.393Z"
   },
   {
    "duration": 59,
    "start_time": "2023-04-05T06:32:59.701Z"
   },
   {
    "duration": 80,
    "start_time": "2023-04-05T06:34:57.642Z"
   },
   {
    "duration": 74,
    "start_time": "2023-04-05T06:42:25.390Z"
   },
   {
    "duration": 108,
    "start_time": "2023-04-05T06:44:28.493Z"
   },
   {
    "duration": 126,
    "start_time": "2023-04-05T06:45:19.753Z"
   },
   {
    "duration": 136,
    "start_time": "2023-04-05T06:46:14.367Z"
   },
   {
    "duration": 109,
    "start_time": "2023-04-05T06:46:22.665Z"
   },
   {
    "duration": 112,
    "start_time": "2023-04-05T06:48:48.552Z"
   },
   {
    "duration": 73,
    "start_time": "2023-04-05T06:56:13.577Z"
   },
   {
    "duration": 79,
    "start_time": "2023-04-05T07:02:10.029Z"
   },
   {
    "duration": 73,
    "start_time": "2023-04-05T07:05:06.169Z"
   },
   {
    "duration": 76,
    "start_time": "2023-04-05T07:08:53.470Z"
   },
   {
    "duration": 79,
    "start_time": "2023-04-05T07:13:19.039Z"
   },
   {
    "duration": 50,
    "start_time": "2023-04-06T10:06:32.067Z"
   },
   {
    "duration": 433,
    "start_time": "2023-04-06T10:06:34.386Z"
   },
   {
    "duration": 7770,
    "start_time": "2023-04-06T10:06:35.109Z"
   }
  ],
  "kernelspec": {
   "display_name": "Python 3 (ipykernel)",
   "language": "python",
   "name": "python3"
  },
  "language_info": {
   "codemirror_mode": {
    "name": "ipython",
    "version": 3
   },
   "file_extension": ".py",
   "mimetype": "text/x-python",
   "name": "python",
   "nbconvert_exporter": "python",
   "pygments_lexer": "ipython3",
   "version": "3.9.5"
  },
  "toc": {
   "base_numbering": 1,
   "nav_menu": {},
   "number_sections": true,
   "sideBar": true,
   "skip_h1_title": true,
   "title_cell": "Table of Contents",
   "title_sidebar": "Contents",
   "toc_cell": false,
   "toc_position": {},
   "toc_section_display": true,
   "toc_window_display": true
  }
 },
 "nbformat": 4,
 "nbformat_minor": 2
}
